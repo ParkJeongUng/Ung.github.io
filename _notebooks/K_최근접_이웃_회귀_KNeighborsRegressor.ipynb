{
  "nbformat": 4,
  "nbformat_minor": 0,
  "metadata": {
    "colab": {
      "name": "K - 최근접 이웃 회귀 // KNeighborsRegressor",
      "provenance": [],
      "collapsed_sections": [
        "anAnDWYn_iKU"
      ],
      "toc_visible": true,
      "authorship_tag": "ABX9TyN5YgzS3FrbDIjug2wV/8LI",
      "include_colab_link": true
    },
    "kernelspec": {
      "name": "python3",
      "display_name": "Python 3"
    },
    "language_info": {
      "name": "python"
    }
  },
  "cells": [
    {
      "cell_type": "markdown",
      "metadata": {
        "id": "view-in-github",
        "colab_type": "text"
      },
      "source": [
        "<a href=\"https://colab.research.google.com/github/ParkJeongUng/Ung.github.io/blob/master/_notebooks/K_%EC%B5%9C%EA%B7%BC%EC%A0%91_%EC%9D%B4%EC%9B%83_%ED%9A%8C%EA%B7%80_KNeighborsRegressor.ipynb\" target=\"_parent\"><img src=\"https://colab.research.google.com/assets/colab-badge.svg\" alt=\"Open In Colab\"/></a>"
      ]
    },
    {
      "cell_type": "markdown",
      "metadata": {
        "id": "anAnDWYn_iKU"
      },
      "source": [
        "# K - 최근접 이웃 회귀 // KNeighborsRegressor"
      ]
    },
    {
      "cell_type": "markdown",
      "metadata": {
        "id": "mpml9ERb_yp8"
      },
      "source": [
        "## 회귀\n",
        "* 임의의 어떤 숫자를 예측\n",
        "* 두 변수 사이의 상관관계를 분석하는 방법"
      ]
    },
    {
      "cell_type": "code",
      "metadata": {
        "id": "jNXgZQ5fAqTQ"
      },
      "source": [
        "import numpy as np\n",
        "\n",
        "# 농어의 특성 = 길이\n",
        "perch_length = np.array([8.4, 13.7, 15.0, 16.2, 17.4, 18.0, 18.7, 19.0, 19.6, 20.0, 21.0,\n",
        "       21.0, 21.0, 21.3, 22.0, 22.0, 22.0, 22.0, 22.0, 22.5, 22.5, 22.7,\n",
        "       23.0, 23.5, 24.0, 24.0, 24.6, 25.0, 25.6, 26.5, 27.3, 27.5, 27.5,\n",
        "       27.5, 28.0, 28.7, 30.0, 32.8, 34.5, 35.0, 36.5, 36.0, 37.0, 37.0,\n",
        "       39.0, 39.0, 39.0, 40.0, 40.0, 40.0, 40.0, 42.0, 43.0, 43.0, 43.5,\n",
        "       44.0])\n",
        "# 농어의 타겟 = 무게\n",
        "perch_weight = np.array([5.9, 32.0, 40.0, 51.5, 70.0, 100.0, 78.0, 80.0, 85.0, 85.0, 110.0,\n",
        "       115.0, 125.0, 130.0, 120.0, 120.0, 130.0, 135.0, 110.0, 130.0,\n",
        "       150.0, 145.0, 150.0, 170.0, 225.0, 145.0, 188.0, 180.0, 197.0,\n",
        "       218.0, 300.0, 260.0, 265.0, 250.0, 250.0, 300.0, 320.0, 514.0,\n",
        "       556.0, 840.0, 685.0, 700.0, 700.0, 690.0, 900.0, 650.0, 820.0,\n",
        "       850.0, 900.0, 1015.0, 820.0, 1100.0, 1000.0, 1100.0, 1000.0,\n",
        "       1000.0])"
      ],
      "execution_count": null,
      "outputs": []
    },
    {
      "cell_type": "code",
      "metadata": {
        "colab": {
          "base_uri": "https://localhost:8080/",
          "height": 279
        },
        "id": "yiBOyOxtA3LW",
        "outputId": "232bb8c1-d3a8-4297-b9b9-e6b669c0b487"
      },
      "source": [
        "# 이 데이터의 형태를 보기 위한 산점도 그리기\n",
        "import matplotlib.pyplot as plt\n",
        "\n",
        "plt.scatter(perch_length, perch_weight)\n",
        "plt.xlabel('length')\n",
        "plt.ylabel('weight')\n",
        "plt.show()\n",
        "\n",
        "# 농어의 길이가 길어질수록 무게가 늘어난다."
      ],
      "execution_count": null,
      "outputs": [
        {
          "output_type": "display_data",
          "data": {
            "image/png": "[encoded data removed]",
            "text/plain": [
              "<Figure size 432x288 with 1 Axes>"
            ]
          },
          "metadata": {
            "needs_background": "light"
          }
        }
      ]
    },
    {
      "cell_type": "code",
      "metadata": {
        "id": "HS8AgcW4Bc1S"
      },
      "source": [
        "# train 세트와 test 세트로 나누기\n",
        "from sklearn.model_selection import train_test_split\n",
        "train_input, test_input, train_target, test_target = train_test_split(perch_length, perch_weight, random_state = 42)"
      ],
      "execution_count": null,
      "outputs": []
    },
    {
      "cell_type": "code",
      "metadata": {
        "colab": {
          "base_uri": "https://localhost:8080/"
        },
        "id": "VSLCjxFCCM8-",
        "outputId": "bb4c2814-ee0a-4366-f9fa-6b988c503c79"
      },
      "source": [
        "# 사이킷런에 사용할 훈련 세트는 2차원 배열이어야 한다. --> 수동으로 1차원 배열을 2차원 배열로 만들어줘야 한다 --> reshape()\n",
        "# reshape 메서드는 크기에 -1 을 지정하면 남은 원소 개수로 모두 채우라는 의미\n",
        "train_input = train_input.reshape(-1, 1) # == train_input.reshape(42, 1)\n",
        "print(train_input.shape)\n",
        "\n",
        "test_input = test_input.reshape(-1, 1)\n",
        "print(test_input.shape)"
      ],
      "execution_count": null,
      "outputs": [
        {
          "output_type": "stream",
          "name": "stdout",
          "text": [
            "(42, 1)\n",
            "(14, 1)\n"
          ]
        }
      ]
    },
    {
      "cell_type": "code",
      "metadata": {
        "colab": {
          "base_uri": "https://localhost:8080/"
        },
        "id": "MxxLnmTeW3_a",
        "outputId": "d30b8869-f552-46f0-ac8b-2b98dae02723"
      },
      "source": [
        "# KNeighborsRegressor 모델 훈련\n",
        "from sklearn.neighbors import KNeighborsRegressor\n",
        "knr = KNeighborsRegressor()\n",
        "knr.fit(train_input, train_target)\n",
        "\n",
        "print(knr.score(test_input, test_target))\n",
        "# 스코어가 1이 안나왔다 --> 회귀에서는 정확한 숫자를 맞힌다는 것이 거의 불가능하다. --> 예측하는 값이 모두 임의의 수치이기 때문"
      ],
      "execution_count": null,
      "outputs": [
        {
          "output_type": "stream",
          "name": "stdout",
          "text": [
            "0.9928094061010639\n"
          ]
        }
      ]
    },
    {
      "cell_type": "code",
      "metadata": {
        "colab": {
          "base_uri": "https://localhost:8080/"
        },
        "id": "bvk4AK2nXaer",
        "outputId": "1e328b5f-6155-4304-c73f-ee3a36658675"
      },
      "source": [
        "# 어느정도 예측이 벗어났는지 확인하기 --> 타깃과 예측한 값 사이의 차이를 확인 --> mean_absolute_error --> 타깃과 예측의 절댓값 오차의 평균\n",
        "from sklearn.metrics import mean_absolute_error\n",
        "\n",
        "# 테스트 세트의 예측값을 만든다.\n",
        "test_prediction = knr.predict(test_input)\n",
        "\n",
        "# 테스트 세트에 대한 절댓값 오차의 평균을 구한다.\n",
        "mae = mean_absolute_error(test_target, test_prediction)\n",
        "mae\n",
        "\n",
        "# 19그람 정도의 오차가 발생한다."
      ],
      "execution_count": null,
      "outputs": [
        {
          "output_type": "execute_result",
          "data": {
            "text/plain": [
              "19.157142857142862"
            ]
          },
          "metadata": {},
          "execution_count": 44
        }
      ]
    },
    {
      "cell_type": "markdown",
      "metadata": {
        "id": "GRriPYoiY4FN"
      },
      "source": [
        "## 훈련 세트를 사용해 모델 평가하기 // 과소적합, 과대적합\n",
        "* score(train) > score(test) --> 모델이 훈련세트에 과대적합 되었다. --> 실전에 투입하면 예측이 잘 안됨 --> 모델을 덜 복잡하게 만들어 해결한다. --> 이웃의 개수를 늘린다\n",
        "* score(train) < score(test) --> 모델이 훈련세트에 과소적합 되었다. --> 모델이 너무 단순하다. --> 모델을 더 복잡하게 만들어 해결한다. --> 이웃의 개수를 줄인다. "
      ]
    },
    {
      "cell_type": "code",
      "metadata": {
        "colab": {
          "base_uri": "https://localhost:8080/"
        },
        "id": "Lbd7GvvfZAM7",
        "outputId": "1c579944-dc8f-4013-ab11-149543771c2b"
      },
      "source": [
        "# 훈련 세트로 점수 확인하기\n",
        "print(knr.score(train_input, train_target))\n",
        "\n",
        "# 테스트 세트로 점수 확인하기\n",
        "print(knr.score(test_input, test_target))\n",
        "\n",
        "# score(train) < score(test) --> 과소적합 --> 데이터가 작을경우 과소적합이 발생할 수 있다."
      ],
      "execution_count": null,
      "outputs": [
        {
          "output_type": "stream",
          "name": "stdout",
          "text": [
            "0.9698823289099255\n",
            "0.9928094061010639\n"
          ]
        }
      ]
    },
    {
      "cell_type": "code",
      "metadata": {
        "id": "aVGo5Q3Gappk",
        "colab": {
          "base_uri": "https://localhost:8080/"
        },
        "outputId": "7f548b1c-f4fc-4e09-a486-42f4359630fb"
      },
      "source": [
        "# 과소적합을 해결하기 위해 모델을 복잡하게 만든다. --> n_neighbors의 개수를 줄인다.\n",
        "knr.n_neighbors = 3\n",
        "\n",
        "knr.fit(train_input, train_target)\n",
        "print(knr.score(train_input, train_target))\n",
        "print(knr.score(test_input, test_target))\n",
        "\n",
        "# 이웃의 개수를 줄였더니 train 세트와 test 세트의 score가 비슷하게 나온다."
      ],
      "execution_count": null,
      "outputs": [
        {
          "output_type": "stream",
          "name": "stdout",
          "text": [
            "0.9804899950518966\n",
            "0.974645996398761\n"
          ]
        }
      ]
    },
    {
      "cell_type": "markdown",
      "metadata": {
        "id": "GUxe8-Pels08"
      },
      "source": [
        "## 연습"
      ]
    },
    {
      "cell_type": "code",
      "metadata": {
        "colab": {
          "base_uri": "https://localhost:8080/"
        },
        "id": "nHVuFkVYlv3W",
        "outputId": "72b9f212-c66e-4250-d780-266da6f2fcdb"
      },
      "source": [
        "# 농어의 특성 = 길이\n",
        "\n",
        "import numpy as np\n",
        "perch_length = np.array([8.4, 13.7, 15.0, 16.2, 17.4, 18.0, 18.7, 19.0, 19.6, 20.0, 21.0,\n",
        "       21.0, 21.0, 21.3, 22.0, 22.0, 22.0, 22.0, 22.0, 22.5, 22.5, 22.7,\n",
        "       23.0, 23.5, 24.0, 24.0, 24.6, 25.0, 25.6, 26.5, 27.3, 27.5, 27.5,\n",
        "       27.5, 28.0, 28.7, 30.0, 32.8, 34.5, 35.0, 36.5, 36.0, 37.0, 37.0,\n",
        "       39.0, 39.0, 39.0, 40.0, 40.0, 40.0, 40.0, 42.0, 43.0, 43.0, 43.5,\n",
        "       44.0])\n",
        "\n",
        "# 농어의 타겟 = 무게\n",
        "perch_weight = np.array([5.9, 32.0, 40.0, 51.5, 70.0, 100.0, 78.0, 80.0, 85.0, 85.0, 110.0,\n",
        "       115.0, 125.0, 130.0, 120.0, 120.0, 130.0, 135.0, 110.0, 130.0,\n",
        "       150.0, 145.0, 150.0, 170.0, 225.0, 145.0, 188.0, 180.0, 197.0,\n",
        "       218.0, 300.0, 260.0, 265.0, 250.0, 250.0, 300.0, 320.0, 514.0,\n",
        "       556.0, 840.0, 685.0, 700.0, 700.0, 690.0, 900.0, 650.0, 820.0,\n",
        "       850.0, 900.0, 1015.0, 820.0, 1100.0, 1000.0, 1100.0, 1000.0,\n",
        "       1000.0])\n",
        "\n",
        "# train test split\n",
        "from sklearn.model_selection import train_test_split\n",
        "train_input, test_input, train_target, test_target = train_test_split(perch_length, perch_weight, random_state = 42)\n",
        "\n",
        "# 2차원 배열로 변형\n",
        "train_input = train_input.reshape(-1, 1)\n",
        "test_input = test_input.reshape(-1, 1)\n",
        "\n",
        "# 모델링\n",
        "from sklearn.neighbors import KNeighborsRegressor\n",
        "knr = KNeighborsRegressor()\n",
        "knr.fit(train_input, train_target)\n",
        "\n",
        "# 스코어\n",
        "knr.score(test_input, test_target)\n",
        "\n",
        "# 오차확인 mean absoulte error\n",
        "from sklearn.metrics import mean_absolute_error\n",
        "test_prediction = knr.predict(test_input)\n",
        "mae = mean_absolute_error(test_target, test_prediction)\n",
        "\n",
        "# 과소적합 --> 테스트세트 스코어가 트레인세트 스코어보다 높다\n",
        "print(knr.score(train_input, train_target))\n",
        "print(knr.score(test_input, test_target))\n",
        "\n",
        "# 과소적합 해결 --> 모델을 복잡하게 만든다. --> 이웃수 줄이기\n",
        "knr.n_neighbors = 3\n",
        "knr.fit(train_input, train_target)\n",
        "print(knr.score(train_input, train_target))\n",
        "print(knr.score(test_input, test_target))\n"
      ],
      "execution_count": null,
      "outputs": [
        {
          "output_type": "stream",
          "name": "stdout",
          "text": [
            "0.9698823289099255\n",
            "0.9928094061010639\n",
            "0.9804899950518966\n",
            "0.974645996398761\n"
          ]
        }
      ]
    },
    {
      "cell_type": "code",
      "metadata": {
        "colab": {
          "base_uri": "https://localhost:8080/",
          "height": 851
        },
        "id": "QaelnHSGwfr2",
        "outputId": "9a04cbd9-9933-4d13-e76c-b9a31cbe6bc9"
      },
      "source": [
        "# 모델의 복잡성 확인하기\n",
        "# n_neighbors = [1, 5, 10]\n",
        "# 농어의 길이를 5에서 45까지 바꿔가며 모델링 결과 확인하기\n",
        "\n",
        "from sklearn.neighbors import KNeighborsRegressor\n",
        "import matplotlib.pyplot as plt\n",
        "knr = KNeighborsRegressor()\n",
        "x = np.arange(5, 45).reshape(-1, 1)\n",
        "\n",
        "for n in [1, 5, 10]:\n",
        "  knr.n_neighbors = n\n",
        "  knr.fit(train_input, train_target)\n",
        "  predict = knr.predict(x)\n",
        "\n",
        "  \n",
        "  plt.scatter(train_input, train_target)\n",
        "  plt.scatter(x, predict, marker = '^')\n",
        "  plt.title(\"n_neighbors = {}\".format(n))\n",
        "  plt.xlabel('length')\n",
        "  plt.ylabel('weight')\n",
        "  plt.show()"
      ],
      "execution_count": null,
      "outputs": [
        {
          "output_type": "display_data",
          "data": {
            "image/png": "[encoded data removed]",
            "text/plain": [
              "<Figure size 432x288 with 1 Axes>"
            ]
          },
          "metadata": {
            "needs_background": "light"
          }
        },
        {
          "output_type": "display_data",
          "data": {
            "image/png": "[encoded data removed]",
            "text/plain": [
              "<Figure size 432x288 with 1 Axes>"
            ]
          },
          "metadata": {
            "needs_background": "light"
          }
        },
        {
          "output_type": "display_data",
          "data": {
            "image/png": "[encoded data removed]",
            "text/plain": [
              "<Figure size 432x288 with 1 Axes>"
            ]
          },
          "metadata": {
            "needs_background": "light"
          }
        }
      ]
    }
  ]
}