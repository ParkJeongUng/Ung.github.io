{
  "nbformat": 4,
  "nbformat_minor": 0,
  "metadata": {
    "colab": {
      "name": "교차 검증 cross validation //  그리드 서치 GridSearchCV // 랜덤서치 RandomizedSearchCV",
      "provenance": [],
      "collapsed_sections": [],
      "toc_visible": true,
      "authorship_tag": "ABX9TyPochT5ZZWeRZIdAfgV8gyx",
      "include_colab_link": true
    },
    "kernelspec": {
      "name": "python3",
      "display_name": "Python 3"
    },
    "language_info": {
      "name": "python"
    }
  },
  "cells": [
    {
      "cell_type": "markdown",
      "metadata": {
        "id": "view-in-github",
        "colab_type": "text"
      },
      "source": [
        "<a href=\"https://colab.research.google.com/github/ParkJeongUng/Ung.github.io/blob/master/_notebooks/%EA%B5%90%EC%B0%A8_%EA%B2%80%EC%A6%9D_cross_validation_%EA%B7%B8%EB%A6%AC%EB%93%9C_%EC%84%9C%EC%B9%98_GridSearchCV_%EB%9E%9C%EB%8D%A4%EC%84%9C%EC%B9%98_RandomizedSearchCV.ipynb\" target=\"_parent\"><img src=\"https://colab.research.google.com/assets/colab-badge.svg\" alt=\"Open In Colab\"/></a>"
      ]
    },
    {
      "cell_type": "markdown",
      "metadata": {
        "id": "t1-dqzKI--h4"
      },
      "source": [
        "# 교차 검증 cross validation //  그리드 서치 GridSearchCV // 랜덤서치 RandomizedSearchCV"
      ]
    },
    {
      "cell_type": "markdown",
      "metadata": {
        "id": "9t3_6g2F_eM7"
      },
      "source": [
        "## 검증 세트\n",
        "* 훈련 세트를 한번 더 나눠서 테스트 세트 이외의 새로운 데이터 세트를 만든다.\n",
        "* 만들어진 검증세트는 모델의 가장 좋은 매개변수를 찾는데 사용된다."
      ]
    },
    {
      "cell_type": "code",
      "metadata": {
        "id": "RI2-G6JO_Ch9"
      },
      "source": [
        "# 데이터 준비|\n",
        "import pandas as pd\n",
        "wine = pd.read_csv('https://bit.ly/wine_csv_data')"
      ],
      "execution_count": null,
      "outputs": []
    },
    {
      "cell_type": "code",
      "metadata": {
        "id": "n_2ugsaS_5kX"
      },
      "source": [
        "wine_input = wine[['alcohol', 'sugar', 'pH']].to_numpy()\n",
        "wine_target = wine['class'].to_numpy()"
      ],
      "execution_count": null,
      "outputs": []
    },
    {
      "cell_type": "code",
      "metadata": {
        "id": "RX0t0dCGAAUN"
      },
      "source": [
        "# 훈련세트와 테스트 세트 나누기\n",
        "from sklearn.model_selection import train_test_split\n",
        "train_input, test_input, train_target, test_target = train_test_split(wine_input, wine_target, test_size = 0.2, random_state = 42)"
      ],
      "execution_count": null,
      "outputs": []
    },
    {
      "cell_type": "code",
      "metadata": {
        "id": "yKes-AodAaLf"
      },
      "source": [
        "# 나누어진 훈련세트를 이용하여 새로운 훈련세트와 검증 세트 만들기\n",
        "sub_input, val_input, sub_target, val_target = train_test_split(train_input, train_target, test_size = 0.2, random_state = 42)"
      ],
      "execution_count": null,
      "outputs": []
    },
    {
      "cell_type": "code",
      "metadata": {
        "colab": {
          "base_uri": "https://localhost:8080/"
        },
        "id": "5c-2jqEzAwGj",
        "outputId": "7cbf7ea6-7c69-4c75-9cb6-ebac23a22b37"
      },
      "source": [
        "# 나누어진 데이터 크기 확인\n",
        "print(train_input.shape)\n",
        "print(sub_input.shape, val_input.shape)"
      ],
      "execution_count": null,
      "outputs": [
        {
          "output_type": "stream",
          "name": "stdout",
          "text": [
            "(5197, 3)\n",
            "(4157, 3) (1040, 3)\n"
          ]
        }
      ]
    },
    {
      "cell_type": "code",
      "metadata": {
        "colab": {
          "base_uri": "https://localhost:8080/"
        },
        "id": "A8ixkbj6BPfp",
        "outputId": "f7bb3f0f-8493-4396-93a6-52c68057cbdb"
      },
      "source": [
        "# 만들어진 새로운 훈련 세트로 훈련하고 검증세트로 평가하기\n",
        "from sklearn.tree import DecisionTreeClassifier\n",
        "dt = DecisionTreeClassifier(random_state = 42)\n",
        "dt.fit(sub_input, sub_target)\n",
        "print(dt.score(sub_input, sub_target))\n",
        "print(dt.score(val_input, val_target))\n",
        "\n",
        "# 훈련 세트에 과대적합된 모델 --> 좋은 하이퍼 파라미터를 찾아야함"
      ],
      "execution_count": null,
      "outputs": [
        {
          "output_type": "stream",
          "name": "stdout",
          "text": [
            "0.9971133028626413\n",
            "0.864423076923077\n"
          ]
        }
      ]
    },
    {
      "cell_type": "markdown",
      "metadata": {
        "id": "nomjDcKSCCmV"
      },
      "source": [
        "## 교차 검증 // cross validation --> 검증 세트를 떼어 내어 평가하는 과정을 여러 번 반복한다.\n",
        "* 검증 세트를 만들었기에 훈련 세트의 데이터 수가 줄어듦\n",
        "* 교차검증을 이용하면 안정적인 검증점수와 더 많은 데이터를 훈련에 사용할 수 있다.\n"
      ]
    },
    {
      "cell_type": "code",
      "metadata": {
        "colab": {
          "base_uri": "https://localhost:8080/"
        },
        "id": "LTniGVcYCCFS",
        "outputId": "658e3566-8d75-4d75-9d5a-8db09454add8"
      },
      "source": [
        "# cross_validate\n",
        "from sklearn.model_selection import cross_validate\n",
        "scores = cross_validate(dt, train_input, train_target)\n",
        "print(scores) \n",
        "\n",
        "# fit_time = 모델 훈련하는데 걸린 시간\n",
        "# score_time = 모델 검증하는데 걸린 시간\n",
        "# test_score = 검증 점수"
      ],
      "execution_count": null,
      "outputs": [
        {
          "output_type": "stream",
          "name": "stdout",
          "text": [
            "{'fit_time': array([0.00829268, 0.00734234, 0.00762033, 0.00749898, 0.00734591]), 'score_time': array([0.00101829, 0.00070906, 0.00075388, 0.00072241, 0.00079203]), 'test_score': array([0.86923077, 0.84615385, 0.87680462, 0.84889317, 0.83541867])}\n"
          ]
        }
      ]
    },
    {
      "cell_type": "code",
      "metadata": {
        "colab": {
          "base_uri": "https://localhost:8080/"
        },
        "id": "mTnPZ5YfDyiE",
        "outputId": "017663f7-5e1e-4c88-958e-12d0f02a3b41"
      },
      "source": [
        "# 검증 점수의 평균\n",
        "import numpy as np\n",
        "print(np.mean(scores['test_score']))"
      ],
      "execution_count": null,
      "outputs": [
        {
          "output_type": "stream",
          "name": "stdout",
          "text": [
            "0.855300214703487\n"
          ]
        }
      ]
    },
    {
      "cell_type": "code",
      "metadata": {
        "colab": {
          "base_uri": "https://localhost:8080/"
        },
        "id": "RMLWn8PdEk_u",
        "outputId": "105ec404-960b-4d33-8825-c9230e94f725"
      },
      "source": [
        "# 회귀 모델일 경우 KFold()\n",
        "# 분류 모델일 경우 StratifiedKFold()\n",
        "\n",
        "# 분류 모델인 DecisionTreeClassifier 는 StratifiedKFold() 사용\n",
        "from sklearn.model_selection import StratifiedKFold\n",
        "scores = cross_validate(dt, train_input, train_target, cv = StratifiedKFold())\n",
        "print(scores) "
      ],
      "execution_count": null,
      "outputs": [
        {
          "output_type": "stream",
          "name": "stdout",
          "text": [
            "{'fit_time': array([0.01132774, 0.00710869, 0.00750995, 0.00733685, 0.00716186]), 'score_time': array([0.00084209, 0.00075936, 0.00071144, 0.00073504, 0.00069094]), 'test_score': array([0.86923077, 0.84615385, 0.87680462, 0.84889317, 0.83541867])}\n"
          ]
        }
      ]
    },
    {
      "cell_type": "code",
      "metadata": {
        "colab": {
          "base_uri": "https://localhost:8080/"
        },
        "id": "RWhU9KiMFY7C",
        "outputId": "04fe516a-4ca6-4da2-8782-d9ac6d0fae39"
      },
      "source": [
        "# cross_validate() 는 훈련세트를 섞지 않는다 --> 우리는 train_test_split으로 이미 데이터를 섞어서 나눴기 때문에 상관없음 --> shuffle = True\n",
        "splitter = StratifiedKFold(n_splits = 10, shuffle = True, random_state = 42) # n_splits --> 몇폴드 교차검증을 할지 결정 --> 기본은 5폴드\n",
        "scores = cross_validate(dt, train_input, train_target, cv = splitter)\n",
        "print(np.mean(scores['test_score'])) "
      ],
      "execution_count": null,
      "outputs": [
        {
          "output_type": "stream",
          "name": "stdout",
          "text": [
            "0.8574181117533719\n"
          ]
        }
      ]
    },
    {
      "cell_type": "markdown",
      "metadata": {
        "id": "LZWJj4w41Dea"
      },
      "source": [
        "## 연습"
      ]
    },
    {
      "cell_type": "code",
      "metadata": {
        "colab": {
          "base_uri": "https://localhost:8080/"
        },
        "id": "qzW_3Ldg1DIc",
        "outputId": "c84b69ad-a214-4856-b051-a0e9e26e94a9"
      },
      "source": [
        "import pandas as pd\n",
        "wine = pd.read_csv('https://bit.ly/wine_csv_data')\n",
        "wine.head()\n",
        "\n",
        "wine_input = wine[['alcohol', 'sugar', 'pH']].to_numpy()\n",
        "wine_target = wine['class'].to_numpy()\n",
        "\n",
        "from sklearn.model_selection import train_test_split\n",
        "train_input, test_input, train_target, test_target = train_test_split(wine_input, wine_target, random_state = 42, test_size = 0.2)\n",
        "sub_input, val_input, sub_target, val_target = train_test_split(train_input, train_target, random_state = 42, test_size = 0.2)\n",
        "\n",
        "from sklearn.tree import DecisionTreeClassifier\n",
        "dt = DecisionTreeClassifier(random_state = 42)\n",
        "dt.fit(sub_input, sub_target)\n",
        "print(dt.score(sub_input, sub_target))\n",
        "print(dt.score(val_input, val_target))\n",
        "\n",
        "from sklearn.model_selection import cross_validate\n",
        "score = cross_validate(dt, train_input, train_target)\n",
        "print(score)\n",
        "\n",
        "import numpy as np\n",
        "print(np.mean(score['test_score']))\n",
        "\n",
        "from sklearn.model_selection import StratifiedKFold\n",
        "score = cross_validate(dt, train_input, train_target , cv = StratifiedKFold())\n",
        "\n",
        "splitter = StratifiedKFold(n_splits=10, shuffle = True, random_state = 42)\n",
        "score = cross_validate(dt, train_input, train_target, cv = splitter)\n",
        "print(score)\n",
        "print(np.mean(score['test_score']))"
      ],
      "execution_count": null,
      "outputs": [
        {
          "output_type": "stream",
          "name": "stdout",
          "text": [
            "0.9971133028626413\n",
            "0.864423076923077\n",
            "{'fit_time': array([0.00733209, 0.00694227, 0.00748754, 0.00725961, 0.00699782]), 'score_time': array([0.0006938 , 0.00061035, 0.00068307, 0.00061774, 0.00060177]), 'test_score': array([0.86923077, 0.84615385, 0.87680462, 0.84889317, 0.83541867])}\n",
            "0.855300214703487\n",
            "{'fit_time': array([0.00808716, 0.00804591, 0.00808191, 0.00787067, 0.00802708,\n",
            "       0.00803208, 0.00794387, 0.00791359, 0.00801635, 0.00786281]), 'score_time': array([0.00054526, 0.00052047, 0.00048876, 0.00051832, 0.00057459,\n",
            "       0.00050998, 0.00052834, 0.00052619, 0.00053453, 0.00055051]), 'test_score': array([0.83461538, 0.87884615, 0.85384615, 0.85384615, 0.84615385,\n",
            "       0.87307692, 0.85961538, 0.85549133, 0.85163776, 0.86705202])}\n",
            "0.8574181117533719\n"
          ]
        }
      ]
    },
    {
      "cell_type": "markdown",
      "metadata": {
        "id": "P-ydtbYP849X"
      },
      "source": [
        ""
      ]
    },
    {
      "cell_type": "markdown",
      "metadata": {
        "id": "HyK94UnF87WS"
      },
      "source": [
        "## 그리드 서치\n",
        "* 파라미터를 바꿔가면서 교차 검증을 수행한다\n",
        "* 최적의 하이퍼 파라미터를 찾는다"
      ]
    },
    {
      "cell_type": "code",
      "metadata": {
        "id": "MWyAkH_X9jmM"
      },
      "source": [
        "# 그리드 서치 \n",
        "# 0.0001 ~ 0.0005 까지 0.0001 씩 증가하는 5개의 값을 시도\n",
        "from sklearn.model_selection import GridSearchCV\n",
        "\n",
        "# 파라미터를 딕셔너리 형태로 저장\n",
        "params = {'min_impurity_decrease' : [0.0001, 0.0002, 0.0003, 0.0004, 0.0005]}"
      ],
      "execution_count": null,
      "outputs": []
    },
    {
      "cell_type": "code",
      "metadata": {
        "id": "sTTs7Vkf-NWD"
      },
      "source": [
        "# 객체 만들기\n",
        "gs = GridSearchCV(DecisionTreeClassifier(random_state=42), params, n_jobs=-1) # n_jobs 는 cpu 코어 사용갯수 지정\n",
        "\n",
        "# 최적의 하이퍼파라미터를 찾았으면 전체 훈련세트로 모델을 다시 만든다\n",
        "gs.fit(train_input, train_target)"
      ],
      "execution_count": null,
      "outputs": []
    },
    {
      "cell_type": "code",
      "metadata": {
        "colab": {
          "base_uri": "https://localhost:8080/"
        },
        "id": "YRDU2YOo-lg1",
        "outputId": "01d2087a-6296-4e22-cc53-7dcdd320def3"
      },
      "source": [
        "# 그리드 서치는 모델 훈련이 끝나면 검증 점수가 가장 높은 모델의 매개변수 조합으로 다시 모델을 훈련함\n",
        "# 가장 높은 점수의 모델은 best_estimator_ 에 저장됨\n",
        "dt = gs.best_estimator_\n",
        "print(dt.score(train_input, train_target))\n",
        "print(dt.score(test_input, test_target))"
      ],
      "execution_count": null,
      "outputs": [
        {
          "output_type": "stream",
          "name": "stdout",
          "text": [
            "0.9615162593804117\n",
            "0.8653846153846154\n"
          ]
        }
      ]
    },
    {
      "cell_type": "code",
      "metadata": {
        "colab": {
          "base_uri": "https://localhost:8080/"
        },
        "id": "SyqtFaLmACCw",
        "outputId": "6886331c-51a8-42e8-8a3a-1a2b23eb937c"
      },
      "source": [
        "# 그리드 서치로 찾은 최적의 파라미터는 best_params_ 에 저장됨\n",
        "print(gs.best_params_)"
      ],
      "execution_count": null,
      "outputs": [
        {
          "output_type": "stream",
          "name": "stdout",
          "text": [
            "{'min_impurity_decrease': 0.0001}\n"
          ]
        }
      ]
    },
    {
      "cell_type": "code",
      "metadata": {
        "colab": {
          "base_uri": "https://localhost:8080/"
        },
        "id": "sdMvavo2ARve",
        "outputId": "cba14c66-34b1-481e-b8d9-9b85ad7ceaed"
      },
      "source": [
        "# 그리드 서치를 수행하면서 사용한 교차 검증의 점수는 cv_results_ 의 'mean_test_score' 에 저장됨\n",
        "print(gs.cv_results_['mean_test_score'])"
      ],
      "execution_count": null,
      "outputs": [
        {
          "output_type": "stream",
          "name": "stdout",
          "text": [
            "[0.86819297 0.86453617 0.86492226 0.86780891 0.86761605]\n"
          ]
        }
      ]
    },
    {
      "cell_type": "code",
      "metadata": {
        "id": "x3UiIs5rbmF4"
      },
      "source": [
        "# 여러가지의 파라미터를 그리드 서치로 한 번에 찾기\n",
        "params = {'min_impurity_decrease' : np.arange(0.0001, 0.001, 0.0001),\n",
        "          'max_depth' : range(5, 20, 1),\n",
        "          'min_samples_split' : range(2, 100, 10)\n",
        "          }"
      ],
      "execution_count": null,
      "outputs": []
    },
    {
      "cell_type": "code",
      "metadata": {
        "id": "_1CYMTF5dHVm"
      },
      "source": [
        "# 그리드 서치 수행\n",
        "gs = GridSearchCV(DecisionTreeClassifier(random_state = 42), params, n_jobs = -1)\n",
        "gs.fit(train_input, train_target)"
      ],
      "execution_count": null,
      "outputs": []
    },
    {
      "cell_type": "code",
      "metadata": {
        "colab": {
          "base_uri": "https://localhost:8080/"
        },
        "id": "h1dGFM1pddYH",
        "outputId": "0641b31a-f314-4e5e-a6db-11697ac927e3"
      },
      "source": [
        "# 최상의 매개변수 조합 확인\n",
        "print(gs.best_params_)"
      ],
      "execution_count": null,
      "outputs": [
        {
          "output_type": "stream",
          "name": "stdout",
          "text": [
            "{'max_depth': 14, 'min_impurity_decrease': 0.0004, 'min_samples_split': 12}\n"
          ]
        }
      ]
    },
    {
      "cell_type": "code",
      "metadata": {
        "colab": {
          "base_uri": "https://localhost:8080/"
        },
        "id": "qgIp3eULdlxO",
        "outputId": "6778822c-3f8f-441d-e9c8-859124afc491"
      },
      "source": [
        "# 최상의 교차 검증 점수 확인\n",
        "print(gs.cv_results_['mean_test_score'])\n",
        "print(np.max(gs.cv_results_['mean_test_score']))"
      ],
      "execution_count": null,
      "outputs": [
        {
          "output_type": "stream",
          "name": "stdout",
          "text": [
            "[0.85780355 0.85799604 0.85799604 ... 0.86126601 0.86165063 0.86357629]\n",
            "0.8683865773302731\n"
          ]
        }
      ]
    },
    {
      "cell_type": "markdown",
      "metadata": {
        "id": "2i_U0d5QeEf8"
      },
      "source": [
        "## 랜덤 서치\n",
        "* 그리드 서치로 매개변수를 일일이 바꿔가며 모델을 훈련시켜 최적의 파라미터를 찾아내지 않을 수 있게 됨\n",
        "* 그리드 서치는 매개변수의 범위를 내가 지정하는 거기 때문에 범위에 대한 근거가 부족함\n",
        "* 랜덤 서치로 그 문제를 해결"
      ]
    },
    {
      "cell_type": "code",
      "metadata": {
        "colab": {
          "base_uri": "https://localhost:8080/"
        },
        "id": "ODbwjHmhelqf",
        "outputId": "9aec4df6-76de-42cb-f005-a915f5408aa3"
      },
      "source": [
        "# 랜덤 서치는 매개변수 값의 목록을 전달하는게 아닌 매개변수를 샘플링 하는 확률 분포 객체를 전달함\n",
        "from scipy.stats import uniform, randint # uniform 은 실수를 randint 는 정수를 뽑음\n",
        "\n",
        "# 0 ~ 9 까지의 정수 중 10개를 랜덤 추출\n",
        "rgen = randint(0, 10)\n",
        "rgen.rvs(10)"
      ],
      "execution_count": null,
      "outputs": [
        {
          "output_type": "execute_result",
          "data": {
            "text/plain": [
              "array([3, 4, 8, 5, 2, 7, 3, 8, 6, 4])"
            ]
          },
          "metadata": {},
          "execution_count": 16
        }
      ]
    },
    {
      "cell_type": "code",
      "metadata": {
        "colab": {
          "base_uri": "https://localhost:8080/"
        },
        "id": "jw4NdvrbftBZ",
        "outputId": "898a36a6-00a7-4400-e2bc-5630be02670f"
      },
      "source": [
        "# np.unique 로 클래스를 확인하고 return_counts = True 로  클래스의 각 추출 된 횟수를 확인\n",
        "np.unique(rgen.rvs(1000), return_counts = True)"
      ],
      "execution_count": null,
      "outputs": [
        {
          "output_type": "execute_result",
          "data": {
            "text/plain": [
              "(array([0, 1, 2, 3, 4, 5, 6, 7, 8, 9]),\n",
              " array([103, 101,  99,  99, 106, 108,  97,  94, 103,  90]))"
            ]
          },
          "metadata": {},
          "execution_count": 17
        }
      ]
    },
    {
      "cell_type": "code",
      "metadata": {
        "colab": {
          "base_uri": "https://localhost:8080/"
        },
        "id": "taYx0kI-fu3C",
        "outputId": "65a6d307-8194-44a9-f9fd-5f4034da111d"
      },
      "source": [
        "# 0 ~ 1 사이의 실수 중 10개를 랜덤 추출\n",
        "ugen = uniform(0, 1)\n",
        "ugen.rvs(10)"
      ],
      "execution_count": null,
      "outputs": [
        {
          "output_type": "execute_result",
          "data": {
            "text/plain": [
              "array([0.50854909, 0.14208736, 0.22524214, 0.2296259 , 0.54808845,\n",
              "       0.49409384, 0.7933543 , 0.07221253, 0.50430007, 0.18970072])"
            ]
          },
          "metadata": {},
          "execution_count": 4
        }
      ]
    },
    {
      "cell_type": "code",
      "metadata": {
        "id": "UXy9Bt38gBJu"
      },
      "source": [
        "# 파라미터에 확률 분포 전달하기\n",
        "params = {'min_impurity_decrease' : uniform(0.0001, 0.001),\n",
        "          'max_depth' : randint(20, 50),\n",
        "          'min_samples_split' : randint(2, 25),\n",
        "          'min_samples_leaf' : randint(1, 25)}"
      ],
      "execution_count": null,
      "outputs": []
    },
    {
      "cell_type": "code",
      "metadata": {
        "id": "j7mLULSIj1f-"
      },
      "source": [
        "# 랜덤 서치 --> RandomizedSearchCV\n",
        "from sklearn.model_selection import RandomizedSearchCV\n",
        "rs = RandomizedSearchCV(DecisionTreeClassifier(random_state = 42), params, n_iter = 100, n_jobs = -1, random_state = 42) # n_iter --> 정의된 매개변수 범위에서 몇 번 샘플링 할 것인지 결정\n",
        "rs.fit(train_input, train_target)"
      ],
      "execution_count": null,
      "outputs": []
    },
    {
      "cell_type": "code",
      "metadata": {
        "colab": {
          "base_uri": "https://localhost:8080/"
        },
        "id": "rU4G7-VekUGk",
        "outputId": "e1740ab9-3884-4551-f18a-181d8b2d1307"
      },
      "source": [
        "# 최적의 파라미터 출력\n",
        "print(rs.best_params_)"
      ],
      "execution_count": null,
      "outputs": [
        {
          "output_type": "stream",
          "name": "stdout",
          "text": [
            "{'max_depth': 39, 'min_impurity_decrease': 0.00034102546602601173, 'min_samples_leaf': 7, 'min_samples_split': 13}\n"
          ]
        }
      ]
    },
    {
      "cell_type": "code",
      "metadata": {
        "colab": {
          "base_uri": "https://localhost:8080/"
        },
        "id": "FBT0rokGkb2j",
        "outputId": "8a30ac3b-7434-4ac8-af28-20a2ec2997d7"
      },
      "source": [
        "# 최고의 교차검증 점수 출력\n",
        "print(rs.cv_results_['mean_test_score'])\n",
        "print(rs.cv_results_['mean_test_score'].shape)\n",
        "print(np.max(rs.cv_results_['mean_test_score']))"
      ],
      "execution_count": null,
      "outputs": [
        {
          "output_type": "stream",
          "name": "stdout",
          "text": [
            "[0.86511513 0.86261235 0.86838528 0.86588547 0.86376731 0.86434497\n",
            " 0.86280503 0.86280484 0.86357592 0.86357555 0.86280503 0.8626142\n",
            " 0.86472977 0.86954283 0.86203543 0.86761827 0.86222884 0.86473033\n",
            " 0.86877082 0.86184423 0.86126657 0.86511494 0.8626142  0.86203543\n",
            " 0.86511476 0.86607722 0.86222773 0.86684682 0.86261309 0.86338436\n",
            " 0.8629977  0.86242171 0.86184478 0.86165211 0.86049808 0.86530706\n",
            " 0.86280521 0.86684775 0.86203524 0.86318983 0.86780947 0.86761624\n",
            " 0.86126694 0.86934867 0.86857889 0.86530743 0.86434497 0.86415303\n",
            " 0.86838602 0.86530688 0.86145813 0.86684626 0.8618446  0.86145961\n",
            " 0.86338454 0.86569131 0.86242152 0.86376805 0.86203543 0.86376916\n",
            " 0.86511457 0.86184275 0.86338454 0.86242004 0.86107481 0.86203654\n",
            " 0.86184478 0.86434552 0.86184478 0.86338473 0.86299993 0.8641534\n",
            " 0.86338269 0.85972662 0.86415303 0.86665433 0.86261253 0.86222884\n",
            " 0.86858111 0.86472903 0.86242097 0.86261457 0.86742448 0.86434497\n",
            " 0.86684682 0.86184423 0.86107481 0.86877193 0.86338362 0.86242171\n",
            " 0.8674243  0.86222773 0.86242004 0.86415414 0.86376805 0.86261272\n",
            " 0.86184478 0.86357518 0.86203635 0.86203691]\n",
            "(100,)\n",
            "0.8695428296438884\n"
          ]
        }
      ]
    },
    {
      "cell_type": "code",
      "metadata": {
        "colab": {
          "base_uri": "https://localhost:8080/"
        },
        "id": "CR6VRwfqk8gT",
        "outputId": "8c40bf69-8223-46dc-e6b0-390c475352f7"
      },
      "source": [
        "# 최적의 모델로 훈련하고 테스트 세트로 성능 확인\n",
        "dt = rs.best_estimator_\n",
        "dt.fit(train_input, train_target)\n",
        "print(dt.score(test_input, test_target))"
      ],
      "execution_count": null,
      "outputs": [
        {
          "output_type": "stream",
          "name": "stdout",
          "text": [
            "0.86\n"
          ]
        }
      ]
    }
  ]
}