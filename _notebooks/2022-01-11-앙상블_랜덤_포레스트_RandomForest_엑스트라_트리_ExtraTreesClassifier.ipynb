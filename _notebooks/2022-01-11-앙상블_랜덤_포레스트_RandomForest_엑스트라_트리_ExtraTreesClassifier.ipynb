{
  "nbformat": 4,
  "nbformat_minor": 0,
  "metadata": {
    "colab": {
      "name": "앙상블 // 랜덤 포레스트 RandomForest // 엑스트라 트리 ExtraTreesClassifier",
      "provenance": [],
      "collapsed_sections": [
        "TcboGbBmcolm"
      ],
      "toc_visible": true,
      "authorship_tag": "ABX9TyNQhBYuQO7AXZ2+TwsJOi8+",
      "include_colab_link": true
    },
    "kernelspec": {
      "name": "python3",
      "display_name": "Python 3"
    },
    "language_info": {
      "name": "python"
    }
  },
  "cells": [
    {
      "cell_type": "markdown",
      "metadata": {
        "id": "view-in-github",
        "colab_type": "text"
      },
      "source": [
        "<a href=\"https://colab.research.google.com/github/ParkJeongUng/Ung.github.io/blob/master/_notebooks/%EC%95%99%EC%83%81%EB%B8%94_%EB%9E%9C%EB%8D%A4_%ED%8F%AC%EB%A0%88%EC%8A%A4%ED%8A%B8_RandomForest_%EC%97%91%EC%8A%A4%ED%8A%B8%EB%9D%BC_%ED%8A%B8%EB%A6%AC_ExtraTreesClassifier.ipynb\" target=\"_parent\"><img src=\"https://colab.research.google.com/assets/colab-badge.svg\" alt=\"Open In Colab\"/></a>"
      ]
    },
    {
      "cell_type": "markdown",
      "metadata": {
        "id": "TcboGbBmcolm"
      },
      "source": [
        "# 앙상블 // 랜덤 포레스트 RandomForest // 엑스트라 트리 ExtraTreesClassifier"
      ]
    },
    {
      "cell_type": "markdown",
      "metadata": {
        "id": "Bfx9q9tGqjex"
      },
      "source": [
        "## 랜덤 포레스트 // RandomForest\n",
        "* 랜덤하게 만들어진 여러개의 결정트리가 모인 숲\n",
        "* 랜덤 포레스트는 각 트리마다 훈련 세트가 다름 --> 각 트리의 훈련 세트를 만들때 전체 훈련세트에서 복원추출을 시행하여 만듬 --> 부트스트랩 샘플\n",
        "* 랜덤하게 샘플링된 훈련 세트 덕분에 과대적합을 방지해줌"
      ]
    },
    {
      "cell_type": "code",
      "metadata": {
        "colab": {
          "base_uri": "https://localhost:8080/",
          "height": 204
        },
        "id": "GYJ8BQpksZ0X",
        "outputId": "7c8c78df-73fd-471d-dd70-72a4c53dd94c"
      },
      "source": [
        "# 데이터 준비\n",
        "import numpy as np\n",
        "import pandas as pd\n",
        "from sklearn.model_selection import train_test_split\n",
        "\n",
        "wine = pd.read_csv('https://bit.ly/wine_csv_data')\n",
        "wine.head()"
      ],
      "execution_count": null,
      "outputs": [
        {
          "output_type": "execute_result",
          "data": {
            "text/html": [
              "<div>\n",
              "<style scoped>\n",
              "    .dataframe tbody tr th:only-of-type {\n",
              "        vertical-align: middle;\n",
              "    }\n",
              "\n",
              "    .dataframe tbody tr th {\n",
              "        vertical-align: top;\n",
              "    }\n",
              "\n",
              "    .dataframe thead th {\n",
              "        text-align: right;\n",
              "    }\n",
              "</style>\n",
              "<table border=\"1\" class=\"dataframe\">\n",
              "  <thead>\n",
              "    <tr style=\"text-align: right;\">\n",
              "      <th></th>\n",
              "      <th>alcohol</th>\n",
              "      <th>sugar</th>\n",
              "      <th>pH</th>\n",
              "      <th>class</th>\n",
              "    </tr>\n",
              "  </thead>\n",
              "  <tbody>\n",
              "    <tr>\n",
              "      <th>0</th>\n",
              "      <td>9.4</td>\n",
              "      <td>1.9</td>\n",
              "      <td>3.51</td>\n",
              "      <td>0.0</td>\n",
              "    </tr>\n",
              "    <tr>\n",
              "      <th>1</th>\n",
              "      <td>9.8</td>\n",
              "      <td>2.6</td>\n",
              "      <td>3.20</td>\n",
              "      <td>0.0</td>\n",
              "    </tr>\n",
              "    <tr>\n",
              "      <th>2</th>\n",
              "      <td>9.8</td>\n",
              "      <td>2.3</td>\n",
              "      <td>3.26</td>\n",
              "      <td>0.0</td>\n",
              "    </tr>\n",
              "    <tr>\n",
              "      <th>3</th>\n",
              "      <td>9.8</td>\n",
              "      <td>1.9</td>\n",
              "      <td>3.16</td>\n",
              "      <td>0.0</td>\n",
              "    </tr>\n",
              "    <tr>\n",
              "      <th>4</th>\n",
              "      <td>9.4</td>\n",
              "      <td>1.9</td>\n",
              "      <td>3.51</td>\n",
              "      <td>0.0</td>\n",
              "    </tr>\n",
              "  </tbody>\n",
              "</table>\n",
              "</div>"
            ],
            "text/plain": [
              "   alcohol  sugar    pH  class\n",
              "0      9.4    1.9  3.51    0.0\n",
              "1      9.8    2.6  3.20    0.0\n",
              "2      9.8    2.3  3.26    0.0\n",
              "3      9.8    1.9  3.16    0.0\n",
              "4      9.4    1.9  3.51    0.0"
            ]
          },
          "metadata": {},
          "execution_count": 34
        }
      ]
    },
    {
      "cell_type": "code",
      "metadata": {
        "id": "rygfCAjYyZGw"
      },
      "source": [
        "wine_input = wine[['alcohol', 'sugar', 'pH']].to_numpy()\n",
        "wine_target = wine['class'].to_numpy()\n",
        "\n",
        "train_input, test_input, train_target, test_target = train_test_split(wine_input, wine_target, test_size = 0.2, random_state = 42)"
      ],
      "execution_count": null,
      "outputs": []
    },
    {
      "cell_type": "code",
      "metadata": {
        "colab": {
          "base_uri": "https://localhost:8080/"
        },
        "id": "EgczXwFxtD3M",
        "outputId": "92502062-f181-4b7b-b87e-dce403fe3758"
      },
      "source": [
        "# 랜덤포레스트를 모델로 교차검증 시행하기\n",
        "from sklearn.model_selection import cross_validate\n",
        "from sklearn.ensemble import RandomForestClassifier\n",
        "rf = RandomForestClassifier(n_jobs = -1, random_state = 42)\n",
        "\n",
        "score = cross_validate(rf, train_input, train_target ,n_jobs = -1, return_train_score = True) # return_train_score = True --> 훈련 세트에 대한 점수도 반환 --> 과대적합을 확인할때 편함\n",
        "score"
      ],
      "execution_count": null,
      "outputs": [
        {
          "output_type": "execute_result",
          "data": {
            "text/plain": [
              "{'fit_time': array([0.68797898, 0.68438673, 0.69149828, 0.68736911, 0.44117284]),\n",
              " 'score_time': array([0.10288453, 0.1029191 , 0.10267925, 0.10335732, 0.10253263]),\n",
              " 'test_score': array([0.88461538, 0.88942308, 0.90279115, 0.88931665, 0.88642926]),\n",
              " 'train_score': array([0.9971133 , 0.99663219, 0.9978355 , 0.9973545 , 0.9978355 ])}"
            ]
          },
          "metadata": {},
          "execution_count": 36
        }
      ]
    },
    {
      "cell_type": "code",
      "metadata": {
        "colab": {
          "base_uri": "https://localhost:8080/"
        },
        "id": "DIMCm3B-xS-m",
        "outputId": "fda1694e-9ed0-4c3f-b722-4e392c14d9a8"
      },
      "source": [
        "# 교차 검증 점수 확인\n",
        "print(np.mean(score['test_score']), np.mean(score['train_score']))\n",
        "\n",
        "# 과대적합이 나타남 --> 랜덤포레스트도 결정트리를 사용하는 거기 때문에 가지치기가 필요할 것으로 보임"
      ],
      "execution_count": null,
      "outputs": [
        {
          "output_type": "stream",
          "name": "stdout",
          "text": [
            "0.8905151032797809 0.9973541965122431\n"
          ]
        }
      ]
    },
    {
      "cell_type": "code",
      "metadata": {
        "colab": {
          "base_uri": "https://localhost:8080/"
        },
        "id": "8nh7ZqNLuK8d",
        "outputId": "4da46b33-deed-431f-d2a7-e21ce70041d6"
      },
      "source": [
        "# 랜덤포레스트의 특성 중요도 --> feature_importances_\n",
        "rf.fit(train_input, train_target)\n",
        "print(rf.feature_importances_)  # 결정트리만 사용했을 때의 feature_importances_ 결과 값 --> [0.12345626   0.86862934   0.0079144]\n",
        "\n",
        "# 랜덤포레스트는 각 트리마다 전체 특성 개수의 제곱근만큼의 특성을 선택함  ex) 1번 트리 alcohol, sugar / 2번 트리 sugar,pH\n",
        "# 각 트리마다 특성의 일부만 훈련에 사용하기 때문에 하나의 특성에 과도하게 집중하지 않고 많은 특성을 사용할 수 있음 --> 과대적합을 줄임"
      ],
      "execution_count": null,
      "outputs": [
        {
          "output_type": "stream",
          "name": "stdout",
          "text": [
            "[0.23167441 0.50039841 0.26792718]\n"
          ]
        }
      ]
    },
    {
      "cell_type": "code",
      "metadata": {
        "colab": {
          "base_uri": "https://localhost:8080/"
        },
        "id": "K-s_pINSwDh6",
        "outputId": "097c1529-4b26-4773-9769-140f9b548c49"
      },
      "source": [
        "# 랜덤포레스트는 전체 훈련세트에서 복원추출 하여 각 트리마다 새로운 훈련세트를 만듬 --> 부트스트랩 샘플\n",
        "# 복원추출을 했기 때문에 부트스트랩 샘플로 뽑히지 않은 샘플들이 존재 --> OOB 샘플\n",
        "# 이런 OOB 샘플을 이용해 부트스트랩 샘플로 훈련한 결정트리를 평가 할 수 있음 --> oob_score = True --> OOB 샘플이 검증세트가 되어 교차검증을 하는 느낌\n",
        "\n",
        "rf = RandomForestClassifier(oob_score = True, random_state = 42, n_jobs = -1)\n",
        "rf.fit(train_input, train_target)\n",
        "print(rf.oob_score_)\n",
        "\n",
        "# cross_validate 로 확인한 점수와 비슷하게 나옴"
      ],
      "execution_count": null,
      "outputs": [
        {
          "output_type": "stream",
          "name": "stdout",
          "text": [
            "0.8934000384837406\n"
          ]
        }
      ]
    },
    {
      "cell_type": "markdown",
      "metadata": {
        "id": "8O2xJKFrrbVj"
      },
      "source": [
        "## 연습"
      ]
    },
    {
      "cell_type": "code",
      "metadata": {
        "colab": {
          "base_uri": "https://localhost:8080/"
        },
        "id": "PqMJtMdMrc0v",
        "outputId": "9b58a784-486c-4134-f628-79b76c49a111"
      },
      "source": [
        "import pandas as pd\n",
        "import numpy as np\n",
        "from sklearn.model_selection import train_test_split\n",
        "from sklearn.ensemble import RandomForestClassifier\n",
        "from sklearn.model_selection import cross_validate\n",
        "\n",
        "wine = pd.read_csv('https://bit.ly/wine_csv_data')\n",
        "wine.head()\n",
        "\n",
        "wine_input = wine[['alcohol', 'sugar', 'pH']].to_numpy()\n",
        "wine_target = wine['class'].to_numpy()\n",
        "\n",
        "train_input, test_input, train_target, test_target = train_test_split(wine_input, wine_target, test_size = 0.2, random_state = 42)\n",
        "\n",
        "score = cross_validate(RandomForestClassifier(random_state = 42), train_input, train_target, n_jobs = -1, return_train_score = True)\n",
        "print(np.mean(score['test_score']), np.mean(score['train_score']))\n",
        "\n",
        "rf = RandomForestClassifier(random_state = 42, n_jobs = -1, oob_score = True)\n",
        "rf.fit(train_input, train_target)\n",
        "print(rf.oob_score_)"
      ],
      "execution_count": null,
      "outputs": [
        {
          "output_type": "stream",
          "name": "stdout",
          "text": [
            "0.8905151032797809 0.9973541965122431\n",
            "0.8934000384837406\n"
          ]
        }
      ]
    },
    {
      "cell_type": "markdown",
      "metadata": {
        "id": "q686-QzXggcI"
      },
      "source": [
        "## 엑스트라 트리\n",
        "* 부트스트랩 샘플을 사용하지 않는다 --> 알고리즘 훈련 때 전체훈련세트 이용\n",
        "* 노드를 분할할 때 무작위로 분할한다\n",
        "* 무작위성 때문에 속도가 빠르다"
      ]
    },
    {
      "cell_type": "code",
      "metadata": {
        "colab": {
          "base_uri": "https://localhost:8080/"
        },
        "id": "VCLBlPi9g8Xu",
        "outputId": "e8753adb-6a93-4d0a-e09c-23cfaac89f0d"
      },
      "source": [
        "from sklearn.ensemble import ExtraTreesClassifier\n",
        "et = ExtraTreesClassifier(n_jobs = -1, random_state = 42)\n",
        "scores = cross_validate(et, train_input, train_target, return_train_score = True, n_jobs = -1)\n",
        "print(np.mean(score['train_score']), np.mean(score['test_score']))"
      ],
      "execution_count": null,
      "outputs": [
        {
          "output_type": "stream",
          "name": "stdout",
          "text": [
            "0.9973541965122431 0.8905151032797809\n"
          ]
        }
      ]
    },
    {
      "cell_type": "code",
      "metadata": {
        "colab": {
          "base_uri": "https://localhost:8080/"
        },
        "id": "fuzkdNlwh361",
        "outputId": "2b83e698-f534-40c1-f9e7-450c60f257f9"
      },
      "source": [
        "et.fit(train_input, train_target)\n",
        "print(et.feature_importances_)"
      ],
      "execution_count": null,
      "outputs": [
        {
          "output_type": "stream",
          "name": "stdout",
          "text": [
            "[0.20183568 0.52242907 0.27573525]\n"
          ]
        }
      ]
    }
  ]
}
