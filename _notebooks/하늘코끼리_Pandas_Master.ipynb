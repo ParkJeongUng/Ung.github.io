{
  "nbformat": 4,
  "nbformat_minor": 0,
  "metadata": {
    "colab": {
      "name": "하늘코끼리 - Pandas Master",
      "provenance": [],
      "collapsed_sections": [],
      "authorship_tag": "ABX9TyMCzkmXVXsXfUKE+5NBV2iW",
      "include_colab_link": true
    },
    "kernelspec": {
      "name": "python3",
      "display_name": "Python 3"
    },
    "language_info": {
      "name": "python"
    }
  },
  "cells": [
    {
      "cell_type": "markdown",
      "metadata": {
        "id": "view-in-github",
        "colab_type": "text"
      },
      "source": [
        "<a href=\"https://colab.research.google.com/github/ParkJeongUng/Ung.github.io/blob/master/_notebooks/%ED%95%98%EB%8A%98%EC%BD%94%EB%81%BC%EB%A6%AC_Pandas_Master.ipynb\" target=\"_parent\"><img src=\"https://colab.research.google.com/assets/colab-badge.svg\" alt=\"Open In Colab\"/></a>"
      ]
    },
    {
      "cell_type": "markdown",
      "source": [
        "# 하늘코끼리 - Pandas Master"
      ],
      "metadata": {
        "id": "HlmvoS3WRzgw"
      }
    },
    {
      "cell_type": "markdown",
      "source": [
        "# Object creation\n",
        "\n",
        "\n",
        "\n",
        "\n",
        "\n"
      ],
      "metadata": {
        "id": "FyXqSlyCD8vY"
      }
    },
    {
      "cell_type": "code",
      "execution_count": null,
      "metadata": {
        "id": "D1j50mrT_Du-"
      },
      "outputs": [],
      "source": [
        "import numpy as np\n",
        "import pandas as pd"
      ]
    },
    {
      "cell_type": "markdown",
      "source": [
        "## Series\n",
        "1. Creating a Series by passing a list of values, letting pandas create a default integer index\n",
        ">  * Series 를 변수들의 리스트로 생성한다, 정수로된 기본 인덱스 값이 디폴트로 들어간다\n",
        "\n"
      ],
      "metadata": {
        "id": "YyHwlfH7O_rd"
      }
    },
    {
      "cell_type": "code",
      "source": [
        "# Series 를 변수들의 리스트로 생성한다, 정수로된 기본 인덱스 값이 디폴트로 들어간다\n",
        "\n",
        "s = pd.Series([1, 3, 5, np.nan, 6, 8]) # np.nan 으로 결측치 생성\n",
        "s"
      ],
      "metadata": {
        "colab": {
          "base_uri": "https://localhost:8080/"
        },
        "id": "vl4xuLC1D8HL",
        "outputId": "c4a30696-e258-423b-e5bc-e4c54f82ddc7"
      },
      "execution_count": null,
      "outputs": [
        {
          "output_type": "execute_result",
          "data": {
            "text/plain": [
              "0    1.0\n",
              "1    3.0\n",
              "2    5.0\n",
              "3    NaN\n",
              "4    6.0\n",
              "5    8.0\n",
              "dtype: float64"
            ]
          },
          "metadata": {},
          "execution_count": 2
        }
      ]
    },
    {
      "cell_type": "markdown",
      "source": [
        "## DataFrame - Numpy array\n",
        "2. Creating a DataFrame by passing a Numpy array, with a datetime index and labeled columns\n",
        "> * DataFrame 을 넘파이 Array로 생성한다, 일짜로 인덱스를 넣고 각 열에 이름 레이블링을 한다\n",
        "\n",
        "\n"
      ],
      "metadata": {
        "id": "c-NY-njqPES3"
      }
    },
    {
      "cell_type": "code",
      "source": [
        "# DataFrame 을 넘파이 Array로 생성한다, 일짜로 인덱스를 넣고 각 열에 이름 레이블링을 한다\n",
        "dates = pd.date_range(\"20130101\", periods = 8) # date_range 로 일짜를 생성 periods 로 기간 설정\n",
        "print(dates)\n",
        "\n",
        "df = pd.DataFrame(np.random.randn(8, 4), index = dates, columns = list(\"ABCD\"))\n",
        "print(df)"
      ],
      "metadata": {
        "colab": {
          "base_uri": "https://localhost:8080/"
        },
        "id": "xtpG9dGVE5uC",
        "outputId": "1809657e-74c9-45b9-8ab0-2f5548922a90"
      },
      "execution_count": null,
      "outputs": [
        {
          "output_type": "stream",
          "name": "stdout",
          "text": [
            "DatetimeIndex(['2013-01-01', '2013-01-02', '2013-01-03', '2013-01-04',\n",
            "               '2013-01-05', '2013-01-06', '2013-01-07', '2013-01-08'],\n",
            "              dtype='datetime64[ns]', freq='D')\n",
            "                   A         B         C         D\n",
            "2013-01-01 -2.353140 -2.039484 -2.224930 -0.752031\n",
            "2013-01-02 -1.073798  0.853140 -1.391773 -0.599870\n",
            "2013-01-03  0.067025 -0.521760  0.379020 -1.538868\n",
            "2013-01-04 -0.118970 -0.072235  0.781759 -0.007271\n",
            "2013-01-05 -0.288008 -0.067996 -0.461851 -0.007335\n",
            "2013-01-06 -0.615441  0.315262 -0.829765  1.400728\n",
            "2013-01-07  0.024214  1.216935 -0.998964 -0.968876\n",
            "2013-01-08 -0.223849  0.921339 -0.098162  0.568661\n"
          ]
        }
      ]
    },
    {
      "cell_type": "markdown",
      "source": [
        "# DataFrame - dictionary\n",
        "3. Creating a DataFrame by passing a dictionary of objects that can be converted into a series - like structure\n",
        "> * DataFrame 을 dictionary 로 생성한다. dictionary 는 시리즈와 같은 구조를 가진다"
      ],
      "metadata": {
        "id": "qcsigRWQPI5q"
      }
    },
    {
      "cell_type": "code",
      "source": [
        "df2 = pd.DataFrame(\n",
        "    {\n",
        "      \"A\" : 1.0,\n",
        "     \"B\" : pd.Timestamp(\"20130102\"), # 2013 - 01 - 02\n",
        "     \"C\" : pd.Series(1, index = list(range(4)), dtype = \"float32\"),\n",
        "     \"D\" : np.array([3] * 4, dtype = \"int32\"),\n",
        "     \"E\" : pd.Categorical(['test', 'train', 'test', 'train']), # dtype = category\n",
        "     \"F\" : \"foo\",\n",
        "    }\n",
        ")\n",
        "print(df2)"
      ],
      "metadata": {
        "colab": {
          "base_uri": "https://localhost:8080/"
        },
        "id": "a4CcMRWvO67S",
        "outputId": "14f43c39-981f-40ad-edae-e44d74d4768c"
      },
      "execution_count": null,
      "outputs": [
        {
          "output_type": "stream",
          "name": "stdout",
          "text": [
            "     A          B    C  D      E    F\n",
            "0  1.0 2013-01-02  1.0  3   test  foo\n",
            "1  1.0 2013-01-02  1.0  3  train  foo\n",
            "2  1.0 2013-01-02  1.0  3   test  foo\n",
            "3  1.0 2013-01-02  1.0  3  train  foo\n"
          ]
        }
      ]
    },
    {
      "cell_type": "code",
      "source": [
        "# 각 컬럼은 다른 데이터타입을 가진다\n",
        "df2.dtypes"
      ],
      "metadata": {
        "colab": {
          "base_uri": "https://localhost:8080/"
        },
        "id": "jm3bbJJiPyq2",
        "outputId": "54302943-261c-4c9d-ef72-27d42b6f1444"
      },
      "execution_count": null,
      "outputs": [
        {
          "output_type": "execute_result",
          "data": {
            "text/plain": [
              "A           float64\n",
              "B    datetime64[ns]\n",
              "C           float32\n",
              "D             int32\n",
              "E          category\n",
              "F            object\n",
              "dtype: object"
            ]
          },
          "metadata": {},
          "execution_count": 9
        }
      ]
    }
  ]
}