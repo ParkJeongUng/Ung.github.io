{
  "nbformat": 4,
  "nbformat_minor": 0,
  "metadata": {
    "colab": {
      "name": "하늘코끼리 - Pandas Master",
      "provenance": [],
      "collapsed_sections": [],
      "authorship_tag": "ABX9TyMuCYOdP80hqD4gO78INoGi",
      "include_colab_link": true
    },
    "kernelspec": {
      "name": "python3",
      "display_name": "Python 3"
    },
    "language_info": {
      "name": "python"
    }
  },
  "cells": [
    {
      "cell_type": "markdown",
      "metadata": {
        "id": "view-in-github",
        "colab_type": "text"
      },
      "source": [
        "<a href=\"https://colab.research.google.com/github/ParkJeongUng/Ung.github.io/blob/master/_notebooks/%ED%95%98%EB%8A%98%EC%BD%94%EB%81%BC%EB%A6%AC_Pandas_Master.ipynb\" target=\"_parent\"><img src=\"https://colab.research.google.com/assets/colab-badge.svg\" alt=\"Open In Colab\"/></a>"
      ]
    },
    {
      "cell_type": "markdown",
      "source": [
        "# 하늘코끼리 - Pandas Master"
      ],
      "metadata": {
        "id": "HlmvoS3WRzgw"
      }
    },
    {
      "cell_type": "markdown",
      "source": [
        "# Object creation\n",
        "\n",
        "\n",
        "\n",
        "\n",
        "\n"
      ],
      "metadata": {
        "id": "FyXqSlyCD8vY"
      }
    },
    {
      "cell_type": "code",
      "execution_count": null,
      "metadata": {
        "id": "D1j50mrT_Du-"
      },
      "outputs": [],
      "source": [
        "import numpy as np\n",
        "import pandas as pd"
      ]
    },
    {
      "cell_type": "markdown",
      "source": [
        "## Series\n",
        "1. Creating a Series by passing a list of values, letting pandas create a default integer index\n",
        ">  * Series 를 변수들의 리스트로 생성한다, 정수로된 기본 인덱스 값이 디폴트로 들어간다\n",
        "\n"
      ],
      "metadata": {
        "id": "YyHwlfH7O_rd"
      }
    },
    {
      "cell_type": "code",
      "source": [
        "# Series 를 변수들의 리스트로 생성한다, 정수로된 기본 인덱스 값이 디폴트로 들어간다\n",
        "\n",
        "s = pd.Series([1, 3, 5, np.nan, 6, 8]) # np.nan 으로 결측치 생성\n",
        "s"
      ],
      "metadata": {
        "colab": {
          "base_uri": "https://localhost:8080/"
        },
        "id": "vl4xuLC1D8HL",
        "outputId": "c4a30696-e258-423b-e5bc-e4c54f82ddc7"
      },
      "execution_count": null,
      "outputs": [
        {
          "output_type": "execute_result",
          "data": {
            "text/plain": [
              "0    1.0\n",
              "1    3.0\n",
              "2    5.0\n",
              "3    NaN\n",
              "4    6.0\n",
              "5    8.0\n",
              "dtype: float64"
            ]
          },
          "metadata": {},
          "execution_count": 2
        }
      ]
    },
    {
      "cell_type": "markdown",
      "source": [
        "## DataFrame - Numpy array\n",
        "2. Creating a DataFrame by passing a Numpy array, with a datetime index and labeled columns\n",
        "> * DataFrame 을 넘파이 Array로 생성한다, 일짜로 인덱스를 넣고 각 열에 이름 레이블링을 한다\n",
        "\n",
        "\n"
      ],
      "metadata": {
        "id": "c-NY-njqPES3"
      }
    },
    {
      "cell_type": "code",
      "source": [
        "# DataFrame 을 넘파이 Array로 생성한다, 일짜로 인덱스를 넣고 각 열에 이름 레이블링을 한다\n",
        "dates = pd.date_range(\"20130101\", periods = 8) # date_range 로 일짜를 생성 periods 로 기간 설정\n",
        "print(dates)\n",
        "\n",
        "df = pd.DataFrame(np.random.randn(8, 4), index = dates, columns = list(\"ABCD\"))\n",
        "print(df)"
      ],
      "metadata": {
        "colab": {
          "base_uri": "https://localhost:8080/"
        },
        "id": "xtpG9dGVE5uC",
        "outputId": "1809657e-74c9-45b9-8ab0-2f5548922a90"
      },
      "execution_count": null,
      "outputs": [
        {
          "output_type": "stream",
          "name": "stdout",
          "text": [
            "DatetimeIndex(['2013-01-01', '2013-01-02', '2013-01-03', '2013-01-04',\n",
            "               '2013-01-05', '2013-01-06', '2013-01-07', '2013-01-08'],\n",
            "              dtype='datetime64[ns]', freq='D')\n",
            "                   A         B         C         D\n",
            "2013-01-01 -2.353140 -2.039484 -2.224930 -0.752031\n",
            "2013-01-02 -1.073798  0.853140 -1.391773 -0.599870\n",
            "2013-01-03  0.067025 -0.521760  0.379020 -1.538868\n",
            "2013-01-04 -0.118970 -0.072235  0.781759 -0.007271\n",
            "2013-01-05 -0.288008 -0.067996 -0.461851 -0.007335\n",
            "2013-01-06 -0.615441  0.315262 -0.829765  1.400728\n",
            "2013-01-07  0.024214  1.216935 -0.998964 -0.968876\n",
            "2013-01-08 -0.223849  0.921339 -0.098162  0.568661\n"
          ]
        }
      ]
    },
    {
      "cell_type": "markdown",
      "source": [
        "# DataFrame - dictionary\n",
        "3. Creating a DataFrame by passing a dictionary of objects that can be converted into a series - like structure\n",
        "> * DataFrame 을 dictionary 로 생성한다. dictionary 는 시리즈와 같은 구조를 가진다"
      ],
      "metadata": {
        "id": "qcsigRWQPI5q"
      }
    },
    {
      "cell_type": "code",
      "source": [
        "df2 = pd.DataFrame(\n",
        "    {\n",
        "      \"A\" : 1.0,\n",
        "     \"B\" : pd.Timestamp(\"20130102\"), # 2013 - 01 - 02\n",
        "     \"C\" : pd.Series(1, index = list(range(4)), dtype = \"float32\"),\n",
        "     \"D\" : np.array([3] * 4, dtype = \"int32\"),\n",
        "     \"E\" : pd.Categorical(['test', 'train', 'test', 'train']), # dtype = category\n",
        "     \"F\" : \"foo\",\n",
        "    }\n",
        ")\n",
        "print(df2)"
      ],
      "metadata": {
        "colab": {
          "base_uri": "https://localhost:8080/"
        },
        "id": "a4CcMRWvO67S",
        "outputId": "57b9e766-38ec-4203-c882-f1e7919cd507"
      },
      "execution_count": null,
      "outputs": [
        {
          "output_type": "stream",
          "name": "stdout",
          "text": [
            "     A          B    C  D      E    F\n",
            "0  1.0 2013-01-02  1.0  3   test  foo\n",
            "1  1.0 2013-01-02  1.0  3  train  foo\n",
            "2  1.0 2013-01-02  1.0  3   test  foo\n",
            "3  1.0 2013-01-02  1.0  3  train  foo\n"
          ]
        }
      ]
    },
    {
      "cell_type": "code",
      "source": [
        "# 각 컬럼은 다른 데이터타입을 가진다\n",
        "df2.dtypes"
      ],
      "metadata": {
        "colab": {
          "base_uri": "https://localhost:8080/"
        },
        "id": "jm3bbJJiPyq2",
        "outputId": "54302943-261c-4c9d-ef72-27d42b6f1444"
      },
      "execution_count": null,
      "outputs": [
        {
          "output_type": "execute_result",
          "data": {
            "text/plain": [
              "A           float64\n",
              "B    datetime64[ns]\n",
              "C           float32\n",
              "D             int32\n",
              "E          category\n",
              "F            object\n",
              "dtype: object"
            ]
          },
          "metadata": {},
          "execution_count": 9
        }
      ]
    },
    {
      "cell_type": "markdown",
      "source": [
        "# Viewing data"
      ],
      "metadata": {
        "id": "RydedviuRnS2"
      }
    },
    {
      "cell_type": "code",
      "source": [
        "import numpy as np\n",
        "import pandas as pd"
      ],
      "metadata": {
        "id": "71AVFNJER36k"
      },
      "execution_count": null,
      "outputs": []
    },
    {
      "cell_type": "code",
      "source": [
        "date = pd.date_range(\"20220316\", periods = 6)\n",
        "data = pd.DataFrame(np.random.randn(6, 4), index = date, columns = list(\"ABCD\"))\n",
        "print(data) "
      ],
      "metadata": {
        "colab": {
          "base_uri": "https://localhost:8080/"
        },
        "id": "kUK-O4lQR2OV",
        "outputId": "bd562903-2ac3-4fa6-cb33-797ca20064f0"
      },
      "execution_count": null,
      "outputs": [
        {
          "output_type": "stream",
          "name": "stdout",
          "text": [
            "                   A         B         C         D\n",
            "2022-03-16  1.387396 -1.697005 -1.907996 -1.009149\n",
            "2022-03-17 -0.216641 -0.125481  2.069624 -0.399556\n",
            "2022-03-18 -1.939337 -1.525537  1.229730 -1.461869\n",
            "2022-03-19 -0.221716 -0.923037  1.576739  0.974145\n",
            "2022-03-20  0.223678  0.558811  0.785153  1.048430\n",
            "2022-03-21 -0.493495  1.988507 -1.237471 -0.295344\n"
          ]
        }
      ]
    },
    {
      "cell_type": "markdown",
      "source": [
        "## head() // tail()\n",
        "1. head()\n",
        ">  * How to view the top rows of the frame\n",
        "   * 가장 앞에있는 행 출력\n",
        "\n",
        "2. tail()\n",
        ">  * How to view the bottom rows of the frame\n",
        "   * 가장 밑에있는 행 출력"
      ],
      "metadata": {
        "id": "JKViC3zMSfxA"
      }
    },
    {
      "cell_type": "code",
      "source": [
        "# 가장 앞에있는 행 출력\n",
        "print(data.head())\n",
        "print(\"============================================\")\n",
        "print(data.head(3)) # 행의 개수를 지정\n",
        "print(\"============================================\")\n",
        "\n",
        "# 가장 밑에있는 행 출력\n",
        "print(data.tail())\n",
        "print(\"============================================\")\n",
        "print(data.tail(3))\n"
      ],
      "metadata": {
        "colab": {
          "base_uri": "https://localhost:8080/"
        },
        "id": "y1Hs90ZJSW3d",
        "outputId": "bdf7ea49-736c-49ea-8742-259eb5a31a21"
      },
      "execution_count": null,
      "outputs": [
        {
          "output_type": "stream",
          "name": "stdout",
          "text": [
            "                   A         B         C         D\n",
            "2022-03-16  1.387396 -1.697005 -1.907996 -1.009149\n",
            "2022-03-17 -0.216641 -0.125481  2.069624 -0.399556\n",
            "2022-03-18 -1.939337 -1.525537  1.229730 -1.461869\n",
            "2022-03-19 -0.221716 -0.923037  1.576739  0.974145\n",
            "2022-03-20  0.223678  0.558811  0.785153  1.048430\n",
            "============================================\n",
            "                   A         B         C         D\n",
            "2022-03-16  1.387396 -1.697005 -1.907996 -1.009149\n",
            "2022-03-17 -0.216641 -0.125481  2.069624 -0.399556\n",
            "2022-03-18 -1.939337 -1.525537  1.229730 -1.461869\n",
            "============================================\n",
            "                   A         B         C         D\n",
            "2022-03-17 -0.216641 -0.125481  2.069624 -0.399556\n",
            "2022-03-18 -1.939337 -1.525537  1.229730 -1.461869\n",
            "2022-03-19 -0.221716 -0.923037  1.576739  0.974145\n",
            "2022-03-20  0.223678  0.558811  0.785153  1.048430\n",
            "2022-03-21 -0.493495  1.988507 -1.237471 -0.295344\n",
            "============================================\n",
            "                   A         B         C         D\n",
            "2022-03-19 -0.221716 -0.923037  1.576739  0.974145\n",
            "2022-03-20  0.223678  0.558811  0.785153  1.048430\n",
            "2022-03-21 -0.493495  1.988507 -1.237471 -0.295344\n"
          ]
        }
      ]
    },
    {
      "cell_type": "markdown",
      "source": [
        "## index // columns\n",
        "1. index\n",
        "> * Display the index\n",
        "  * 모든 인덱스를 출력\n",
        "\n",
        "2. columns\n",
        "> * Display the columns\n",
        "  * 모든 컬럼을 출력"
      ],
      "metadata": {
        "id": "cNZuY81_UB6R"
      }
    },
    {
      "cell_type": "code",
      "source": [
        "# 모든 인덱스를 출력\n",
        "data.index"
      ],
      "metadata": {
        "colab": {
          "base_uri": "https://localhost:8080/"
        },
        "id": "MreLbDWbUSqK",
        "outputId": "2a730901-5495-4501-ea98-486e78fe2f69"
      },
      "execution_count": null,
      "outputs": [
        {
          "output_type": "execute_result",
          "data": {
            "text/plain": [
              "DatetimeIndex(['2022-03-16', '2022-03-17', '2022-03-18', '2022-03-19',\n",
              "               '2022-03-20', '2022-03-21'],\n",
              "              dtype='datetime64[ns]', freq='D')"
            ]
          },
          "metadata": {},
          "execution_count": 12
        }
      ]
    },
    {
      "cell_type": "code",
      "source": [
        "# 모든 컬럼을 출력\n",
        "data.columns"
      ],
      "metadata": {
        "colab": {
          "base_uri": "https://localhost:8080/"
        },
        "id": "oM2YdIfpUXwO",
        "outputId": "11899f6b-9abe-40e0-bc2d-50ecbbb16e9e"
      },
      "execution_count": null,
      "outputs": [
        {
          "output_type": "execute_result",
          "data": {
            "text/plain": [
              "Index(['A', 'B', 'C', 'D'], dtype='object')"
            ]
          },
          "metadata": {},
          "execution_count": 13
        }
      ]
    },
    {
      "cell_type": "markdown",
      "source": [
        "## to.numpy()\n",
        "> * DataFrame.to_numpy() does not include the index or column labels in the output\n",
        "> * 데이터프레임을 넘파이로 변환하면 인덱스와 컬럼명이 출력결과에 포함되지 않는다\n"
      ],
      "metadata": {
        "id": "RvrEq859U2aD"
      }
    },
    {
      "cell_type": "markdown",
      "source": [
        "### DataFrame of all floating-point values\n",
        "1. Numpy arrays have one dtype for the entire array\n",
        "> * 넘파이 배열은 하나의 데이터타입만을 가진다\n",
        "2. DataFarme of all floating-point values, DataFrame.to_numpy() is fast and doesn't require copying data\n",
        "> * 실수로 된 값만 가지고 있는 데이터프레임은 속도가 빠르고 데이터를 복사할 필요가 없다"
      ],
      "metadata": {
        "id": "0oebRWvZZzKF"
      }
    },
    {
      "cell_type": "code",
      "source": [
        "# 실수로 된 값만 가진 데이터프레임 생성\n",
        "date = pd.date_range(\"20220316\", periods=6)\n",
        "df = pd.DataFrame(np.random.randn(6, 4), index = date, columns = list(\"ABCD\"))\n",
        "df"
      ],
      "metadata": {
        "colab": {
          "base_uri": "https://localhost:8080/",
          "height": 238
        },
        "id": "Xiu-1uglaBEz",
        "outputId": "68857d59-6a3f-41c0-83e9-643e3c2c8b8a"
      },
      "execution_count": null,
      "outputs": [
        {
          "output_type": "execute_result",
          "data": {
            "text/plain": [
              "                   A         B         C         D\n",
              "2022-03-16 -1.432940  0.398898 -1.913145  1.176134\n",
              "2022-03-17 -0.670557 -2.131197 -0.124070  0.301938\n",
              "2022-03-18  0.075608  0.444038 -2.685033 -1.242655\n",
              "2022-03-19  0.015063  0.356286  0.470742 -0.448339\n",
              "2022-03-20 -0.820664 -0.852599 -2.194349  0.398708\n",
              "2022-03-21  1.721380  2.077812 -0.950608 -0.930718"
            ],
            "text/html": [
              "\n",
              "  <div id=\"df-46b6a064-8e91-424e-85c1-79c7c3993d2c\">\n",
              "    <div class=\"colab-df-container\">\n",
              "      <div>\n",
              "<style scoped>\n",
              "    .dataframe tbody tr th:only-of-type {\n",
              "        vertical-align: middle;\n",
              "    }\n",
              "\n",
              "    .dataframe tbody tr th {\n",
              "        vertical-align: top;\n",
              "    }\n",
              "\n",
              "    .dataframe thead th {\n",
              "        text-align: right;\n",
              "    }\n",
              "</style>\n",
              "<table border=\"1\" class=\"dataframe\">\n",
              "  <thead>\n",
              "    <tr style=\"text-align: right;\">\n",
              "      <th></th>\n",
              "      <th>A</th>\n",
              "      <th>B</th>\n",
              "      <th>C</th>\n",
              "      <th>D</th>\n",
              "    </tr>\n",
              "  </thead>\n",
              "  <tbody>\n",
              "    <tr>\n",
              "      <th>2022-03-16</th>\n",
              "      <td>-1.432940</td>\n",
              "      <td>0.398898</td>\n",
              "      <td>-1.913145</td>\n",
              "      <td>1.176134</td>\n",
              "    </tr>\n",
              "    <tr>\n",
              "      <th>2022-03-17</th>\n",
              "      <td>-0.670557</td>\n",
              "      <td>-2.131197</td>\n",
              "      <td>-0.124070</td>\n",
              "      <td>0.301938</td>\n",
              "    </tr>\n",
              "    <tr>\n",
              "      <th>2022-03-18</th>\n",
              "      <td>0.075608</td>\n",
              "      <td>0.444038</td>\n",
              "      <td>-2.685033</td>\n",
              "      <td>-1.242655</td>\n",
              "    </tr>\n",
              "    <tr>\n",
              "      <th>2022-03-19</th>\n",
              "      <td>0.015063</td>\n",
              "      <td>0.356286</td>\n",
              "      <td>0.470742</td>\n",
              "      <td>-0.448339</td>\n",
              "    </tr>\n",
              "    <tr>\n",
              "      <th>2022-03-20</th>\n",
              "      <td>-0.820664</td>\n",
              "      <td>-0.852599</td>\n",
              "      <td>-2.194349</td>\n",
              "      <td>0.398708</td>\n",
              "    </tr>\n",
              "    <tr>\n",
              "      <th>2022-03-21</th>\n",
              "      <td>1.721380</td>\n",
              "      <td>2.077812</td>\n",
              "      <td>-0.950608</td>\n",
              "      <td>-0.930718</td>\n",
              "    </tr>\n",
              "  </tbody>\n",
              "</table>\n",
              "</div>\n",
              "      <button class=\"colab-df-convert\" onclick=\"convertToInteractive('df-46b6a064-8e91-424e-85c1-79c7c3993d2c')\"\n",
              "              title=\"Convert this dataframe to an interactive table.\"\n",
              "              style=\"display:none;\">\n",
              "        \n",
              "  <svg xmlns=\"http://www.w3.org/2000/svg\" height=\"24px\"viewBox=\"0 0 24 24\"\n",
              "       width=\"24px\">\n",
              "    <path d=\"M0 0h24v24H0V0z\" fill=\"none\"/>\n",
              "    <path d=\"M18.56 5.44l.94 2.06.94-2.06 2.06-.94-2.06-.94-.94-2.06-.94 2.06-2.06.94zm-11 1L8.5 8.5l.94-2.06 2.06-.94-2.06-.94L8.5 2.5l-.94 2.06-2.06.94zm10 10l.94 2.06.94-2.06 2.06-.94-2.06-.94-.94-2.06-.94 2.06-2.06.94z\"/><path d=\"M17.41 7.96l-1.37-1.37c-.4-.4-.92-.59-1.43-.59-.52 0-1.04.2-1.43.59L10.3 9.45l-7.72 7.72c-.78.78-.78 2.05 0 2.83L4 21.41c.39.39.9.59 1.41.59.51 0 1.02-.2 1.41-.59l7.78-7.78 2.81-2.81c.8-.78.8-2.07 0-2.86zM5.41 20L4 18.59l7.72-7.72 1.47 1.35L5.41 20z\"/>\n",
              "  </svg>\n",
              "      </button>\n",
              "      \n",
              "  <style>\n",
              "    .colab-df-container {\n",
              "      display:flex;\n",
              "      flex-wrap:wrap;\n",
              "      gap: 12px;\n",
              "    }\n",
              "\n",
              "    .colab-df-convert {\n",
              "      background-color: #E8F0FE;\n",
              "      border: none;\n",
              "      border-radius: 50%;\n",
              "      cursor: pointer;\n",
              "      display: none;\n",
              "      fill: #1967D2;\n",
              "      height: 32px;\n",
              "      padding: 0 0 0 0;\n",
              "      width: 32px;\n",
              "    }\n",
              "\n",
              "    .colab-df-convert:hover {\n",
              "      background-color: #E2EBFA;\n",
              "      box-shadow: 0px 1px 2px rgba(60, 64, 67, 0.3), 0px 1px 3px 1px rgba(60, 64, 67, 0.15);\n",
              "      fill: #174EA6;\n",
              "    }\n",
              "\n",
              "    [theme=dark] .colab-df-convert {\n",
              "      background-color: #3B4455;\n",
              "      fill: #D2E3FC;\n",
              "    }\n",
              "\n",
              "    [theme=dark] .colab-df-convert:hover {\n",
              "      background-color: #434B5C;\n",
              "      box-shadow: 0px 1px 3px 1px rgba(0, 0, 0, 0.15);\n",
              "      filter: drop-shadow(0px 1px 2px rgba(0, 0, 0, 0.3));\n",
              "      fill: #FFFFFF;\n",
              "    }\n",
              "  </style>\n",
              "\n",
              "      <script>\n",
              "        const buttonEl =\n",
              "          document.querySelector('#df-46b6a064-8e91-424e-85c1-79c7c3993d2c button.colab-df-convert');\n",
              "        buttonEl.style.display =\n",
              "          google.colab.kernel.accessAllowed ? 'block' : 'none';\n",
              "\n",
              "        async function convertToInteractive(key) {\n",
              "          const element = document.querySelector('#df-46b6a064-8e91-424e-85c1-79c7c3993d2c');\n",
              "          const dataTable =\n",
              "            await google.colab.kernel.invokeFunction('convertToInteractive',\n",
              "                                                     [key], {});\n",
              "          if (!dataTable) return;\n",
              "\n",
              "          const docLinkHtml = 'Like what you see? Visit the ' +\n",
              "            '<a target=\"_blank\" href=https://colab.research.google.com/notebooks/data_table.ipynb>data table notebook</a>'\n",
              "            + ' to learn more about interactive tables.';\n",
              "          element.innerHTML = '';\n",
              "          dataTable['output_type'] = 'display_data';\n",
              "          await google.colab.output.renderOutput(dataTable, element);\n",
              "          const docLink = document.createElement('div');\n",
              "          docLink.innerHTML = docLinkHtml;\n",
              "          element.appendChild(docLink);\n",
              "        }\n",
              "      </script>\n",
              "    </div>\n",
              "  </div>\n",
              "  "
            ]
          },
          "metadata": {},
          "execution_count": 22
        }
      ]
    },
    {
      "cell_type": "code",
      "source": [
        "# 실수로만 된 데이터 타입을 넘파이 배열로 변환\n",
        "df.to_numpy()\n",
        "\n",
        "# 계산속도가 빨라진다"
      ],
      "metadata": {
        "colab": {
          "base_uri": "https://localhost:8080/"
        },
        "id": "yjdchofqaaaJ",
        "outputId": "28093ba3-90fb-47a9-8f75-20a49c51a866"
      },
      "execution_count": null,
      "outputs": [
        {
          "output_type": "execute_result",
          "data": {
            "text/plain": [
              "array([[-1.43294029,  0.3988978 , -1.91314476,  1.17613379],\n",
              "       [-0.67055744, -2.13119686, -0.12407046,  0.30193754],\n",
              "       [ 0.07560766,  0.44403832, -2.68503285, -1.24265544],\n",
              "       [ 0.01506284,  0.35628595,  0.47074215, -0.44833933],\n",
              "       [-0.82066436, -0.85259947, -2.19434866,  0.39870847],\n",
              "       [ 1.72138031,  2.07781166, -0.95060842, -0.93071828]])"
            ]
          },
          "metadata": {},
          "execution_count": 23
        }
      ]
    },
    {
      "cell_type": "markdown",
      "source": [
        "### DataFrame with multiple dtypes\n",
        "3. Pandas DataFrames have one dtype per column\n",
        "> * 판다스 데이터프레임은 각 열마다 각각의 데이터타입을 가진다\n",
        "4. DataFrame with multiple dtypes, DataFrame.to_numpy() is realatively expensive\n",
        "> * 여러개의 데이터타입을 가진 데이터프레임을 넘파이 배열로 전환하면 상대적으로 비용이 많이든다"
      ],
      "metadata": {
        "id": "HkLXN2D_Zv00"
      }
    },
    {
      "cell_type": "code",
      "source": [
        "# 여러가지 데이터타입을 가진 데이터프레임 생성\n",
        "df2 = pd.DataFrame(\n",
        "    {\n",
        "      \"A\" : 1.0,\n",
        "     \"B\" : pd.Timestamp(\"20130102\"), # 2013 - 01 - 02\n",
        "     \"C\" : pd.Series(1, index = list(range(4)), dtype = \"float32\"),\n",
        "     \"D\" : np.array([3] * 4, dtype = \"int32\"),\n",
        "     \"E\" : pd.Categorical(['test', 'train', 'test', 'train']), # dtype = category\n",
        "     \"F\" : \"foo\",\n",
        "    }\n",
        ")\n",
        "df2"
      ],
      "metadata": {
        "colab": {
          "base_uri": "https://localhost:8080/",
          "height": 175
        },
        "id": "s4-tas26VZes",
        "outputId": "68a4034c-d840-423e-b703-512812f5e468"
      },
      "execution_count": null,
      "outputs": [
        {
          "output_type": "execute_result",
          "data": {
            "text/plain": [
              "     A          B    C  D      E    F\n",
              "0  1.0 2013-01-02  1.0  3   test  foo\n",
              "1  1.0 2013-01-02  1.0  3  train  foo\n",
              "2  1.0 2013-01-02  1.0  3   test  foo\n",
              "3  1.0 2013-01-02  1.0  3  train  foo"
            ],
            "text/html": [
              "\n",
              "  <div id=\"df-7b90a61f-c38a-40c3-9745-2d29ac841033\">\n",
              "    <div class=\"colab-df-container\">\n",
              "      <div>\n",
              "<style scoped>\n",
              "    .dataframe tbody tr th:only-of-type {\n",
              "        vertical-align: middle;\n",
              "    }\n",
              "\n",
              "    .dataframe tbody tr th {\n",
              "        vertical-align: top;\n",
              "    }\n",
              "\n",
              "    .dataframe thead th {\n",
              "        text-align: right;\n",
              "    }\n",
              "</style>\n",
              "<table border=\"1\" class=\"dataframe\">\n",
              "  <thead>\n",
              "    <tr style=\"text-align: right;\">\n",
              "      <th></th>\n",
              "      <th>A</th>\n",
              "      <th>B</th>\n",
              "      <th>C</th>\n",
              "      <th>D</th>\n",
              "      <th>E</th>\n",
              "      <th>F</th>\n",
              "    </tr>\n",
              "  </thead>\n",
              "  <tbody>\n",
              "    <tr>\n",
              "      <th>0</th>\n",
              "      <td>1.0</td>\n",
              "      <td>2013-01-02</td>\n",
              "      <td>1.0</td>\n",
              "      <td>3</td>\n",
              "      <td>test</td>\n",
              "      <td>foo</td>\n",
              "    </tr>\n",
              "    <tr>\n",
              "      <th>1</th>\n",
              "      <td>1.0</td>\n",
              "      <td>2013-01-02</td>\n",
              "      <td>1.0</td>\n",
              "      <td>3</td>\n",
              "      <td>train</td>\n",
              "      <td>foo</td>\n",
              "    </tr>\n",
              "    <tr>\n",
              "      <th>2</th>\n",
              "      <td>1.0</td>\n",
              "      <td>2013-01-02</td>\n",
              "      <td>1.0</td>\n",
              "      <td>3</td>\n",
              "      <td>test</td>\n",
              "      <td>foo</td>\n",
              "    </tr>\n",
              "    <tr>\n",
              "      <th>3</th>\n",
              "      <td>1.0</td>\n",
              "      <td>2013-01-02</td>\n",
              "      <td>1.0</td>\n",
              "      <td>3</td>\n",
              "      <td>train</td>\n",
              "      <td>foo</td>\n",
              "    </tr>\n",
              "  </tbody>\n",
              "</table>\n",
              "</div>\n",
              "      <button class=\"colab-df-convert\" onclick=\"convertToInteractive('df-7b90a61f-c38a-40c3-9745-2d29ac841033')\"\n",
              "              title=\"Convert this dataframe to an interactive table.\"\n",
              "              style=\"display:none;\">\n",
              "        \n",
              "  <svg xmlns=\"http://www.w3.org/2000/svg\" height=\"24px\"viewBox=\"0 0 24 24\"\n",
              "       width=\"24px\">\n",
              "    <path d=\"M0 0h24v24H0V0z\" fill=\"none\"/>\n",
              "    <path d=\"M18.56 5.44l.94 2.06.94-2.06 2.06-.94-2.06-.94-.94-2.06-.94 2.06-2.06.94zm-11 1L8.5 8.5l.94-2.06 2.06-.94-2.06-.94L8.5 2.5l-.94 2.06-2.06.94zm10 10l.94 2.06.94-2.06 2.06-.94-2.06-.94-.94-2.06-.94 2.06-2.06.94z\"/><path d=\"M17.41 7.96l-1.37-1.37c-.4-.4-.92-.59-1.43-.59-.52 0-1.04.2-1.43.59L10.3 9.45l-7.72 7.72c-.78.78-.78 2.05 0 2.83L4 21.41c.39.39.9.59 1.41.59.51 0 1.02-.2 1.41-.59l7.78-7.78 2.81-2.81c.8-.78.8-2.07 0-2.86zM5.41 20L4 18.59l7.72-7.72 1.47 1.35L5.41 20z\"/>\n",
              "  </svg>\n",
              "      </button>\n",
              "      \n",
              "  <style>\n",
              "    .colab-df-container {\n",
              "      display:flex;\n",
              "      flex-wrap:wrap;\n",
              "      gap: 12px;\n",
              "    }\n",
              "\n",
              "    .colab-df-convert {\n",
              "      background-color: #E8F0FE;\n",
              "      border: none;\n",
              "      border-radius: 50%;\n",
              "      cursor: pointer;\n",
              "      display: none;\n",
              "      fill: #1967D2;\n",
              "      height: 32px;\n",
              "      padding: 0 0 0 0;\n",
              "      width: 32px;\n",
              "    }\n",
              "\n",
              "    .colab-df-convert:hover {\n",
              "      background-color: #E2EBFA;\n",
              "      box-shadow: 0px 1px 2px rgba(60, 64, 67, 0.3), 0px 1px 3px 1px rgba(60, 64, 67, 0.15);\n",
              "      fill: #174EA6;\n",
              "    }\n",
              "\n",
              "    [theme=dark] .colab-df-convert {\n",
              "      background-color: #3B4455;\n",
              "      fill: #D2E3FC;\n",
              "    }\n",
              "\n",
              "    [theme=dark] .colab-df-convert:hover {\n",
              "      background-color: #434B5C;\n",
              "      box-shadow: 0px 1px 3px 1px rgba(0, 0, 0, 0.15);\n",
              "      filter: drop-shadow(0px 1px 2px rgba(0, 0, 0, 0.3));\n",
              "      fill: #FFFFFF;\n",
              "    }\n",
              "  </style>\n",
              "\n",
              "      <script>\n",
              "        const buttonEl =\n",
              "          document.querySelector('#df-7b90a61f-c38a-40c3-9745-2d29ac841033 button.colab-df-convert');\n",
              "        buttonEl.style.display =\n",
              "          google.colab.kernel.accessAllowed ? 'block' : 'none';\n",
              "\n",
              "        async function convertToInteractive(key) {\n",
              "          const element = document.querySelector('#df-7b90a61f-c38a-40c3-9745-2d29ac841033');\n",
              "          const dataTable =\n",
              "            await google.colab.kernel.invokeFunction('convertToInteractive',\n",
              "                                                     [key], {});\n",
              "          if (!dataTable) return;\n",
              "\n",
              "          const docLinkHtml = 'Like what you see? Visit the ' +\n",
              "            '<a target=\"_blank\" href=https://colab.research.google.com/notebooks/data_table.ipynb>data table notebook</a>'\n",
              "            + ' to learn more about interactive tables.';\n",
              "          element.innerHTML = '';\n",
              "          dataTable['output_type'] = 'display_data';\n",
              "          await google.colab.output.renderOutput(dataTable, element);\n",
              "          const docLink = document.createElement('div');\n",
              "          docLink.innerHTML = docLinkHtml;\n",
              "          element.appendChild(docLink);\n",
              "        }\n",
              "      </script>\n",
              "    </div>\n",
              "  </div>\n",
              "  "
            ]
          },
          "metadata": {},
          "execution_count": 24
        }
      ]
    },
    {
      "cell_type": "code",
      "source": [
        "# 여러가지 데이터타입을 가진 데이터프레임을 넘파이 배열로 전환\n",
        "df2.to_numpy()\n",
        "\n",
        "# 상대적으로 비용이 많이 든다"
      ],
      "metadata": {
        "colab": {
          "base_uri": "https://localhost:8080/"
        },
        "id": "kpbWodbiVcIn",
        "outputId": "ba7f7ec2-6886-4b17-c8e7-bf2603afaa8d"
      },
      "execution_count": null,
      "outputs": [
        {
          "output_type": "execute_result",
          "data": {
            "text/plain": [
              "array([[1.0, Timestamp('2013-01-02 00:00:00'), 1.0, 3, 'test', 'foo'],\n",
              "       [1.0, Timestamp('2013-01-02 00:00:00'), 1.0, 3, 'train', 'foo'],\n",
              "       [1.0, Timestamp('2013-01-02 00:00:00'), 1.0, 3, 'test', 'foo'],\n",
              "       [1.0, Timestamp('2013-01-02 00:00:00'), 1.0, 3, 'train', 'foo']],\n",
              "      dtype=object)"
            ]
          },
          "metadata": {},
          "execution_count": 25
        }
      ]
    },
    {
      "cell_type": "markdown",
      "source": [
        "## describe()\n",
        "> 1. shows a quick statistic summary of your data\n",
        "> * 기술통계량을 보여준다"
      ],
      "metadata": {
        "id": "wOyn4QHQa2Tr"
      }
    },
    {
      "cell_type": "code",
      "source": [
        "date = pd.date_range(\"20220316\", periods=6)\n",
        "df = pd.DataFrame(np.random.randn(6, 4), index = date, columns = list(\"ABCD\"))\n",
        "df.describe()"
      ],
      "metadata": {
        "colab": {
          "base_uri": "https://localhost:8080/",
          "height": 300
        },
        "id": "wElWuSQEbome",
        "outputId": "18a5449f-34cd-4326-93c4-2bd7a74e601f"
      },
      "execution_count": null,
      "outputs": [
        {
          "output_type": "execute_result",
          "data": {
            "text/plain": [
              "              A         B         C         D\n",
              "count  6.000000  6.000000  6.000000  6.000000\n",
              "mean   0.482520  0.147880  0.252794 -0.287169\n",
              "std    1.138419  0.760922  1.204060  0.999030\n",
              "min   -0.711652 -0.887342 -1.932532 -2.178000\n",
              "25%   -0.169939 -0.391533  0.049979 -0.318937\n",
              "50%    0.001508  0.289001  0.574541  0.022284\n",
              "75%    1.410964  0.607244  0.750848  0.081444\n",
              "max    1.950059  1.101674  1.615469  0.741933"
            ],
            "text/html": [
              "\n",
              "  <div id=\"df-230683cf-a12f-4842-a3b9-8ebcfb09e925\">\n",
              "    <div class=\"colab-df-container\">\n",
              "      <div>\n",
              "<style scoped>\n",
              "    .dataframe tbody tr th:only-of-type {\n",
              "        vertical-align: middle;\n",
              "    }\n",
              "\n",
              "    .dataframe tbody tr th {\n",
              "        vertical-align: top;\n",
              "    }\n",
              "\n",
              "    .dataframe thead th {\n",
              "        text-align: right;\n",
              "    }\n",
              "</style>\n",
              "<table border=\"1\" class=\"dataframe\">\n",
              "  <thead>\n",
              "    <tr style=\"text-align: right;\">\n",
              "      <th></th>\n",
              "      <th>A</th>\n",
              "      <th>B</th>\n",
              "      <th>C</th>\n",
              "      <th>D</th>\n",
              "    </tr>\n",
              "  </thead>\n",
              "  <tbody>\n",
              "    <tr>\n",
              "      <th>count</th>\n",
              "      <td>6.000000</td>\n",
              "      <td>6.000000</td>\n",
              "      <td>6.000000</td>\n",
              "      <td>6.000000</td>\n",
              "    </tr>\n",
              "    <tr>\n",
              "      <th>mean</th>\n",
              "      <td>0.482520</td>\n",
              "      <td>0.147880</td>\n",
              "      <td>0.252794</td>\n",
              "      <td>-0.287169</td>\n",
              "    </tr>\n",
              "    <tr>\n",
              "      <th>std</th>\n",
              "      <td>1.138419</td>\n",
              "      <td>0.760922</td>\n",
              "      <td>1.204060</td>\n",
              "      <td>0.999030</td>\n",
              "    </tr>\n",
              "    <tr>\n",
              "      <th>min</th>\n",
              "      <td>-0.711652</td>\n",
              "      <td>-0.887342</td>\n",
              "      <td>-1.932532</td>\n",
              "      <td>-2.178000</td>\n",
              "    </tr>\n",
              "    <tr>\n",
              "      <th>25%</th>\n",
              "      <td>-0.169939</td>\n",
              "      <td>-0.391533</td>\n",
              "      <td>0.049979</td>\n",
              "      <td>-0.318937</td>\n",
              "    </tr>\n",
              "    <tr>\n",
              "      <th>50%</th>\n",
              "      <td>0.001508</td>\n",
              "      <td>0.289001</td>\n",
              "      <td>0.574541</td>\n",
              "      <td>0.022284</td>\n",
              "    </tr>\n",
              "    <tr>\n",
              "      <th>75%</th>\n",
              "      <td>1.410964</td>\n",
              "      <td>0.607244</td>\n",
              "      <td>0.750848</td>\n",
              "      <td>0.081444</td>\n",
              "    </tr>\n",
              "    <tr>\n",
              "      <th>max</th>\n",
              "      <td>1.950059</td>\n",
              "      <td>1.101674</td>\n",
              "      <td>1.615469</td>\n",
              "      <td>0.741933</td>\n",
              "    </tr>\n",
              "  </tbody>\n",
              "</table>\n",
              "</div>\n",
              "      <button class=\"colab-df-convert\" onclick=\"convertToInteractive('df-230683cf-a12f-4842-a3b9-8ebcfb09e925')\"\n",
              "              title=\"Convert this dataframe to an interactive table.\"\n",
              "              style=\"display:none;\">\n",
              "        \n",
              "  <svg xmlns=\"http://www.w3.org/2000/svg\" height=\"24px\"viewBox=\"0 0 24 24\"\n",
              "       width=\"24px\">\n",
              "    <path d=\"M0 0h24v24H0V0z\" fill=\"none\"/>\n",
              "    <path d=\"M18.56 5.44l.94 2.06.94-2.06 2.06-.94-2.06-.94-.94-2.06-.94 2.06-2.06.94zm-11 1L8.5 8.5l.94-2.06 2.06-.94-2.06-.94L8.5 2.5l-.94 2.06-2.06.94zm10 10l.94 2.06.94-2.06 2.06-.94-2.06-.94-.94-2.06-.94 2.06-2.06.94z\"/><path d=\"M17.41 7.96l-1.37-1.37c-.4-.4-.92-.59-1.43-.59-.52 0-1.04.2-1.43.59L10.3 9.45l-7.72 7.72c-.78.78-.78 2.05 0 2.83L4 21.41c.39.39.9.59 1.41.59.51 0 1.02-.2 1.41-.59l7.78-7.78 2.81-2.81c.8-.78.8-2.07 0-2.86zM5.41 20L4 18.59l7.72-7.72 1.47 1.35L5.41 20z\"/>\n",
              "  </svg>\n",
              "      </button>\n",
              "      \n",
              "  <style>\n",
              "    .colab-df-container {\n",
              "      display:flex;\n",
              "      flex-wrap:wrap;\n",
              "      gap: 12px;\n",
              "    }\n",
              "\n",
              "    .colab-df-convert {\n",
              "      background-color: #E8F0FE;\n",
              "      border: none;\n",
              "      border-radius: 50%;\n",
              "      cursor: pointer;\n",
              "      display: none;\n",
              "      fill: #1967D2;\n",
              "      height: 32px;\n",
              "      padding: 0 0 0 0;\n",
              "      width: 32px;\n",
              "    }\n",
              "\n",
              "    .colab-df-convert:hover {\n",
              "      background-color: #E2EBFA;\n",
              "      box-shadow: 0px 1px 2px rgba(60, 64, 67, 0.3), 0px 1px 3px 1px rgba(60, 64, 67, 0.15);\n",
              "      fill: #174EA6;\n",
              "    }\n",
              "\n",
              "    [theme=dark] .colab-df-convert {\n",
              "      background-color: #3B4455;\n",
              "      fill: #D2E3FC;\n",
              "    }\n",
              "\n",
              "    [theme=dark] .colab-df-convert:hover {\n",
              "      background-color: #434B5C;\n",
              "      box-shadow: 0px 1px 3px 1px rgba(0, 0, 0, 0.15);\n",
              "      filter: drop-shadow(0px 1px 2px rgba(0, 0, 0, 0.3));\n",
              "      fill: #FFFFFF;\n",
              "    }\n",
              "  </style>\n",
              "\n",
              "      <script>\n",
              "        const buttonEl =\n",
              "          document.querySelector('#df-230683cf-a12f-4842-a3b9-8ebcfb09e925 button.colab-df-convert');\n",
              "        buttonEl.style.display =\n",
              "          google.colab.kernel.accessAllowed ? 'block' : 'none';\n",
              "\n",
              "        async function convertToInteractive(key) {\n",
              "          const element = document.querySelector('#df-230683cf-a12f-4842-a3b9-8ebcfb09e925');\n",
              "          const dataTable =\n",
              "            await google.colab.kernel.invokeFunction('convertToInteractive',\n",
              "                                                     [key], {});\n",
              "          if (!dataTable) return;\n",
              "\n",
              "          const docLinkHtml = 'Like what you see? Visit the ' +\n",
              "            '<a target=\"_blank\" href=https://colab.research.google.com/notebooks/data_table.ipynb>data table notebook</a>'\n",
              "            + ' to learn more about interactive tables.';\n",
              "          element.innerHTML = '';\n",
              "          dataTable['output_type'] = 'display_data';\n",
              "          await google.colab.output.renderOutput(dataTable, element);\n",
              "          const docLink = document.createElement('div');\n",
              "          docLink.innerHTML = docLinkHtml;\n",
              "          element.appendChild(docLink);\n",
              "        }\n",
              "      </script>\n",
              "    </div>\n",
              "  </div>\n",
              "  "
            ]
          },
          "metadata": {},
          "execution_count": 27
        }
      ]
    },
    {
      "cell_type": "markdown",
      "source": [
        "## T\n",
        "> 1. Transposing your data\n",
        "> * 행과 열의 위치를 바꿔준다"
      ],
      "metadata": {
        "id": "e8nvWOpyb17g"
      }
    },
    {
      "cell_type": "code",
      "source": [
        "date = pd.date_range(\"20220316\", periods=6)\n",
        "df = pd.DataFrame(np.random.randn(6, 4), index = date, columns = list(\"ABCD\"))\n",
        "df"
      ],
      "metadata": {
        "colab": {
          "base_uri": "https://localhost:8080/",
          "height": 238
        },
        "id": "7PAHrnOmcAuv",
        "outputId": "d2e1c2e9-84d7-4fbf-93e0-9d63edf50932"
      },
      "execution_count": null,
      "outputs": [
        {
          "output_type": "execute_result",
          "data": {
            "text/plain": [
              "                   A         B         C         D\n",
              "2022-03-16 -0.101549  0.443497 -1.721339 -2.309150\n",
              "2022-03-17 -0.183310  0.229298  0.919158  0.274853\n",
              "2022-03-18 -0.198247 -1.805586  0.336133 -0.843639\n",
              "2022-03-19 -0.583241 -2.053768  1.119126  0.015989\n",
              "2022-03-20 -0.687401 -0.173736  0.749335 -1.833492\n",
              "2022-03-21  0.319462  0.064602 -1.216903 -0.604855"
            ],
            "text/html": [
              "\n",
              "  <div id=\"df-e81daa83-778a-46ca-a143-574b5e3528e3\">\n",
              "    <div class=\"colab-df-container\">\n",
              "      <div>\n",
              "<style scoped>\n",
              "    .dataframe tbody tr th:only-of-type {\n",
              "        vertical-align: middle;\n",
              "    }\n",
              "\n",
              "    .dataframe tbody tr th {\n",
              "        vertical-align: top;\n",
              "    }\n",
              "\n",
              "    .dataframe thead th {\n",
              "        text-align: right;\n",
              "    }\n",
              "</style>\n",
              "<table border=\"1\" class=\"dataframe\">\n",
              "  <thead>\n",
              "    <tr style=\"text-align: right;\">\n",
              "      <th></th>\n",
              "      <th>A</th>\n",
              "      <th>B</th>\n",
              "      <th>C</th>\n",
              "      <th>D</th>\n",
              "    </tr>\n",
              "  </thead>\n",
              "  <tbody>\n",
              "    <tr>\n",
              "      <th>2022-03-16</th>\n",
              "      <td>-0.101549</td>\n",
              "      <td>0.443497</td>\n",
              "      <td>-1.721339</td>\n",
              "      <td>-2.309150</td>\n",
              "    </tr>\n",
              "    <tr>\n",
              "      <th>2022-03-17</th>\n",
              "      <td>-0.183310</td>\n",
              "      <td>0.229298</td>\n",
              "      <td>0.919158</td>\n",
              "      <td>0.274853</td>\n",
              "    </tr>\n",
              "    <tr>\n",
              "      <th>2022-03-18</th>\n",
              "      <td>-0.198247</td>\n",
              "      <td>-1.805586</td>\n",
              "      <td>0.336133</td>\n",
              "      <td>-0.843639</td>\n",
              "    </tr>\n",
              "    <tr>\n",
              "      <th>2022-03-19</th>\n",
              "      <td>-0.583241</td>\n",
              "      <td>-2.053768</td>\n",
              "      <td>1.119126</td>\n",
              "      <td>0.015989</td>\n",
              "    </tr>\n",
              "    <tr>\n",
              "      <th>2022-03-20</th>\n",
              "      <td>-0.687401</td>\n",
              "      <td>-0.173736</td>\n",
              "      <td>0.749335</td>\n",
              "      <td>-1.833492</td>\n",
              "    </tr>\n",
              "    <tr>\n",
              "      <th>2022-03-21</th>\n",
              "      <td>0.319462</td>\n",
              "      <td>0.064602</td>\n",
              "      <td>-1.216903</td>\n",
              "      <td>-0.604855</td>\n",
              "    </tr>\n",
              "  </tbody>\n",
              "</table>\n",
              "</div>\n",
              "      <button class=\"colab-df-convert\" onclick=\"convertToInteractive('df-e81daa83-778a-46ca-a143-574b5e3528e3')\"\n",
              "              title=\"Convert this dataframe to an interactive table.\"\n",
              "              style=\"display:none;\">\n",
              "        \n",
              "  <svg xmlns=\"http://www.w3.org/2000/svg\" height=\"24px\"viewBox=\"0 0 24 24\"\n",
              "       width=\"24px\">\n",
              "    <path d=\"M0 0h24v24H0V0z\" fill=\"none\"/>\n",
              "    <path d=\"M18.56 5.44l.94 2.06.94-2.06 2.06-.94-2.06-.94-.94-2.06-.94 2.06-2.06.94zm-11 1L8.5 8.5l.94-2.06 2.06-.94-2.06-.94L8.5 2.5l-.94 2.06-2.06.94zm10 10l.94 2.06.94-2.06 2.06-.94-2.06-.94-.94-2.06-.94 2.06-2.06.94z\"/><path d=\"M17.41 7.96l-1.37-1.37c-.4-.4-.92-.59-1.43-.59-.52 0-1.04.2-1.43.59L10.3 9.45l-7.72 7.72c-.78.78-.78 2.05 0 2.83L4 21.41c.39.39.9.59 1.41.59.51 0 1.02-.2 1.41-.59l7.78-7.78 2.81-2.81c.8-.78.8-2.07 0-2.86zM5.41 20L4 18.59l7.72-7.72 1.47 1.35L5.41 20z\"/>\n",
              "  </svg>\n",
              "      </button>\n",
              "      \n",
              "  <style>\n",
              "    .colab-df-container {\n",
              "      display:flex;\n",
              "      flex-wrap:wrap;\n",
              "      gap: 12px;\n",
              "    }\n",
              "\n",
              "    .colab-df-convert {\n",
              "      background-color: #E8F0FE;\n",
              "      border: none;\n",
              "      border-radius: 50%;\n",
              "      cursor: pointer;\n",
              "      display: none;\n",
              "      fill: #1967D2;\n",
              "      height: 32px;\n",
              "      padding: 0 0 0 0;\n",
              "      width: 32px;\n",
              "    }\n",
              "\n",
              "    .colab-df-convert:hover {\n",
              "      background-color: #E2EBFA;\n",
              "      box-shadow: 0px 1px 2px rgba(60, 64, 67, 0.3), 0px 1px 3px 1px rgba(60, 64, 67, 0.15);\n",
              "      fill: #174EA6;\n",
              "    }\n",
              "\n",
              "    [theme=dark] .colab-df-convert {\n",
              "      background-color: #3B4455;\n",
              "      fill: #D2E3FC;\n",
              "    }\n",
              "\n",
              "    [theme=dark] .colab-df-convert:hover {\n",
              "      background-color: #434B5C;\n",
              "      box-shadow: 0px 1px 3px 1px rgba(0, 0, 0, 0.15);\n",
              "      filter: drop-shadow(0px 1px 2px rgba(0, 0, 0, 0.3));\n",
              "      fill: #FFFFFF;\n",
              "    }\n",
              "  </style>\n",
              "\n",
              "      <script>\n",
              "        const buttonEl =\n",
              "          document.querySelector('#df-e81daa83-778a-46ca-a143-574b5e3528e3 button.colab-df-convert');\n",
              "        buttonEl.style.display =\n",
              "          google.colab.kernel.accessAllowed ? 'block' : 'none';\n",
              "\n",
              "        async function convertToInteractive(key) {\n",
              "          const element = document.querySelector('#df-e81daa83-778a-46ca-a143-574b5e3528e3');\n",
              "          const dataTable =\n",
              "            await google.colab.kernel.invokeFunction('convertToInteractive',\n",
              "                                                     [key], {});\n",
              "          if (!dataTable) return;\n",
              "\n",
              "          const docLinkHtml = 'Like what you see? Visit the ' +\n",
              "            '<a target=\"_blank\" href=https://colab.research.google.com/notebooks/data_table.ipynb>data table notebook</a>'\n",
              "            + ' to learn more about interactive tables.';\n",
              "          element.innerHTML = '';\n",
              "          dataTable['output_type'] = 'display_data';\n",
              "          await google.colab.output.renderOutput(dataTable, element);\n",
              "          const docLink = document.createElement('div');\n",
              "          docLink.innerHTML = docLinkHtml;\n",
              "          element.appendChild(docLink);\n",
              "        }\n",
              "      </script>\n",
              "    </div>\n",
              "  </div>\n",
              "  "
            ]
          },
          "metadata": {},
          "execution_count": 28
        }
      ]
    },
    {
      "cell_type": "code",
      "source": [
        "df.T"
      ],
      "metadata": {
        "colab": {
          "base_uri": "https://localhost:8080/",
          "height": 175
        },
        "id": "osvjrKjgcD_8",
        "outputId": "fe4c23cf-6f0f-4744-ce6e-13a31e84a019"
      },
      "execution_count": null,
      "outputs": [
        {
          "output_type": "execute_result",
          "data": {
            "text/plain": [
              "   2022-03-16  2022-03-17  2022-03-18  2022-03-19  2022-03-20  2022-03-21\n",
              "A   -0.101549   -0.183310   -0.198247   -0.583241   -0.687401    0.319462\n",
              "B    0.443497    0.229298   -1.805586   -2.053768   -0.173736    0.064602\n",
              "C   -1.721339    0.919158    0.336133    1.119126    0.749335   -1.216903\n",
              "D   -2.309150    0.274853   -0.843639    0.015989   -1.833492   -0.604855"
            ],
            "text/html": [
              "\n",
              "  <div id=\"df-e6eb8fdd-7f23-4541-acfd-9e151579a9eb\">\n",
              "    <div class=\"colab-df-container\">\n",
              "      <div>\n",
              "<style scoped>\n",
              "    .dataframe tbody tr th:only-of-type {\n",
              "        vertical-align: middle;\n",
              "    }\n",
              "\n",
              "    .dataframe tbody tr th {\n",
              "        vertical-align: top;\n",
              "    }\n",
              "\n",
              "    .dataframe thead th {\n",
              "        text-align: right;\n",
              "    }\n",
              "</style>\n",
              "<table border=\"1\" class=\"dataframe\">\n",
              "  <thead>\n",
              "    <tr style=\"text-align: right;\">\n",
              "      <th></th>\n",
              "      <th>2022-03-16</th>\n",
              "      <th>2022-03-17</th>\n",
              "      <th>2022-03-18</th>\n",
              "      <th>2022-03-19</th>\n",
              "      <th>2022-03-20</th>\n",
              "      <th>2022-03-21</th>\n",
              "    </tr>\n",
              "  </thead>\n",
              "  <tbody>\n",
              "    <tr>\n",
              "      <th>A</th>\n",
              "      <td>-0.101549</td>\n",
              "      <td>-0.183310</td>\n",
              "      <td>-0.198247</td>\n",
              "      <td>-0.583241</td>\n",
              "      <td>-0.687401</td>\n",
              "      <td>0.319462</td>\n",
              "    </tr>\n",
              "    <tr>\n",
              "      <th>B</th>\n",
              "      <td>0.443497</td>\n",
              "      <td>0.229298</td>\n",
              "      <td>-1.805586</td>\n",
              "      <td>-2.053768</td>\n",
              "      <td>-0.173736</td>\n",
              "      <td>0.064602</td>\n",
              "    </tr>\n",
              "    <tr>\n",
              "      <th>C</th>\n",
              "      <td>-1.721339</td>\n",
              "      <td>0.919158</td>\n",
              "      <td>0.336133</td>\n",
              "      <td>1.119126</td>\n",
              "      <td>0.749335</td>\n",
              "      <td>-1.216903</td>\n",
              "    </tr>\n",
              "    <tr>\n",
              "      <th>D</th>\n",
              "      <td>-2.309150</td>\n",
              "      <td>0.274853</td>\n",
              "      <td>-0.843639</td>\n",
              "      <td>0.015989</td>\n",
              "      <td>-1.833492</td>\n",
              "      <td>-0.604855</td>\n",
              "    </tr>\n",
              "  </tbody>\n",
              "</table>\n",
              "</div>\n",
              "      <button class=\"colab-df-convert\" onclick=\"convertToInteractive('df-e6eb8fdd-7f23-4541-acfd-9e151579a9eb')\"\n",
              "              title=\"Convert this dataframe to an interactive table.\"\n",
              "              style=\"display:none;\">\n",
              "        \n",
              "  <svg xmlns=\"http://www.w3.org/2000/svg\" height=\"24px\"viewBox=\"0 0 24 24\"\n",
              "       width=\"24px\">\n",
              "    <path d=\"M0 0h24v24H0V0z\" fill=\"none\"/>\n",
              "    <path d=\"M18.56 5.44l.94 2.06.94-2.06 2.06-.94-2.06-.94-.94-2.06-.94 2.06-2.06.94zm-11 1L8.5 8.5l.94-2.06 2.06-.94-2.06-.94L8.5 2.5l-.94 2.06-2.06.94zm10 10l.94 2.06.94-2.06 2.06-.94-2.06-.94-.94-2.06-.94 2.06-2.06.94z\"/><path d=\"M17.41 7.96l-1.37-1.37c-.4-.4-.92-.59-1.43-.59-.52 0-1.04.2-1.43.59L10.3 9.45l-7.72 7.72c-.78.78-.78 2.05 0 2.83L4 21.41c.39.39.9.59 1.41.59.51 0 1.02-.2 1.41-.59l7.78-7.78 2.81-2.81c.8-.78.8-2.07 0-2.86zM5.41 20L4 18.59l7.72-7.72 1.47 1.35L5.41 20z\"/>\n",
              "  </svg>\n",
              "      </button>\n",
              "      \n",
              "  <style>\n",
              "    .colab-df-container {\n",
              "      display:flex;\n",
              "      flex-wrap:wrap;\n",
              "      gap: 12px;\n",
              "    }\n",
              "\n",
              "    .colab-df-convert {\n",
              "      background-color: #E8F0FE;\n",
              "      border: none;\n",
              "      border-radius: 50%;\n",
              "      cursor: pointer;\n",
              "      display: none;\n",
              "      fill: #1967D2;\n",
              "      height: 32px;\n",
              "      padding: 0 0 0 0;\n",
              "      width: 32px;\n",
              "    }\n",
              "\n",
              "    .colab-df-convert:hover {\n",
              "      background-color: #E2EBFA;\n",
              "      box-shadow: 0px 1px 2px rgba(60, 64, 67, 0.3), 0px 1px 3px 1px rgba(60, 64, 67, 0.15);\n",
              "      fill: #174EA6;\n",
              "    }\n",
              "\n",
              "    [theme=dark] .colab-df-convert {\n",
              "      background-color: #3B4455;\n",
              "      fill: #D2E3FC;\n",
              "    }\n",
              "\n",
              "    [theme=dark] .colab-df-convert:hover {\n",
              "      background-color: #434B5C;\n",
              "      box-shadow: 0px 1px 3px 1px rgba(0, 0, 0, 0.15);\n",
              "      filter: drop-shadow(0px 1px 2px rgba(0, 0, 0, 0.3));\n",
              "      fill: #FFFFFF;\n",
              "    }\n",
              "  </style>\n",
              "\n",
              "      <script>\n",
              "        const buttonEl =\n",
              "          document.querySelector('#df-e6eb8fdd-7f23-4541-acfd-9e151579a9eb button.colab-df-convert');\n",
              "        buttonEl.style.display =\n",
              "          google.colab.kernel.accessAllowed ? 'block' : 'none';\n",
              "\n",
              "        async function convertToInteractive(key) {\n",
              "          const element = document.querySelector('#df-e6eb8fdd-7f23-4541-acfd-9e151579a9eb');\n",
              "          const dataTable =\n",
              "            await google.colab.kernel.invokeFunction('convertToInteractive',\n",
              "                                                     [key], {});\n",
              "          if (!dataTable) return;\n",
              "\n",
              "          const docLinkHtml = 'Like what you see? Visit the ' +\n",
              "            '<a target=\"_blank\" href=https://colab.research.google.com/notebooks/data_table.ipynb>data table notebook</a>'\n",
              "            + ' to learn more about interactive tables.';\n",
              "          element.innerHTML = '';\n",
              "          dataTable['output_type'] = 'display_data';\n",
              "          await google.colab.output.renderOutput(dataTable, element);\n",
              "          const docLink = document.createElement('div');\n",
              "          docLink.innerHTML = docLinkHtml;\n",
              "          element.appendChild(docLink);\n",
              "        }\n",
              "      </script>\n",
              "    </div>\n",
              "  </div>\n",
              "  "
            ]
          },
          "metadata": {},
          "execution_count": 29
        }
      ]
    },
    {
      "cell_type": "markdown",
      "source": [
        "## Sorting\n",
        "* 데이터 정렬"
      ],
      "metadata": {
        "id": "CCIUA6dQcHQ9"
      }
    },
    {
      "cell_type": "markdown",
      "source": [
        "### sort_index()\n",
        "> 1. Sorting by an axis\n",
        "> * 축을 기준으로 정렬한다"
      ],
      "metadata": {
        "id": "naffyg_zcNnK"
      }
    },
    {
      "cell_type": "code",
      "source": [
        "date = pd.date_range(\"20220316\", periods=6)\n",
        "df = pd.DataFrame(np.random.randn(6, 4), index = date, columns = list(\"2143\"))\n",
        "print(df)"
      ],
      "metadata": {
        "colab": {
          "base_uri": "https://localhost:8080/"
        },
        "id": "C2u55Gp0ciUm",
        "outputId": "ca51a2d0-281d-4bbf-a464-e9be85233c24"
      },
      "execution_count": null,
      "outputs": [
        {
          "output_type": "stream",
          "name": "stdout",
          "text": [
            "                   2         1         4         3\n",
            "2022-03-16  1.273508 -0.221702  0.048192 -0.338185\n",
            "2022-03-17  0.889562  0.691625 -0.986336 -0.590182\n",
            "2022-03-18  0.323091  0.012097 -0.816734 -0.491124\n",
            "2022-03-19 -0.736021  0.711735 -1.188399  2.279130\n",
            "2022-03-20 -1.579504 -0.434708 -0.223042  0.948387\n",
            "2022-03-21  0.443991 -0.346676  0.534585  0.002269\n"
          ]
        }
      ]
    },
    {
      "cell_type": "code",
      "source": [
        "# axis = 0 // 행을 기준으로 정렬\n",
        "# ascending = False // 내림차순 정렬\n",
        "print(df.sort_index(axis = 0, ascending = False))\n",
        "print(\"=========================================\")\n",
        "\n",
        "\n",
        "# axis = 1 // 열을 기준으로 정렬\n",
        "print(df.sort_index(axis = 1, ascending = True))"
      ],
      "metadata": {
        "colab": {
          "base_uri": "https://localhost:8080/"
        },
        "id": "nOEk_6Z6cugU",
        "outputId": "67ee943b-a5b2-4c84-eb10-44e81aff3322"
      },
      "execution_count": null,
      "outputs": [
        {
          "output_type": "stream",
          "name": "stdout",
          "text": [
            "                   2         1         4         3\n",
            "2022-03-21 -0.150155  1.942053  2.525599 -0.766238\n",
            "2022-03-20 -0.488143 -1.849294  0.062230  0.619468\n",
            "2022-03-19 -1.097454  0.923956 -1.663568 -1.325204\n",
            "2022-03-18 -2.265382 -0.966956  0.163207 -0.242535\n",
            "2022-03-17  0.231865  0.570359  0.807578 -1.804005\n",
            "2022-03-16 -1.765378  1.023030 -0.679927 -0.181302\n",
            "==================================\n",
            "                   1         2         3         4\n",
            "2022-03-16  1.023030 -1.765378 -0.181302 -0.679927\n",
            "2022-03-17  0.570359  0.231865 -1.804005  0.807578\n",
            "2022-03-18 -0.966956 -2.265382 -0.242535  0.163207\n",
            "2022-03-19  0.923956 -1.097454 -1.325204 -1.663568\n",
            "2022-03-20 -1.849294 -0.488143  0.619468  0.062230\n",
            "2022-03-21  1.942053 -0.150155 -0.766238  2.525599\n"
          ]
        }
      ]
    },
    {
      "cell_type": "markdown",
      "source": [
        "### sort_values()\n",
        "> 1. Sorting by values\n",
        "> * 변수를 기준으로 정렬한다 "
      ],
      "metadata": {
        "id": "6cD3bOS8dXlM"
      }
    },
    {
      "cell_type": "code",
      "source": [
        "date = pd.date_range(\"20220316\", periods=6)\n",
        "df = pd.DataFrame(np.random.randn(6, 4), index = date, columns = list(\"2143\"))\n",
        "print(df)"
      ],
      "metadata": {
        "colab": {
          "base_uri": "https://localhost:8080/"
        },
        "id": "BedSQYYGdk5E",
        "outputId": "4b0266aa-fa81-4517-d8e2-b87782c29354"
      },
      "execution_count": null,
      "outputs": [
        {
          "output_type": "stream",
          "name": "stdout",
          "text": [
            "                   2         1         4         3\n",
            "2022-03-16  0.157233 -1.560682 -2.024392 -0.171238\n",
            "2022-03-17 -0.580895  1.053952  0.024781 -0.823299\n",
            "2022-03-18 -1.539418  2.013102 -1.158369  1.302211\n",
            "2022-03-19  0.199640  1.036865 -0.595927 -1.320113\n",
            "2022-03-20  0.388695 -0.315452 -0.344361 -2.697749\n",
            "2022-03-21  1.257881  0.048520 -1.582087 -0.256044\n"
          ]
        }
      ]
    },
    {
      "cell_type": "code",
      "source": [
        "# 2번 열의 변수를 내림차순으로 정렬한다\n",
        "# 2번 열의 변수들만 정렬이 되는 것이 아니라 정렬된 행 전체가 정렬된다\n",
        "df.sort_values(by = \"2\", ascending = False)"
      ],
      "metadata": {
        "colab": {
          "base_uri": "https://localhost:8080/",
          "height": 238
        },
        "id": "Os_N92yJdmvU",
        "outputId": "9ed88a44-7d36-4c09-ea58-0dfdb4d738c3"
      },
      "execution_count": null,
      "outputs": [
        {
          "output_type": "execute_result",
          "data": {
            "text/plain": [
              "                   2         1         4         3\n",
              "2022-03-21  1.257881  0.048520 -1.582087 -0.256044\n",
              "2022-03-20  0.388695 -0.315452 -0.344361 -2.697749\n",
              "2022-03-19  0.199640  1.036865 -0.595927 -1.320113\n",
              "2022-03-16  0.157233 -1.560682 -2.024392 -0.171238\n",
              "2022-03-17 -0.580895  1.053952  0.024781 -0.823299\n",
              "2022-03-18 -1.539418  2.013102 -1.158369  1.302211"
            ],
            "text/html": [
              "\n",
              "  <div id=\"df-2bcbcbba-5521-4b45-b85d-4416442914fc\">\n",
              "    <div class=\"colab-df-container\">\n",
              "      <div>\n",
              "<style scoped>\n",
              "    .dataframe tbody tr th:only-of-type {\n",
              "        vertical-align: middle;\n",
              "    }\n",
              "\n",
              "    .dataframe tbody tr th {\n",
              "        vertical-align: top;\n",
              "    }\n",
              "\n",
              "    .dataframe thead th {\n",
              "        text-align: right;\n",
              "    }\n",
              "</style>\n",
              "<table border=\"1\" class=\"dataframe\">\n",
              "  <thead>\n",
              "    <tr style=\"text-align: right;\">\n",
              "      <th></th>\n",
              "      <th>2</th>\n",
              "      <th>1</th>\n",
              "      <th>4</th>\n",
              "      <th>3</th>\n",
              "    </tr>\n",
              "  </thead>\n",
              "  <tbody>\n",
              "    <tr>\n",
              "      <th>2022-03-21</th>\n",
              "      <td>1.257881</td>\n",
              "      <td>0.048520</td>\n",
              "      <td>-1.582087</td>\n",
              "      <td>-0.256044</td>\n",
              "    </tr>\n",
              "    <tr>\n",
              "      <th>2022-03-20</th>\n",
              "      <td>0.388695</td>\n",
              "      <td>-0.315452</td>\n",
              "      <td>-0.344361</td>\n",
              "      <td>-2.697749</td>\n",
              "    </tr>\n",
              "    <tr>\n",
              "      <th>2022-03-19</th>\n",
              "      <td>0.199640</td>\n",
              "      <td>1.036865</td>\n",
              "      <td>-0.595927</td>\n",
              "      <td>-1.320113</td>\n",
              "    </tr>\n",
              "    <tr>\n",
              "      <th>2022-03-16</th>\n",
              "      <td>0.157233</td>\n",
              "      <td>-1.560682</td>\n",
              "      <td>-2.024392</td>\n",
              "      <td>-0.171238</td>\n",
              "    </tr>\n",
              "    <tr>\n",
              "      <th>2022-03-17</th>\n",
              "      <td>-0.580895</td>\n",
              "      <td>1.053952</td>\n",
              "      <td>0.024781</td>\n",
              "      <td>-0.823299</td>\n",
              "    </tr>\n",
              "    <tr>\n",
              "      <th>2022-03-18</th>\n",
              "      <td>-1.539418</td>\n",
              "      <td>2.013102</td>\n",
              "      <td>-1.158369</td>\n",
              "      <td>1.302211</td>\n",
              "    </tr>\n",
              "  </tbody>\n",
              "</table>\n",
              "</div>\n",
              "      <button class=\"colab-df-convert\" onclick=\"convertToInteractive('df-2bcbcbba-5521-4b45-b85d-4416442914fc')\"\n",
              "              title=\"Convert this dataframe to an interactive table.\"\n",
              "              style=\"display:none;\">\n",
              "        \n",
              "  <svg xmlns=\"http://www.w3.org/2000/svg\" height=\"24px\"viewBox=\"0 0 24 24\"\n",
              "       width=\"24px\">\n",
              "    <path d=\"M0 0h24v24H0V0z\" fill=\"none\"/>\n",
              "    <path d=\"M18.56 5.44l.94 2.06.94-2.06 2.06-.94-2.06-.94-.94-2.06-.94 2.06-2.06.94zm-11 1L8.5 8.5l.94-2.06 2.06-.94-2.06-.94L8.5 2.5l-.94 2.06-2.06.94zm10 10l.94 2.06.94-2.06 2.06-.94-2.06-.94-.94-2.06-.94 2.06-2.06.94z\"/><path d=\"M17.41 7.96l-1.37-1.37c-.4-.4-.92-.59-1.43-.59-.52 0-1.04.2-1.43.59L10.3 9.45l-7.72 7.72c-.78.78-.78 2.05 0 2.83L4 21.41c.39.39.9.59 1.41.59.51 0 1.02-.2 1.41-.59l7.78-7.78 2.81-2.81c.8-.78.8-2.07 0-2.86zM5.41 20L4 18.59l7.72-7.72 1.47 1.35L5.41 20z\"/>\n",
              "  </svg>\n",
              "      </button>\n",
              "      \n",
              "  <style>\n",
              "    .colab-df-container {\n",
              "      display:flex;\n",
              "      flex-wrap:wrap;\n",
              "      gap: 12px;\n",
              "    }\n",
              "\n",
              "    .colab-df-convert {\n",
              "      background-color: #E8F0FE;\n",
              "      border: none;\n",
              "      border-radius: 50%;\n",
              "      cursor: pointer;\n",
              "      display: none;\n",
              "      fill: #1967D2;\n",
              "      height: 32px;\n",
              "      padding: 0 0 0 0;\n",
              "      width: 32px;\n",
              "    }\n",
              "\n",
              "    .colab-df-convert:hover {\n",
              "      background-color: #E2EBFA;\n",
              "      box-shadow: 0px 1px 2px rgba(60, 64, 67, 0.3), 0px 1px 3px 1px rgba(60, 64, 67, 0.15);\n",
              "      fill: #174EA6;\n",
              "    }\n",
              "\n",
              "    [theme=dark] .colab-df-convert {\n",
              "      background-color: #3B4455;\n",
              "      fill: #D2E3FC;\n",
              "    }\n",
              "\n",
              "    [theme=dark] .colab-df-convert:hover {\n",
              "      background-color: #434B5C;\n",
              "      box-shadow: 0px 1px 3px 1px rgba(0, 0, 0, 0.15);\n",
              "      filter: drop-shadow(0px 1px 2px rgba(0, 0, 0, 0.3));\n",
              "      fill: #FFFFFF;\n",
              "    }\n",
              "  </style>\n",
              "\n",
              "      <script>\n",
              "        const buttonEl =\n",
              "          document.querySelector('#df-2bcbcbba-5521-4b45-b85d-4416442914fc button.colab-df-convert');\n",
              "        buttonEl.style.display =\n",
              "          google.colab.kernel.accessAllowed ? 'block' : 'none';\n",
              "\n",
              "        async function convertToInteractive(key) {\n",
              "          const element = document.querySelector('#df-2bcbcbba-5521-4b45-b85d-4416442914fc');\n",
              "          const dataTable =\n",
              "            await google.colab.kernel.invokeFunction('convertToInteractive',\n",
              "                                                     [key], {});\n",
              "          if (!dataTable) return;\n",
              "\n",
              "          const docLinkHtml = 'Like what you see? Visit the ' +\n",
              "            '<a target=\"_blank\" href=https://colab.research.google.com/notebooks/data_table.ipynb>data table notebook</a>'\n",
              "            + ' to learn more about interactive tables.';\n",
              "          element.innerHTML = '';\n",
              "          dataTable['output_type'] = 'display_data';\n",
              "          await google.colab.output.renderOutput(dataTable, element);\n",
              "          const docLink = document.createElement('div');\n",
              "          docLink.innerHTML = docLinkHtml;\n",
              "          element.appendChild(docLink);\n",
              "        }\n",
              "      </script>\n",
              "    </div>\n",
              "  </div>\n",
              "  "
            ]
          },
          "metadata": {},
          "execution_count": 43
        }
      ]
    },
    {
      "cell_type": "markdown",
      "source": [
        "# Selection\n",
        "* 넘파이나 파이썬은 대화형식의 코딩을 할때 편하고 직관적이지만 판다스는 대량의 코딩을 할때 최적화 되어있다"
      ],
      "metadata": {
        "id": "W2sp0mFWZalY"
      }
    },
    {
      "cell_type": "code",
      "source": [
        "import numpy as np\n",
        "import pandas as pd"
      ],
      "metadata": {
        "id": "e3fdOlApcUdS"
      },
      "execution_count": 1,
      "outputs": []
    },
    {
      "cell_type": "markdown",
      "source": [
        "## Getting\n"
      ],
      "metadata": {
        "id": "v0Qhi3zXayrY"
      }
    },
    {
      "cell_type": "markdown",
      "source": [
        "### df[\"A\"] // df.A\n",
        "> 1. Selecting a single column, which yields a Series, equivalent to df.A\n",
        "  * 하나의 컬럼을 선택해서 시리즈로 넘겨준다, df[\"A\"] 와 df.A 는 같다"
      ],
      "metadata": {
        "id": "Oy-47GRDbiUR"
      }
    },
    {
      "cell_type": "code",
      "source": [
        "date = pd.date_range(\"20220317\", periods = 6)\n",
        "df = pd.DataFrame(np.random.randn(6, 4), index = date, columns = list(\"ABCD\"))\n",
        "df"
      ],
      "metadata": {
        "colab": {
          "base_uri": "https://localhost:8080/",
          "height": 238
        },
        "id": "hKdMWp2kcRbb",
        "outputId": "5b6a64c8-bdd8-4f01-fe06-2f0c1af231c9"
      },
      "execution_count": 9,
      "outputs": [
        {
          "output_type": "execute_result",
          "data": {
            "text/plain": [
              "                   A         B         C         D\n",
              "2022-03-17  0.695848 -1.472368  1.280008  0.085338\n",
              "2022-03-18  0.196000  0.326038  1.026610  0.641336\n",
              "2022-03-19 -0.706530 -1.072691 -0.134640  1.160450\n",
              "2022-03-20  1.618679  0.284562  1.216802  1.824457\n",
              "2022-03-21  0.854345  0.452299  1.179281  0.419414\n",
              "2022-03-22 -2.012897 -0.117187 -1.892429  0.378727"
            ],
            "text/html": [
              "\n",
              "  <div id=\"df-b115f201-8111-48af-b399-78307cccaa1c\">\n",
              "    <div class=\"colab-df-container\">\n",
              "      <div>\n",
              "<style scoped>\n",
              "    .dataframe tbody tr th:only-of-type {\n",
              "        vertical-align: middle;\n",
              "    }\n",
              "\n",
              "    .dataframe tbody tr th {\n",
              "        vertical-align: top;\n",
              "    }\n",
              "\n",
              "    .dataframe thead th {\n",
              "        text-align: right;\n",
              "    }\n",
              "</style>\n",
              "<table border=\"1\" class=\"dataframe\">\n",
              "  <thead>\n",
              "    <tr style=\"text-align: right;\">\n",
              "      <th></th>\n",
              "      <th>A</th>\n",
              "      <th>B</th>\n",
              "      <th>C</th>\n",
              "      <th>D</th>\n",
              "    </tr>\n",
              "  </thead>\n",
              "  <tbody>\n",
              "    <tr>\n",
              "      <th>2022-03-17</th>\n",
              "      <td>0.695848</td>\n",
              "      <td>-1.472368</td>\n",
              "      <td>1.280008</td>\n",
              "      <td>0.085338</td>\n",
              "    </tr>\n",
              "    <tr>\n",
              "      <th>2022-03-18</th>\n",
              "      <td>0.196000</td>\n",
              "      <td>0.326038</td>\n",
              "      <td>1.026610</td>\n",
              "      <td>0.641336</td>\n",
              "    </tr>\n",
              "    <tr>\n",
              "      <th>2022-03-19</th>\n",
              "      <td>-0.706530</td>\n",
              "      <td>-1.072691</td>\n",
              "      <td>-0.134640</td>\n",
              "      <td>1.160450</td>\n",
              "    </tr>\n",
              "    <tr>\n",
              "      <th>2022-03-20</th>\n",
              "      <td>1.618679</td>\n",
              "      <td>0.284562</td>\n",
              "      <td>1.216802</td>\n",
              "      <td>1.824457</td>\n",
              "    </tr>\n",
              "    <tr>\n",
              "      <th>2022-03-21</th>\n",
              "      <td>0.854345</td>\n",
              "      <td>0.452299</td>\n",
              "      <td>1.179281</td>\n",
              "      <td>0.419414</td>\n",
              "    </tr>\n",
              "    <tr>\n",
              "      <th>2022-03-22</th>\n",
              "      <td>-2.012897</td>\n",
              "      <td>-0.117187</td>\n",
              "      <td>-1.892429</td>\n",
              "      <td>0.378727</td>\n",
              "    </tr>\n",
              "  </tbody>\n",
              "</table>\n",
              "</div>\n",
              "      <button class=\"colab-df-convert\" onclick=\"convertToInteractive('df-b115f201-8111-48af-b399-78307cccaa1c')\"\n",
              "              title=\"Convert this dataframe to an interactive table.\"\n",
              "              style=\"display:none;\">\n",
              "        \n",
              "  <svg xmlns=\"http://www.w3.org/2000/svg\" height=\"24px\"viewBox=\"0 0 24 24\"\n",
              "       width=\"24px\">\n",
              "    <path d=\"M0 0h24v24H0V0z\" fill=\"none\"/>\n",
              "    <path d=\"M18.56 5.44l.94 2.06.94-2.06 2.06-.94-2.06-.94-.94-2.06-.94 2.06-2.06.94zm-11 1L8.5 8.5l.94-2.06 2.06-.94-2.06-.94L8.5 2.5l-.94 2.06-2.06.94zm10 10l.94 2.06.94-2.06 2.06-.94-2.06-.94-.94-2.06-.94 2.06-2.06.94z\"/><path d=\"M17.41 7.96l-1.37-1.37c-.4-.4-.92-.59-1.43-.59-.52 0-1.04.2-1.43.59L10.3 9.45l-7.72 7.72c-.78.78-.78 2.05 0 2.83L4 21.41c.39.39.9.59 1.41.59.51 0 1.02-.2 1.41-.59l7.78-7.78 2.81-2.81c.8-.78.8-2.07 0-2.86zM5.41 20L4 18.59l7.72-7.72 1.47 1.35L5.41 20z\"/>\n",
              "  </svg>\n",
              "      </button>\n",
              "      \n",
              "  <style>\n",
              "    .colab-df-container {\n",
              "      display:flex;\n",
              "      flex-wrap:wrap;\n",
              "      gap: 12px;\n",
              "    }\n",
              "\n",
              "    .colab-df-convert {\n",
              "      background-color: #E8F0FE;\n",
              "      border: none;\n",
              "      border-radius: 50%;\n",
              "      cursor: pointer;\n",
              "      display: none;\n",
              "      fill: #1967D2;\n",
              "      height: 32px;\n",
              "      padding: 0 0 0 0;\n",
              "      width: 32px;\n",
              "    }\n",
              "\n",
              "    .colab-df-convert:hover {\n",
              "      background-color: #E2EBFA;\n",
              "      box-shadow: 0px 1px 2px rgba(60, 64, 67, 0.3), 0px 1px 3px 1px rgba(60, 64, 67, 0.15);\n",
              "      fill: #174EA6;\n",
              "    }\n",
              "\n",
              "    [theme=dark] .colab-df-convert {\n",
              "      background-color: #3B4455;\n",
              "      fill: #D2E3FC;\n",
              "    }\n",
              "\n",
              "    [theme=dark] .colab-df-convert:hover {\n",
              "      background-color: #434B5C;\n",
              "      box-shadow: 0px 1px 3px 1px rgba(0, 0, 0, 0.15);\n",
              "      filter: drop-shadow(0px 1px 2px rgba(0, 0, 0, 0.3));\n",
              "      fill: #FFFFFF;\n",
              "    }\n",
              "  </style>\n",
              "\n",
              "      <script>\n",
              "        const buttonEl =\n",
              "          document.querySelector('#df-b115f201-8111-48af-b399-78307cccaa1c button.colab-df-convert');\n",
              "        buttonEl.style.display =\n",
              "          google.colab.kernel.accessAllowed ? 'block' : 'none';\n",
              "\n",
              "        async function convertToInteractive(key) {\n",
              "          const element = document.querySelector('#df-b115f201-8111-48af-b399-78307cccaa1c');\n",
              "          const dataTable =\n",
              "            await google.colab.kernel.invokeFunction('convertToInteractive',\n",
              "                                                     [key], {});\n",
              "          if (!dataTable) return;\n",
              "\n",
              "          const docLinkHtml = 'Like what you see? Visit the ' +\n",
              "            '<a target=\"_blank\" href=https://colab.research.google.com/notebooks/data_table.ipynb>data table notebook</a>'\n",
              "            + ' to learn more about interactive tables.';\n",
              "          element.innerHTML = '';\n",
              "          dataTable['output_type'] = 'display_data';\n",
              "          await google.colab.output.renderOutput(dataTable, element);\n",
              "          const docLink = document.createElement('div');\n",
              "          docLink.innerHTML = docLinkHtml;\n",
              "          element.appendChild(docLink);\n",
              "        }\n",
              "      </script>\n",
              "    </div>\n",
              "  </div>\n",
              "  "
            ]
          },
          "metadata": {},
          "execution_count": 9
        }
      ]
    },
    {
      "cell_type": "code",
      "source": [
        "print('df[\"A\"] 출력')\n",
        "print(df[\"A\"])\n",
        "print(\"=====================================\")\n",
        "print(\"df.A 출력\")\n",
        "print(df.A)"
      ],
      "metadata": {
        "colab": {
          "base_uri": "https://localhost:8080/"
        },
        "id": "-ctDySPRcnPn",
        "outputId": "8de5c9be-6212-4a2d-b9cb-6540c8ac439e"
      },
      "execution_count": 10,
      "outputs": [
        {
          "output_type": "stream",
          "name": "stdout",
          "text": [
            "df[\"A\"] 출력\n",
            "2022-03-17    0.695848\n",
            "2022-03-18    0.196000\n",
            "2022-03-19   -0.706530\n",
            "2022-03-20    1.618679\n",
            "2022-03-21    0.854345\n",
            "2022-03-22   -2.012897\n",
            "Freq: D, Name: A, dtype: float64\n",
            "=====================================\n",
            "df.A 출력\n",
            "2022-03-17    0.695848\n",
            "2022-03-18    0.196000\n",
            "2022-03-19   -0.706530\n",
            "2022-03-20    1.618679\n",
            "2022-03-21    0.854345\n",
            "2022-03-22   -2.012897\n",
            "Freq: D, Name: A, dtype: float64\n"
          ]
        }
      ]
    },
    {
      "cell_type": "markdown",
      "source": [
        "### df[0 : 3] // Slicing\n",
        "> 1. Selecting via [], which slices the rows\n",
        "  * 행을 슬라이싱 해서 선택한다"
      ],
      "metadata": {
        "id": "n_nqhl-BdZ3c"
      }
    },
    {
      "cell_type": "code",
      "source": [
        "print(df)\n",
        "print(\"=====================================\")\n",
        "\n",
        "print(df[0: 3]) # 인덱스 값으로 지정해서 슬라이싱\n",
        "print(\"=====================================\")\n",
        "\n",
        "print(df[\"20220319\" : \"20220321\"]) # 행 값을 그대로 입력해서 슬라이싱"
      ],
      "metadata": {
        "colab": {
          "base_uri": "https://localhost:8080/"
        },
        "id": "Yk_5rpszdzrK",
        "outputId": "ad380294-bab0-495e-b7c4-1fd2ad5b1f37"
      },
      "execution_count": 13,
      "outputs": [
        {
          "output_type": "stream",
          "name": "stdout",
          "text": [
            "                   A         B         C         D\n",
            "2022-03-17  0.695848 -1.472368  1.280008  0.085338\n",
            "2022-03-18  0.196000  0.326038  1.026610  0.641336\n",
            "2022-03-19 -0.706530 -1.072691 -0.134640  1.160450\n",
            "2022-03-20  1.618679  0.284562  1.216802  1.824457\n",
            "2022-03-21  0.854345  0.452299  1.179281  0.419414\n",
            "2022-03-22 -2.012897 -0.117187 -1.892429  0.378727\n",
            "=====================================\n",
            "                   A         B         C         D\n",
            "2022-03-17  0.695848 -1.472368  1.280008  0.085338\n",
            "2022-03-18  0.196000  0.326038  1.026610  0.641336\n",
            "2022-03-19 -0.706530 -1.072691 -0.134640  1.160450\n",
            "=====================================\n",
            "                   A         B         C         D\n",
            "2022-03-19 -0.706530 -1.072691 -0.134640  1.160450\n",
            "2022-03-20  1.618679  0.284562  1.216802  1.824457\n",
            "2022-03-21  0.854345  0.452299  1.179281  0.419414\n"
          ]
        }
      ]
    },
    {
      "cell_type": "markdown",
      "source": [
        "## Selection by label // loc\n"
      ],
      "metadata": {
        "id": "zx46lHSNe_oY"
      }
    },
    {
      "cell_type": "markdown",
      "source": [
        "### 1. For getting ac ross section using a label\n",
        "  * 레이블을 사용해서 가져오기\n"
      ],
      "metadata": {
        "id": "P1S4Ozgwfmji"
      }
    },
    {
      "cell_type": "code",
      "source": [
        "date = pd.date_range(\"20220317\", periods = 6)\n",
        "df = pd.DataFrame(np.random.randn(6, 4), index = date, columns = list(\"ABCD\"))\n",
        "df"
      ],
      "metadata": {
        "colab": {
          "base_uri": "https://localhost:8080/",
          "height": 238
        },
        "id": "yjlA_m-xeMrm",
        "outputId": "335d9cf1-6e40-4787-eea8-761c5f656264"
      },
      "execution_count": 14,
      "outputs": [
        {
          "output_type": "execute_result",
          "data": {
            "text/plain": [
              "                   A         B         C         D\n",
              "2022-03-17  1.666897  0.408760 -0.033376 -0.127989\n",
              "2022-03-18 -0.422313  0.796548  0.130826  0.611366\n",
              "2022-03-19 -2.454942  0.439273 -0.985696  1.043461\n",
              "2022-03-20 -1.099177 -0.051601 -0.630181  1.541351\n",
              "2022-03-21  0.166216 -0.746209  0.309246 -3.304132\n",
              "2022-03-22  1.190350 -0.162746  0.767005  0.121045"
            ],
            "text/html": [
              "\n",
              "  <div id=\"df-1e9493a6-4a4a-4fa3-9fb4-cd278301a84d\">\n",
              "    <div class=\"colab-df-container\">\n",
              "      <div>\n",
              "<style scoped>\n",
              "    .dataframe tbody tr th:only-of-type {\n",
              "        vertical-align: middle;\n",
              "    }\n",
              "\n",
              "    .dataframe tbody tr th {\n",
              "        vertical-align: top;\n",
              "    }\n",
              "\n",
              "    .dataframe thead th {\n",
              "        text-align: right;\n",
              "    }\n",
              "</style>\n",
              "<table border=\"1\" class=\"dataframe\">\n",
              "  <thead>\n",
              "    <tr style=\"text-align: right;\">\n",
              "      <th></th>\n",
              "      <th>A</th>\n",
              "      <th>B</th>\n",
              "      <th>C</th>\n",
              "      <th>D</th>\n",
              "    </tr>\n",
              "  </thead>\n",
              "  <tbody>\n",
              "    <tr>\n",
              "      <th>2022-03-17</th>\n",
              "      <td>1.666897</td>\n",
              "      <td>0.408760</td>\n",
              "      <td>-0.033376</td>\n",
              "      <td>-0.127989</td>\n",
              "    </tr>\n",
              "    <tr>\n",
              "      <th>2022-03-18</th>\n",
              "      <td>-0.422313</td>\n",
              "      <td>0.796548</td>\n",
              "      <td>0.130826</td>\n",
              "      <td>0.611366</td>\n",
              "    </tr>\n",
              "    <tr>\n",
              "      <th>2022-03-19</th>\n",
              "      <td>-2.454942</td>\n",
              "      <td>0.439273</td>\n",
              "      <td>-0.985696</td>\n",
              "      <td>1.043461</td>\n",
              "    </tr>\n",
              "    <tr>\n",
              "      <th>2022-03-20</th>\n",
              "      <td>-1.099177</td>\n",
              "      <td>-0.051601</td>\n",
              "      <td>-0.630181</td>\n",
              "      <td>1.541351</td>\n",
              "    </tr>\n",
              "    <tr>\n",
              "      <th>2022-03-21</th>\n",
              "      <td>0.166216</td>\n",
              "      <td>-0.746209</td>\n",
              "      <td>0.309246</td>\n",
              "      <td>-3.304132</td>\n",
              "    </tr>\n",
              "    <tr>\n",
              "      <th>2022-03-22</th>\n",
              "      <td>1.190350</td>\n",
              "      <td>-0.162746</td>\n",
              "      <td>0.767005</td>\n",
              "      <td>0.121045</td>\n",
              "    </tr>\n",
              "  </tbody>\n",
              "</table>\n",
              "</div>\n",
              "      <button class=\"colab-df-convert\" onclick=\"convertToInteractive('df-1e9493a6-4a4a-4fa3-9fb4-cd278301a84d')\"\n",
              "              title=\"Convert this dataframe to an interactive table.\"\n",
              "              style=\"display:none;\">\n",
              "        \n",
              "  <svg xmlns=\"http://www.w3.org/2000/svg\" height=\"24px\"viewBox=\"0 0 24 24\"\n",
              "       width=\"24px\">\n",
              "    <path d=\"M0 0h24v24H0V0z\" fill=\"none\"/>\n",
              "    <path d=\"M18.56 5.44l.94 2.06.94-2.06 2.06-.94-2.06-.94-.94-2.06-.94 2.06-2.06.94zm-11 1L8.5 8.5l.94-2.06 2.06-.94-2.06-.94L8.5 2.5l-.94 2.06-2.06.94zm10 10l.94 2.06.94-2.06 2.06-.94-2.06-.94-.94-2.06-.94 2.06-2.06.94z\"/><path d=\"M17.41 7.96l-1.37-1.37c-.4-.4-.92-.59-1.43-.59-.52 0-1.04.2-1.43.59L10.3 9.45l-7.72 7.72c-.78.78-.78 2.05 0 2.83L4 21.41c.39.39.9.59 1.41.59.51 0 1.02-.2 1.41-.59l7.78-7.78 2.81-2.81c.8-.78.8-2.07 0-2.86zM5.41 20L4 18.59l7.72-7.72 1.47 1.35L5.41 20z\"/>\n",
              "  </svg>\n",
              "      </button>\n",
              "      \n",
              "  <style>\n",
              "    .colab-df-container {\n",
              "      display:flex;\n",
              "      flex-wrap:wrap;\n",
              "      gap: 12px;\n",
              "    }\n",
              "\n",
              "    .colab-df-convert {\n",
              "      background-color: #E8F0FE;\n",
              "      border: none;\n",
              "      border-radius: 50%;\n",
              "      cursor: pointer;\n",
              "      display: none;\n",
              "      fill: #1967D2;\n",
              "      height: 32px;\n",
              "      padding: 0 0 0 0;\n",
              "      width: 32px;\n",
              "    }\n",
              "\n",
              "    .colab-df-convert:hover {\n",
              "      background-color: #E2EBFA;\n",
              "      box-shadow: 0px 1px 2px rgba(60, 64, 67, 0.3), 0px 1px 3px 1px rgba(60, 64, 67, 0.15);\n",
              "      fill: #174EA6;\n",
              "    }\n",
              "\n",
              "    [theme=dark] .colab-df-convert {\n",
              "      background-color: #3B4455;\n",
              "      fill: #D2E3FC;\n",
              "    }\n",
              "\n",
              "    [theme=dark] .colab-df-convert:hover {\n",
              "      background-color: #434B5C;\n",
              "      box-shadow: 0px 1px 3px 1px rgba(0, 0, 0, 0.15);\n",
              "      filter: drop-shadow(0px 1px 2px rgba(0, 0, 0, 0.3));\n",
              "      fill: #FFFFFF;\n",
              "    }\n",
              "  </style>\n",
              "\n",
              "      <script>\n",
              "        const buttonEl =\n",
              "          document.querySelector('#df-1e9493a6-4a4a-4fa3-9fb4-cd278301a84d button.colab-df-convert');\n",
              "        buttonEl.style.display =\n",
              "          google.colab.kernel.accessAllowed ? 'block' : 'none';\n",
              "\n",
              "        async function convertToInteractive(key) {\n",
              "          const element = document.querySelector('#df-1e9493a6-4a4a-4fa3-9fb4-cd278301a84d');\n",
              "          const dataTable =\n",
              "            await google.colab.kernel.invokeFunction('convertToInteractive',\n",
              "                                                     [key], {});\n",
              "          if (!dataTable) return;\n",
              "\n",
              "          const docLinkHtml = 'Like what you see? Visit the ' +\n",
              "            '<a target=\"_blank\" href=https://colab.research.google.com/notebooks/data_table.ipynb>data table notebook</a>'\n",
              "            + ' to learn more about interactive tables.';\n",
              "          element.innerHTML = '';\n",
              "          dataTable['output_type'] = 'display_data';\n",
              "          await google.colab.output.renderOutput(dataTable, element);\n",
              "          const docLink = document.createElement('div');\n",
              "          docLink.innerHTML = docLinkHtml;\n",
              "          element.appendChild(docLink);\n",
              "        }\n",
              "      </script>\n",
              "    </div>\n",
              "  </div>\n",
              "  "
            ]
          },
          "metadata": {},
          "execution_count": 14
        }
      ]
    },
    {
      "cell_type": "code",
      "source": [
        "df.loc[df.index[0]] # 인덱스 0번인 행 출력"
      ],
      "metadata": {
        "colab": {
          "base_uri": "https://localhost:8080/"
        },
        "id": "8ZoDNPymgHcP",
        "outputId": "00ec1c15-0b6c-450b-adac-860b28a42365"
      },
      "execution_count": 19,
      "outputs": [
        {
          "output_type": "execute_result",
          "data": {
            "text/plain": [
              "A    1.666897\n",
              "B    0.408760\n",
              "C   -0.033376\n",
              "D   -0.127989\n",
              "Name: 2022-03-17 00:00:00, dtype: float64"
            ]
          },
          "metadata": {},
          "execution_count": 19
        }
      ]
    },
    {
      "cell_type": "markdown",
      "source": [
        "### Selecting on a multi-axis by label\n",
        "  * 레이블을 이용해서 여러개의 축을 선택"
      ],
      "metadata": {
        "id": "73clnccIgwEk"
      }
    },
    {
      "cell_type": "code",
      "source": [
        "# 앞쪽 슬라이싱은 행을지정\n",
        "# 뒤쪽 슬라이싱은 열을지정\n",
        "df.loc[:, [\"A\", \"B\"]] "
      ],
      "metadata": {
        "colab": {
          "base_uri": "https://localhost:8080/",
          "height": 238
        },
        "id": "gHJyD9CJhCBD",
        "outputId": "2fad459b-f276-4b60-e607-884f7b55ac4e"
      },
      "execution_count": 20,
      "outputs": [
        {
          "output_type": "execute_result",
          "data": {
            "text/plain": [
              "                   A         B\n",
              "2022-03-17  1.666897  0.408760\n",
              "2022-03-18 -0.422313  0.796548\n",
              "2022-03-19 -2.454942  0.439273\n",
              "2022-03-20 -1.099177 -0.051601\n",
              "2022-03-21  0.166216 -0.746209\n",
              "2022-03-22  1.190350 -0.162746"
            ],
            "text/html": [
              "\n",
              "  <div id=\"df-00f9bad0-1199-44ef-8976-daa2c970c4d9\">\n",
              "    <div class=\"colab-df-container\">\n",
              "      <div>\n",
              "<style scoped>\n",
              "    .dataframe tbody tr th:only-of-type {\n",
              "        vertical-align: middle;\n",
              "    }\n",
              "\n",
              "    .dataframe tbody tr th {\n",
              "        vertical-align: top;\n",
              "    }\n",
              "\n",
              "    .dataframe thead th {\n",
              "        text-align: right;\n",
              "    }\n",
              "</style>\n",
              "<table border=\"1\" class=\"dataframe\">\n",
              "  <thead>\n",
              "    <tr style=\"text-align: right;\">\n",
              "      <th></th>\n",
              "      <th>A</th>\n",
              "      <th>B</th>\n",
              "    </tr>\n",
              "  </thead>\n",
              "  <tbody>\n",
              "    <tr>\n",
              "      <th>2022-03-17</th>\n",
              "      <td>1.666897</td>\n",
              "      <td>0.408760</td>\n",
              "    </tr>\n",
              "    <tr>\n",
              "      <th>2022-03-18</th>\n",
              "      <td>-0.422313</td>\n",
              "      <td>0.796548</td>\n",
              "    </tr>\n",
              "    <tr>\n",
              "      <th>2022-03-19</th>\n",
              "      <td>-2.454942</td>\n",
              "      <td>0.439273</td>\n",
              "    </tr>\n",
              "    <tr>\n",
              "      <th>2022-03-20</th>\n",
              "      <td>-1.099177</td>\n",
              "      <td>-0.051601</td>\n",
              "    </tr>\n",
              "    <tr>\n",
              "      <th>2022-03-21</th>\n",
              "      <td>0.166216</td>\n",
              "      <td>-0.746209</td>\n",
              "    </tr>\n",
              "    <tr>\n",
              "      <th>2022-03-22</th>\n",
              "      <td>1.190350</td>\n",
              "      <td>-0.162746</td>\n",
              "    </tr>\n",
              "  </tbody>\n",
              "</table>\n",
              "</div>\n",
              "      <button class=\"colab-df-convert\" onclick=\"convertToInteractive('df-00f9bad0-1199-44ef-8976-daa2c970c4d9')\"\n",
              "              title=\"Convert this dataframe to an interactive table.\"\n",
              "              style=\"display:none;\">\n",
              "        \n",
              "  <svg xmlns=\"http://www.w3.org/2000/svg\" height=\"24px\"viewBox=\"0 0 24 24\"\n",
              "       width=\"24px\">\n",
              "    <path d=\"M0 0h24v24H0V0z\" fill=\"none\"/>\n",
              "    <path d=\"M18.56 5.44l.94 2.06.94-2.06 2.06-.94-2.06-.94-.94-2.06-.94 2.06-2.06.94zm-11 1L8.5 8.5l.94-2.06 2.06-.94-2.06-.94L8.5 2.5l-.94 2.06-2.06.94zm10 10l.94 2.06.94-2.06 2.06-.94-2.06-.94-.94-2.06-.94 2.06-2.06.94z\"/><path d=\"M17.41 7.96l-1.37-1.37c-.4-.4-.92-.59-1.43-.59-.52 0-1.04.2-1.43.59L10.3 9.45l-7.72 7.72c-.78.78-.78 2.05 0 2.83L4 21.41c.39.39.9.59 1.41.59.51 0 1.02-.2 1.41-.59l7.78-7.78 2.81-2.81c.8-.78.8-2.07 0-2.86zM5.41 20L4 18.59l7.72-7.72 1.47 1.35L5.41 20z\"/>\n",
              "  </svg>\n",
              "      </button>\n",
              "      \n",
              "  <style>\n",
              "    .colab-df-container {\n",
              "      display:flex;\n",
              "      flex-wrap:wrap;\n",
              "      gap: 12px;\n",
              "    }\n",
              "\n",
              "    .colab-df-convert {\n",
              "      background-color: #E8F0FE;\n",
              "      border: none;\n",
              "      border-radius: 50%;\n",
              "      cursor: pointer;\n",
              "      display: none;\n",
              "      fill: #1967D2;\n",
              "      height: 32px;\n",
              "      padding: 0 0 0 0;\n",
              "      width: 32px;\n",
              "    }\n",
              "\n",
              "    .colab-df-convert:hover {\n",
              "      background-color: #E2EBFA;\n",
              "      box-shadow: 0px 1px 2px rgba(60, 64, 67, 0.3), 0px 1px 3px 1px rgba(60, 64, 67, 0.15);\n",
              "      fill: #174EA6;\n",
              "    }\n",
              "\n",
              "    [theme=dark] .colab-df-convert {\n",
              "      background-color: #3B4455;\n",
              "      fill: #D2E3FC;\n",
              "    }\n",
              "\n",
              "    [theme=dark] .colab-df-convert:hover {\n",
              "      background-color: #434B5C;\n",
              "      box-shadow: 0px 1px 3px 1px rgba(0, 0, 0, 0.15);\n",
              "      filter: drop-shadow(0px 1px 2px rgba(0, 0, 0, 0.3));\n",
              "      fill: #FFFFFF;\n",
              "    }\n",
              "  </style>\n",
              "\n",
              "      <script>\n",
              "        const buttonEl =\n",
              "          document.querySelector('#df-00f9bad0-1199-44ef-8976-daa2c970c4d9 button.colab-df-convert');\n",
              "        buttonEl.style.display =\n",
              "          google.colab.kernel.accessAllowed ? 'block' : 'none';\n",
              "\n",
              "        async function convertToInteractive(key) {\n",
              "          const element = document.querySelector('#df-00f9bad0-1199-44ef-8976-daa2c970c4d9');\n",
              "          const dataTable =\n",
              "            await google.colab.kernel.invokeFunction('convertToInteractive',\n",
              "                                                     [key], {});\n",
              "          if (!dataTable) return;\n",
              "\n",
              "          const docLinkHtml = 'Like what you see? Visit the ' +\n",
              "            '<a target=\"_blank\" href=https://colab.research.google.com/notebooks/data_table.ipynb>data table notebook</a>'\n",
              "            + ' to learn more about interactive tables.';\n",
              "          element.innerHTML = '';\n",
              "          dataTable['output_type'] = 'display_data';\n",
              "          await google.colab.output.renderOutput(dataTable, element);\n",
              "          const docLink = document.createElement('div');\n",
              "          docLink.innerHTML = docLinkHtml;\n",
              "          element.appendChild(docLink);\n",
              "        }\n",
              "      </script>\n",
              "    </div>\n",
              "  </div>\n",
              "  "
            ]
          },
          "metadata": {},
          "execution_count": 20
        }
      ]
    },
    {
      "cell_type": "code",
      "source": [
        "df.loc[df.index[0 : 3], [\"A\", \"D\"]]"
      ],
      "metadata": {
        "colab": {
          "base_uri": "https://localhost:8080/",
          "height": 143
        },
        "id": "-AS7JqMfhFJi",
        "outputId": "8f6ae003-4d9b-4c81-e56b-5039a9301531"
      },
      "execution_count": 27,
      "outputs": [
        {
          "output_type": "execute_result",
          "data": {
            "text/plain": [
              "                   A         D\n",
              "2022-03-17  1.666897 -0.127989\n",
              "2022-03-18 -0.422313  0.611366\n",
              "2022-03-19 -2.454942  1.043461"
            ],
            "text/html": [
              "\n",
              "  <div id=\"df-b1bd26ef-6fcb-430e-902a-ac5e5471e2c8\">\n",
              "    <div class=\"colab-df-container\">\n",
              "      <div>\n",
              "<style scoped>\n",
              "    .dataframe tbody tr th:only-of-type {\n",
              "        vertical-align: middle;\n",
              "    }\n",
              "\n",
              "    .dataframe tbody tr th {\n",
              "        vertical-align: top;\n",
              "    }\n",
              "\n",
              "    .dataframe thead th {\n",
              "        text-align: right;\n",
              "    }\n",
              "</style>\n",
              "<table border=\"1\" class=\"dataframe\">\n",
              "  <thead>\n",
              "    <tr style=\"text-align: right;\">\n",
              "      <th></th>\n",
              "      <th>A</th>\n",
              "      <th>D</th>\n",
              "    </tr>\n",
              "  </thead>\n",
              "  <tbody>\n",
              "    <tr>\n",
              "      <th>2022-03-17</th>\n",
              "      <td>1.666897</td>\n",
              "      <td>-0.127989</td>\n",
              "    </tr>\n",
              "    <tr>\n",
              "      <th>2022-03-18</th>\n",
              "      <td>-0.422313</td>\n",
              "      <td>0.611366</td>\n",
              "    </tr>\n",
              "    <tr>\n",
              "      <th>2022-03-19</th>\n",
              "      <td>-2.454942</td>\n",
              "      <td>1.043461</td>\n",
              "    </tr>\n",
              "  </tbody>\n",
              "</table>\n",
              "</div>\n",
              "      <button class=\"colab-df-convert\" onclick=\"convertToInteractive('df-b1bd26ef-6fcb-430e-902a-ac5e5471e2c8')\"\n",
              "              title=\"Convert this dataframe to an interactive table.\"\n",
              "              style=\"display:none;\">\n",
              "        \n",
              "  <svg xmlns=\"http://www.w3.org/2000/svg\" height=\"24px\"viewBox=\"0 0 24 24\"\n",
              "       width=\"24px\">\n",
              "    <path d=\"M0 0h24v24H0V0z\" fill=\"none\"/>\n",
              "    <path d=\"M18.56 5.44l.94 2.06.94-2.06 2.06-.94-2.06-.94-.94-2.06-.94 2.06-2.06.94zm-11 1L8.5 8.5l.94-2.06 2.06-.94-2.06-.94L8.5 2.5l-.94 2.06-2.06.94zm10 10l.94 2.06.94-2.06 2.06-.94-2.06-.94-.94-2.06-.94 2.06-2.06.94z\"/><path d=\"M17.41 7.96l-1.37-1.37c-.4-.4-.92-.59-1.43-.59-.52 0-1.04.2-1.43.59L10.3 9.45l-7.72 7.72c-.78.78-.78 2.05 0 2.83L4 21.41c.39.39.9.59 1.41.59.51 0 1.02-.2 1.41-.59l7.78-7.78 2.81-2.81c.8-.78.8-2.07 0-2.86zM5.41 20L4 18.59l7.72-7.72 1.47 1.35L5.41 20z\"/>\n",
              "  </svg>\n",
              "      </button>\n",
              "      \n",
              "  <style>\n",
              "    .colab-df-container {\n",
              "      display:flex;\n",
              "      flex-wrap:wrap;\n",
              "      gap: 12px;\n",
              "    }\n",
              "\n",
              "    .colab-df-convert {\n",
              "      background-color: #E8F0FE;\n",
              "      border: none;\n",
              "      border-radius: 50%;\n",
              "      cursor: pointer;\n",
              "      display: none;\n",
              "      fill: #1967D2;\n",
              "      height: 32px;\n",
              "      padding: 0 0 0 0;\n",
              "      width: 32px;\n",
              "    }\n",
              "\n",
              "    .colab-df-convert:hover {\n",
              "      background-color: #E2EBFA;\n",
              "      box-shadow: 0px 1px 2px rgba(60, 64, 67, 0.3), 0px 1px 3px 1px rgba(60, 64, 67, 0.15);\n",
              "      fill: #174EA6;\n",
              "    }\n",
              "\n",
              "    [theme=dark] .colab-df-convert {\n",
              "      background-color: #3B4455;\n",
              "      fill: #D2E3FC;\n",
              "    }\n",
              "\n",
              "    [theme=dark] .colab-df-convert:hover {\n",
              "      background-color: #434B5C;\n",
              "      box-shadow: 0px 1px 3px 1px rgba(0, 0, 0, 0.15);\n",
              "      filter: drop-shadow(0px 1px 2px rgba(0, 0, 0, 0.3));\n",
              "      fill: #FFFFFF;\n",
              "    }\n",
              "  </style>\n",
              "\n",
              "      <script>\n",
              "        const buttonEl =\n",
              "          document.querySelector('#df-b1bd26ef-6fcb-430e-902a-ac5e5471e2c8 button.colab-df-convert');\n",
              "        buttonEl.style.display =\n",
              "          google.colab.kernel.accessAllowed ? 'block' : 'none';\n",
              "\n",
              "        async function convertToInteractive(key) {\n",
              "          const element = document.querySelector('#df-b1bd26ef-6fcb-430e-902a-ac5e5471e2c8');\n",
              "          const dataTable =\n",
              "            await google.colab.kernel.invokeFunction('convertToInteractive',\n",
              "                                                     [key], {});\n",
              "          if (!dataTable) return;\n",
              "\n",
              "          const docLinkHtml = 'Like what you see? Visit the ' +\n",
              "            '<a target=\"_blank\" href=https://colab.research.google.com/notebooks/data_table.ipynb>data table notebook</a>'\n",
              "            + ' to learn more about interactive tables.';\n",
              "          element.innerHTML = '';\n",
              "          dataTable['output_type'] = 'display_data';\n",
              "          await google.colab.output.renderOutput(dataTable, element);\n",
              "          const docLink = document.createElement('div');\n",
              "          docLink.innerHTML = docLinkHtml;\n",
              "          element.appendChild(docLink);\n",
              "        }\n",
              "      </script>\n",
              "    </div>\n",
              "  </div>\n",
              "  "
            ]
          },
          "metadata": {},
          "execution_count": 27
        }
      ]
    },
    {
      "cell_type": "markdown",
      "source": [
        "### Reduction in the dimensions of the returned object\n",
        "  * 차원이 축소된 오브젝트를 반환한다\n",
        "  * 하나의 행만 지정했을 경우 차원이 축소된다 하나의 열만 지정했을 경우에는 차원이 축소되지 않는다"
      ],
      "metadata": {
        "id": "gess_PLlhfoQ"
      }
    },
    {
      "cell_type": "code",
      "source": [
        "# 하나의 행만 지정하면 차원이 축소된 오브젝트를 반환\n",
        "df.loc[\"20220318\", [\"A\", \"B\"]]"
      ],
      "metadata": {
        "colab": {
          "base_uri": "https://localhost:8080/"
        },
        "id": "ld7KnGhFhLR0",
        "outputId": "29a3bbf0-b409-4a21-ee6a-6338bfeb5979"
      },
      "execution_count": 29,
      "outputs": [
        {
          "output_type": "execute_result",
          "data": {
            "text/plain": [
              "A   -0.422313\n",
              "B    0.796548\n",
              "Name: 2022-03-18 00:00:00, dtype: float64"
            ]
          },
          "metadata": {},
          "execution_count": 29
        }
      ]
    },
    {
      "cell_type": "code",
      "source": [
        "# 하나의 열만 지정하면 차원이 축소되진 않는다\n",
        "df.loc[df.index[3: 5], [\"A\"]]"
      ],
      "metadata": {
        "colab": {
          "base_uri": "https://localhost:8080/",
          "height": 112
        },
        "id": "MElucPAsiX9B",
        "outputId": "06e89f1c-9299-4576-f8d0-0f5364829fc2"
      },
      "execution_count": 33,
      "outputs": [
        {
          "output_type": "execute_result",
          "data": {
            "text/plain": [
              "                   A\n",
              "2022-03-20 -1.099177\n",
              "2022-03-21  0.166216"
            ],
            "text/html": [
              "\n",
              "  <div id=\"df-da4a53f5-3101-443e-9f8b-c0a74292a05e\">\n",
              "    <div class=\"colab-df-container\">\n",
              "      <div>\n",
              "<style scoped>\n",
              "    .dataframe tbody tr th:only-of-type {\n",
              "        vertical-align: middle;\n",
              "    }\n",
              "\n",
              "    .dataframe tbody tr th {\n",
              "        vertical-align: top;\n",
              "    }\n",
              "\n",
              "    .dataframe thead th {\n",
              "        text-align: right;\n",
              "    }\n",
              "</style>\n",
              "<table border=\"1\" class=\"dataframe\">\n",
              "  <thead>\n",
              "    <tr style=\"text-align: right;\">\n",
              "      <th></th>\n",
              "      <th>A</th>\n",
              "    </tr>\n",
              "  </thead>\n",
              "  <tbody>\n",
              "    <tr>\n",
              "      <th>2022-03-20</th>\n",
              "      <td>-1.099177</td>\n",
              "    </tr>\n",
              "    <tr>\n",
              "      <th>2022-03-21</th>\n",
              "      <td>0.166216</td>\n",
              "    </tr>\n",
              "  </tbody>\n",
              "</table>\n",
              "</div>\n",
              "      <button class=\"colab-df-convert\" onclick=\"convertToInteractive('df-da4a53f5-3101-443e-9f8b-c0a74292a05e')\"\n",
              "              title=\"Convert this dataframe to an interactive table.\"\n",
              "              style=\"display:none;\">\n",
              "        \n",
              "  <svg xmlns=\"http://www.w3.org/2000/svg\" height=\"24px\"viewBox=\"0 0 24 24\"\n",
              "       width=\"24px\">\n",
              "    <path d=\"M0 0h24v24H0V0z\" fill=\"none\"/>\n",
              "    <path d=\"M18.56 5.44l.94 2.06.94-2.06 2.06-.94-2.06-.94-.94-2.06-.94 2.06-2.06.94zm-11 1L8.5 8.5l.94-2.06 2.06-.94-2.06-.94L8.5 2.5l-.94 2.06-2.06.94zm10 10l.94 2.06.94-2.06 2.06-.94-2.06-.94-.94-2.06-.94 2.06-2.06.94z\"/><path d=\"M17.41 7.96l-1.37-1.37c-.4-.4-.92-.59-1.43-.59-.52 0-1.04.2-1.43.59L10.3 9.45l-7.72 7.72c-.78.78-.78 2.05 0 2.83L4 21.41c.39.39.9.59 1.41.59.51 0 1.02-.2 1.41-.59l7.78-7.78 2.81-2.81c.8-.78.8-2.07 0-2.86zM5.41 20L4 18.59l7.72-7.72 1.47 1.35L5.41 20z\"/>\n",
              "  </svg>\n",
              "      </button>\n",
              "      \n",
              "  <style>\n",
              "    .colab-df-container {\n",
              "      display:flex;\n",
              "      flex-wrap:wrap;\n",
              "      gap: 12px;\n",
              "    }\n",
              "\n",
              "    .colab-df-convert {\n",
              "      background-color: #E8F0FE;\n",
              "      border: none;\n",
              "      border-radius: 50%;\n",
              "      cursor: pointer;\n",
              "      display: none;\n",
              "      fill: #1967D2;\n",
              "      height: 32px;\n",
              "      padding: 0 0 0 0;\n",
              "      width: 32px;\n",
              "    }\n",
              "\n",
              "    .colab-df-convert:hover {\n",
              "      background-color: #E2EBFA;\n",
              "      box-shadow: 0px 1px 2px rgba(60, 64, 67, 0.3), 0px 1px 3px 1px rgba(60, 64, 67, 0.15);\n",
              "      fill: #174EA6;\n",
              "    }\n",
              "\n",
              "    [theme=dark] .colab-df-convert {\n",
              "      background-color: #3B4455;\n",
              "      fill: #D2E3FC;\n",
              "    }\n",
              "\n",
              "    [theme=dark] .colab-df-convert:hover {\n",
              "      background-color: #434B5C;\n",
              "      box-shadow: 0px 1px 3px 1px rgba(0, 0, 0, 0.15);\n",
              "      filter: drop-shadow(0px 1px 2px rgba(0, 0, 0, 0.3));\n",
              "      fill: #FFFFFF;\n",
              "    }\n",
              "  </style>\n",
              "\n",
              "      <script>\n",
              "        const buttonEl =\n",
              "          document.querySelector('#df-da4a53f5-3101-443e-9f8b-c0a74292a05e button.colab-df-convert');\n",
              "        buttonEl.style.display =\n",
              "          google.colab.kernel.accessAllowed ? 'block' : 'none';\n",
              "\n",
              "        async function convertToInteractive(key) {\n",
              "          const element = document.querySelector('#df-da4a53f5-3101-443e-9f8b-c0a74292a05e');\n",
              "          const dataTable =\n",
              "            await google.colab.kernel.invokeFunction('convertToInteractive',\n",
              "                                                     [key], {});\n",
              "          if (!dataTable) return;\n",
              "\n",
              "          const docLinkHtml = 'Like what you see? Visit the ' +\n",
              "            '<a target=\"_blank\" href=https://colab.research.google.com/notebooks/data_table.ipynb>data table notebook</a>'\n",
              "            + ' to learn more about interactive tables.';\n",
              "          element.innerHTML = '';\n",
              "          dataTable['output_type'] = 'display_data';\n",
              "          await google.colab.output.renderOutput(dataTable, element);\n",
              "          const docLink = document.createElement('div');\n",
              "          docLink.innerHTML = docLinkHtml;\n",
              "          element.appendChild(docLink);\n",
              "        }\n",
              "      </script>\n",
              "    </div>\n",
              "  </div>\n",
              "  "
            ]
          },
          "metadata": {},
          "execution_count": 33
        }
      ]
    },
    {
      "cell_type": "markdown",
      "source": [
        "### For getting a scalar value\n",
        "* 하나의 스칼라 값만 출력"
      ],
      "metadata": {
        "id": "roAk5Ecii48N"
      }
    },
    {
      "cell_type": "code",
      "source": [
        "# 열 지정해줄때 괄호를 안넣으면 인덱스를 제외한 값만 출력한다\n",
        "print(df.loc[df.index[0], 'A'])\n",
        "print(\"=====================================\")\n",
        "\n",
        "print(df.loc[df.index[0], [\"A\"]]) "
      ],
      "metadata": {
        "colab": {
          "base_uri": "https://localhost:8080/"
        },
        "id": "D2YMNcZpjJ9R",
        "outputId": "178008e6-ddd0-4f4e-ed77-dd77a3d29ba7"
      },
      "execution_count": 45,
      "outputs": [
        {
          "output_type": "stream",
          "name": "stdout",
          "text": [
            "1.6668968991915483\n",
            "=====================================\n",
            "A    1.666897\n",
            "Name: 2022-03-17 00:00:00, dtype: float64\n"
          ]
        }
      ]
    },
    {
      "cell_type": "code",
      "source": [
        "# loc 가 아닌 at 을 사용해도 출력할 수 있다\n",
        "print(df.at[df.index[0], 'A'])"
      ],
      "metadata": {
        "colab": {
          "base_uri": "https://localhost:8080/"
        },
        "id": "XJKt39onjOcK",
        "outputId": "c7bdaf79-b8bc-47d0-beaf-94f59b99db2e"
      },
      "execution_count": 47,
      "outputs": [
        {
          "output_type": "stream",
          "name": "stdout",
          "text": [
            "1.6668968991915483\n"
          ]
        }
      ]
    },
    {
      "cell_type": "code",
      "source": [
        "# iat 을 사용해 인덱스만 지정해서 값을 출력할 수 있다\n",
        "print(df.iat[0, 0])"
      ],
      "metadata": {
        "colab": {
          "base_uri": "https://localhost:8080/"
        },
        "id": "N2G6dWKGkp4J",
        "outputId": "830d44bf-a9c1-4290-b7fd-56433ed722f7"
      },
      "execution_count": 49,
      "outputs": [
        {
          "output_type": "stream",
          "name": "stdout",
          "text": [
            "1.6668968991915483\n"
          ]
        }
      ]
    }
  ]
}