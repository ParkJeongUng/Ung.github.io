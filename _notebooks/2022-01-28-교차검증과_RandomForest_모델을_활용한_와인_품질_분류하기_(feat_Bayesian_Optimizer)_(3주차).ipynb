{
  "nbformat": 4,
  "nbformat_minor": 0,
  "metadata": {
    "colab": {
      "name": "교차검증과 RandomForest 모델을 활용한 와인 품질 분류하기 (feat. Bayesian Optimizer) (3주차)",
      "provenance": [],
      "authorship_tag": "ABX9TyMGlQx4ou+jQaR2Vtz697Ef",
      "include_colab_link": true
    },
    "kernelspec": {
      "name": "python3",
      "display_name": "Python 3"
    },
    "language_info": {
      "name": "python"
    }
  },
  "cells": [
    {
      "cell_type": "markdown",
      "metadata": {
        "id": "view-in-github",
        "colab_type": "text"
      },
      "source": [
        "<a href=\"https://colab.research.google.com/github/ParkJeongUng/Ung.github.io/blob/master/_notebooks/2022-01-28-%EA%B5%90%EC%B0%A8%EA%B2%80%EC%A6%9D%EA%B3%BC_RandomForest_%EB%AA%A8%EB%8D%B8%EC%9D%84_%ED%99%9C%EC%9A%A9%ED%95%9C_%EC%99%80%EC%9D%B8_%ED%92%88%EC%A7%88_%EB%B6%84%EB%A5%98%ED%95%98%EA%B8%B0_(feat_Bayesian_Optimizer)_(3%EC%A3%BC%EC%B0%A8).ipynb\" target=\"_parent\"><img src=\"https://colab.research.google.com/assets/colab-badge.svg\" alt=\"Open In Colab\"/></a>"
      ]
    },
    {
      "cell_type": "markdown",
      "source": [
        "# 교차검증과 RandomForest 모델을 활용한 와인 품질 분류하기 (feat. Bayesian Optimizer) (3주차)\n",
        "* 딥러닝 모델로 와인의 품질 예측하기"
      ],
      "metadata": {
        "id": "1IbDQ9Pw5Bn9"
      }
    },
    {
      "cell_type": "code",
      "source": [
        "import numpy as np\n",
        "\n",
        "import pandas as pd\n",
        "\n",
        "import matplotlib.pyplot as plt\n",
        "#!sudo apt-get install -y fonts-nanum\n",
        "#!sudo fc-cache -fv\n",
        "#!rm ~/.cache/matplotlib -rf\n",
        "#plt.rc('font', family='NanumGothic') \n",
        "#plt.rcParams.update({'font.size' : 11})\n",
        "plt.rc('figure', facecolor = 'eaeaf2')\n",
        "\n",
        "import seaborn as sns\n",
        "def show_countplot(column):\n",
        "    plt.figure(figsize=(12,4))\n",
        "    sns.countplot(data=train, x=column).set_title(column)\n",
        "    plt.show()\n",
        "    \n",
        "def show_distplot(column):\n",
        "    plt.figure(figsize=(12, 4))\n",
        "    sns.distplot(train[column], bins=50)\n",
        "    plt.show()\n",
        "\n",
        "from sklearn.preprocessing import StandardScaler\n",
        "\n",
        "from sklearn.model_selection import train_test_split\n",
        "\n",
        "import warnings\n",
        "warnings.filterwarnings(\"ignore\")"
      ],
      "metadata": {
        "id": "U-RhQahV5CIk"
      },
      "execution_count": null,
      "outputs": []
    },
    {
      "cell_type": "markdown",
      "source": [
        "## EDA"
      ],
      "metadata": {
        "id": "OzPUlc_r5LKH"
      }
    },
    {
      "cell_type": "markdown",
      "source": [
        "### EDA 기초\n",
        "1. 데이터 불러오기\n",
        "2. 데이터 정보 관측하기\n",
        "3. 데이터 크기 파악하기\n",
        "4. 데이터 피쳐 알아보기"
      ],
      "metadata": {
        "id": "xYotZsuI6MZD"
      }
    },
    {
      "cell_type": "code",
      "source": [
        "# 데이터 다운로드\n",
        "!wget 'https://bit.ly/3i4n1QB'\n",
        "\n",
        "import zipfile\n",
        "with zipfile.ZipFile('3i4n1QB', 'r') as existing_zip:\n",
        "    existing_zip.extractall('data')"
      ],
      "metadata": {
        "colab": {
          "base_uri": "https://localhost:8080/"
        },
        "id": "UoEkk4Qq6c5a",
        "outputId": "cc36dc0a-f659-476a-b4d7-729c0b1dd3dc"
      },
      "execution_count": null,
      "outputs": [
        {
          "output_type": "stream",
          "name": "stdout",
          "text": [
            "--2022-01-25 11:42:18--  https://bit.ly/3i4n1QB\n",
            "Resolving bit.ly (bit.ly)... 67.199.248.10, 67.199.248.11\n",
            "Connecting to bit.ly (bit.ly)|67.199.248.10|:443... connected.\n",
            "HTTP request sent, awaiting response... 301 Moved Permanently\n",
            "Location: https://drive.google.com/uc?export=download&id=1emLrrpFWT8dCoj5BJb12-5QMG2-nruUw [following]\n",
            "--2022-01-25 11:42:18--  https://drive.google.com/uc?export=download&id=1emLrrpFWT8dCoj5BJb12-5QMG2-nruUw\n",
            "Resolving drive.google.com (drive.google.com)... 172.217.9.206, 2607:f8b0:4004:806::200e\n",
            "Connecting to drive.google.com (drive.google.com)|172.217.9.206|:443... connected.\n",
            "HTTP request sent, awaiting response... 302 Moved Temporarily\n",
            "Location: https://doc-10-10-docs.googleusercontent.com/docs/securesc/ha0ro937gcuc7l7deffksulhg5h7mbp1/aq9lvj5it6oec0dc1329qqos4m795697/1643110875000/17946651057176172524/*/1emLrrpFWT8dCoj5BJb12-5QMG2-nruUw?e=download [following]\n",
            "Warning: wildcards not supported in HTTP.\n",
            "--2022-01-25 11:42:18--  https://doc-10-10-docs.googleusercontent.com/docs/securesc/ha0ro937gcuc7l7deffksulhg5h7mbp1/aq9lvj5it6oec0dc1329qqos4m795697/1643110875000/17946651057176172524/*/1emLrrpFWT8dCoj5BJb12-5QMG2-nruUw?e=download\n",
            "Resolving doc-10-10-docs.googleusercontent.com (doc-10-10-docs.googleusercontent.com)... 172.217.2.97, 2607:f8b0:4004:80a::2001\n",
            "Connecting to doc-10-10-docs.googleusercontent.com (doc-10-10-docs.googleusercontent.com)|172.217.2.97|:443... connected.\n",
            "HTTP request sent, awaiting response... 200 OK\n",
            "Length: 137694 (134K) [application/zip]\n",
            "Saving to: ‘3i4n1QB’\n",
            "\n",
            "3i4n1QB             100%[===================>] 134.47K  --.-KB/s    in 0.02s   \n",
            "\n",
            "2022-01-25 11:42:19 (5.67 MB/s) - ‘3i4n1QB’ saved [137694/137694]\n",
            "\n"
          ]
        }
      ]
    },
    {
      "cell_type": "code",
      "source": [
        "# 데이터 불러오기\n",
        "path = '/content/data/'\n",
        "train = pd.read_csv(path + 'train.csv')\n",
        "test = pd.read_csv(path + 'test.csv')\n",
        "submission = pd.read_csv(path + 'sample_submission.csv')"
      ],
      "metadata": {
        "id": "Q2sRy7-D6qYi"
      },
      "execution_count": null,
      "outputs": []
    },
    {
      "cell_type": "code",
      "source": [
        "# 데이터 정보 관측하기\n",
        "train.info()"
      ],
      "metadata": {
        "colab": {
          "base_uri": "https://localhost:8080/"
        },
        "id": "K94_OBWu64lw",
        "outputId": "a92c7666-de28-46c0-8d1c-8cc6fafa6530"
      },
      "execution_count": null,
      "outputs": [
        {
          "output_type": "stream",
          "name": "stdout",
          "text": [
            "<class 'pandas.core.frame.DataFrame'>\n",
            "RangeIndex: 5497 entries, 0 to 5496\n",
            "Data columns (total 14 columns):\n",
            " #   Column                Non-Null Count  Dtype  \n",
            "---  ------                --------------  -----  \n",
            " 0   index                 5497 non-null   int64  \n",
            " 1   quality               5497 non-null   int64  \n",
            " 2   fixed acidity         5497 non-null   float64\n",
            " 3   volatile acidity      5497 non-null   float64\n",
            " 4   citric acid           5497 non-null   float64\n",
            " 5   residual sugar        5497 non-null   float64\n",
            " 6   chlorides             5497 non-null   float64\n",
            " 7   free sulfur dioxide   5497 non-null   float64\n",
            " 8   total sulfur dioxide  5497 non-null   float64\n",
            " 9   density               5497 non-null   float64\n",
            " 10  pH                    5497 non-null   float64\n",
            " 11  sulphates             5497 non-null   float64\n",
            " 12  alcohol               5497 non-null   float64\n",
            " 13  type                  5497 non-null   object \n",
            "dtypes: float64(11), int64(2), object(1)\n",
            "memory usage: 601.4+ KB\n"
          ]
        }
      ]
    },
    {
      "cell_type": "code",
      "source": [
        "# 데이터 크기 파악하기\n",
        "print('train 크기 : {}'.format(train.shape))\n",
        "print('test 크기 : {}'. format(test.shape))"
      ],
      "metadata": {
        "colab": {
          "base_uri": "https://localhost:8080/"
        },
        "id": "1a1ofe_T6-2E",
        "outputId": "100e23f5-db97-45e3-da3e-5dbd05b0fe66"
      },
      "execution_count": null,
      "outputs": [
        {
          "output_type": "stream",
          "name": "stdout",
          "text": [
            "train 크기 : (5497, 14)\n",
            "test 크기 : (1000, 13)\n"
          ]
        }
      ]
    },
    {
      "cell_type": "code",
      "source": [
        "# 데이터 피쳐 알아보기\n",
        "train.head().T"
      ],
      "metadata": {
        "colab": {
          "base_uri": "https://localhost:8080/",
          "height": 487
        },
        "id": "nti8DQ3-7UOp",
        "outputId": "19acae03-10be-425f-b4c1-f0b70405115b"
      },
      "execution_count": null,
      "outputs": [
        {
          "output_type": "execute_result",
          "data": {
            "text/html": [
              "\n",
              "  <div id=\"df-e9134e58-1316-49b4-b424-b0d946efae2c\">\n",
              "    <div class=\"colab-df-container\">\n",
              "      <div>\n",
              "<style scoped>\n",
              "    .dataframe tbody tr th:only-of-type {\n",
              "        vertical-align: middle;\n",
              "    }\n",
              "\n",
              "    .dataframe tbody tr th {\n",
              "        vertical-align: top;\n",
              "    }\n",
              "\n",
              "    .dataframe thead th {\n",
              "        text-align: right;\n",
              "    }\n",
              "</style>\n",
              "<table border=\"1\" class=\"dataframe\">\n",
              "  <thead>\n",
              "    <tr style=\"text-align: right;\">\n",
              "      <th></th>\n",
              "      <th>0</th>\n",
              "      <th>1</th>\n",
              "      <th>2</th>\n",
              "      <th>3</th>\n",
              "      <th>4</th>\n",
              "    </tr>\n",
              "  </thead>\n",
              "  <tbody>\n",
              "    <tr>\n",
              "      <th>index</th>\n",
              "      <td>0</td>\n",
              "      <td>1</td>\n",
              "      <td>2</td>\n",
              "      <td>3</td>\n",
              "      <td>4</td>\n",
              "    </tr>\n",
              "    <tr>\n",
              "      <th>quality</th>\n",
              "      <td>5</td>\n",
              "      <td>5</td>\n",
              "      <td>5</td>\n",
              "      <td>6</td>\n",
              "      <td>6</td>\n",
              "    </tr>\n",
              "    <tr>\n",
              "      <th>fixed acidity</th>\n",
              "      <td>5.6</td>\n",
              "      <td>8.8</td>\n",
              "      <td>7.9</td>\n",
              "      <td>7</td>\n",
              "      <td>7.8</td>\n",
              "    </tr>\n",
              "    <tr>\n",
              "      <th>volatile acidity</th>\n",
              "      <td>0.695</td>\n",
              "      <td>0.61</td>\n",
              "      <td>0.21</td>\n",
              "      <td>0.21</td>\n",
              "      <td>0.4</td>\n",
              "    </tr>\n",
              "    <tr>\n",
              "      <th>citric acid</th>\n",
              "      <td>0.06</td>\n",
              "      <td>0.14</td>\n",
              "      <td>0.39</td>\n",
              "      <td>0.31</td>\n",
              "      <td>0.26</td>\n",
              "    </tr>\n",
              "    <tr>\n",
              "      <th>residual sugar</th>\n",
              "      <td>6.8</td>\n",
              "      <td>2.4</td>\n",
              "      <td>2</td>\n",
              "      <td>6</td>\n",
              "      <td>9.5</td>\n",
              "    </tr>\n",
              "    <tr>\n",
              "      <th>chlorides</th>\n",
              "      <td>0.042</td>\n",
              "      <td>0.067</td>\n",
              "      <td>0.057</td>\n",
              "      <td>0.046</td>\n",
              "      <td>0.059</td>\n",
              "    </tr>\n",
              "    <tr>\n",
              "      <th>free sulfur dioxide</th>\n",
              "      <td>9</td>\n",
              "      <td>10</td>\n",
              "      <td>21</td>\n",
              "      <td>29</td>\n",
              "      <td>32</td>\n",
              "    </tr>\n",
              "    <tr>\n",
              "      <th>total sulfur dioxide</th>\n",
              "      <td>84</td>\n",
              "      <td>42</td>\n",
              "      <td>138</td>\n",
              "      <td>108</td>\n",
              "      <td>178</td>\n",
              "    </tr>\n",
              "    <tr>\n",
              "      <th>density</th>\n",
              "      <td>0.99432</td>\n",
              "      <td>0.9969</td>\n",
              "      <td>0.99176</td>\n",
              "      <td>0.9939</td>\n",
              "      <td>0.9955</td>\n",
              "    </tr>\n",
              "    <tr>\n",
              "      <th>pH</th>\n",
              "      <td>3.44</td>\n",
              "      <td>3.19</td>\n",
              "      <td>3.05</td>\n",
              "      <td>3.26</td>\n",
              "      <td>3.04</td>\n",
              "    </tr>\n",
              "    <tr>\n",
              "      <th>sulphates</th>\n",
              "      <td>0.44</td>\n",
              "      <td>0.59</td>\n",
              "      <td>0.52</td>\n",
              "      <td>0.5</td>\n",
              "      <td>0.43</td>\n",
              "    </tr>\n",
              "    <tr>\n",
              "      <th>alcohol</th>\n",
              "      <td>10.2</td>\n",
              "      <td>9.5</td>\n",
              "      <td>10.9</td>\n",
              "      <td>10.8</td>\n",
              "      <td>10.9</td>\n",
              "    </tr>\n",
              "    <tr>\n",
              "      <th>type</th>\n",
              "      <td>white</td>\n",
              "      <td>red</td>\n",
              "      <td>white</td>\n",
              "      <td>white</td>\n",
              "      <td>white</td>\n",
              "    </tr>\n",
              "  </tbody>\n",
              "</table>\n",
              "</div>\n",
              "      <button class=\"colab-df-convert\" onclick=\"convertToInteractive('df-e9134e58-1316-49b4-b424-b0d946efae2c')\"\n",
              "              title=\"Convert this dataframe to an interactive table.\"\n",
              "              style=\"display:none;\">\n",
              "        \n",
              "  <svg xmlns=\"http://www.w3.org/2000/svg\" height=\"24px\"viewBox=\"0 0 24 24\"\n",
              "       width=\"24px\">\n",
              "    <path d=\"M0 0h24v24H0V0z\" fill=\"none\"/>\n",
              "    <path d=\"M18.56 5.44l.94 2.06.94-2.06 2.06-.94-2.06-.94-.94-2.06-.94 2.06-2.06.94zm-11 1L8.5 8.5l.94-2.06 2.06-.94-2.06-.94L8.5 2.5l-.94 2.06-2.06.94zm10 10l.94 2.06.94-2.06 2.06-.94-2.06-.94-.94-2.06-.94 2.06-2.06.94z\"/><path d=\"M17.41 7.96l-1.37-1.37c-.4-.4-.92-.59-1.43-.59-.52 0-1.04.2-1.43.59L10.3 9.45l-7.72 7.72c-.78.78-.78 2.05 0 2.83L4 21.41c.39.39.9.59 1.41.59.51 0 1.02-.2 1.41-.59l7.78-7.78 2.81-2.81c.8-.78.8-2.07 0-2.86zM5.41 20L4 18.59l7.72-7.72 1.47 1.35L5.41 20z\"/>\n",
              "  </svg>\n",
              "      </button>\n",
              "      \n",
              "  <style>\n",
              "    .colab-df-container {\n",
              "      display:flex;\n",
              "      flex-wrap:wrap;\n",
              "      gap: 12px;\n",
              "    }\n",
              "\n",
              "    .colab-df-convert {\n",
              "      background-color: #E8F0FE;\n",
              "      border: none;\n",
              "      border-radius: 50%;\n",
              "      cursor: pointer;\n",
              "      display: none;\n",
              "      fill: #1967D2;\n",
              "      height: 32px;\n",
              "      padding: 0 0 0 0;\n",
              "      width: 32px;\n",
              "    }\n",
              "\n",
              "    .colab-df-convert:hover {\n",
              "      background-color: #E2EBFA;\n",
              "      box-shadow: 0px 1px 2px rgba(60, 64, 67, 0.3), 0px 1px 3px 1px rgba(60, 64, 67, 0.15);\n",
              "      fill: #174EA6;\n",
              "    }\n",
              "\n",
              "    [theme=dark] .colab-df-convert {\n",
              "      background-color: #3B4455;\n",
              "      fill: #D2E3FC;\n",
              "    }\n",
              "\n",
              "    [theme=dark] .colab-df-convert:hover {\n",
              "      background-color: #434B5C;\n",
              "      box-shadow: 0px 1px 3px 1px rgba(0, 0, 0, 0.15);\n",
              "      filter: drop-shadow(0px 1px 2px rgba(0, 0, 0, 0.3));\n",
              "      fill: #FFFFFF;\n",
              "    }\n",
              "  </style>\n",
              "\n",
              "      <script>\n",
              "        const buttonEl =\n",
              "          document.querySelector('#df-e9134e58-1316-49b4-b424-b0d946efae2c button.colab-df-convert');\n",
              "        buttonEl.style.display =\n",
              "          google.colab.kernel.accessAllowed ? 'block' : 'none';\n",
              "\n",
              "        async function convertToInteractive(key) {\n",
              "          const element = document.querySelector('#df-e9134e58-1316-49b4-b424-b0d946efae2c');\n",
              "          const dataTable =\n",
              "            await google.colab.kernel.invokeFunction('convertToInteractive',\n",
              "                                                     [key], {});\n",
              "          if (!dataTable) return;\n",
              "\n",
              "          const docLinkHtml = 'Like what you see? Visit the ' +\n",
              "            '<a target=\"_blank\" href=https://colab.research.google.com/notebooks/data_table.ipynb>data table notebook</a>'\n",
              "            + ' to learn more about interactive tables.';\n",
              "          element.innerHTML = '';\n",
              "          dataTable['output_type'] = 'display_data';\n",
              "          await google.colab.output.renderOutput(dataTable, element);\n",
              "          const docLink = document.createElement('div');\n",
              "          docLink.innerHTML = docLinkHtml;\n",
              "          element.appendChild(docLink);\n",
              "        }\n",
              "      </script>\n",
              "    </div>\n",
              "  </div>\n",
              "  "
            ],
            "text/plain": [
              "                            0       1        2       3       4\n",
              "index                       0       1        2       3       4\n",
              "quality                     5       5        5       6       6\n",
              "fixed acidity             5.6     8.8      7.9       7     7.8\n",
              "volatile acidity        0.695    0.61     0.21    0.21     0.4\n",
              "citric acid              0.06    0.14     0.39    0.31    0.26\n",
              "residual sugar            6.8     2.4        2       6     9.5\n",
              "chlorides               0.042   0.067    0.057   0.046   0.059\n",
              "free sulfur dioxide         9      10       21      29      32\n",
              "total sulfur dioxide       84      42      138     108     178\n",
              "density               0.99432  0.9969  0.99176  0.9939  0.9955\n",
              "pH                       3.44    3.19     3.05    3.26    3.04\n",
              "sulphates                0.44    0.59     0.52     0.5    0.43\n",
              "alcohol                  10.2     9.5     10.9    10.8    10.9\n",
              "type                    white     red    white   white   white"
            ]
          },
          "metadata": {},
          "execution_count": 8
        }
      ]
    },
    {
      "cell_type": "markdown",
      "source": [
        "### 결측치 확인\n",
        "* info 에서도 확인할 수 있지만 다시한번 확인해보자"
      ],
      "metadata": {
        "id": "OGDlHZ7B7c57"
      }
    },
    {
      "cell_type": "code",
      "source": [
        "train.isnull().sum()"
      ],
      "metadata": {
        "colab": {
          "base_uri": "https://localhost:8080/"
        },
        "id": "PcYE4q3_7h6s",
        "outputId": "1e572441-7ac2-4b78-8d67-961fdd088235"
      },
      "execution_count": null,
      "outputs": [
        {
          "output_type": "execute_result",
          "data": {
            "text/plain": [
              "index                   0\n",
              "quality                 0\n",
              "fixed acidity           0\n",
              "volatile acidity        0\n",
              "citric acid             0\n",
              "residual sugar          0\n",
              "chlorides               0\n",
              "free sulfur dioxide     0\n",
              "total sulfur dioxide    0\n",
              "density                 0\n",
              "pH                      0\n",
              "sulphates               0\n",
              "alcohol                 0\n",
              "type                    0\n",
              "dtype: int64"
            ]
          },
          "metadata": {},
          "execution_count": 11
        }
      ]
    },
    {
      "cell_type": "markdown",
      "source": [
        "### 수치데이터 특성보기 (describe())"
      ],
      "metadata": {
        "id": "vZyXeQKE7v8M"
      }
    },
    {
      "cell_type": "code",
      "source": [
        "train.describe()"
      ],
      "metadata": {
        "colab": {
          "base_uri": "https://localhost:8080/",
          "height": 398
        },
        "id": "ahY0scGt7ynQ",
        "outputId": "9ba67f25-9185-43d3-f7a0-f4a2f07f7e25"
      },
      "execution_count": null,
      "outputs": [
        {
          "output_type": "execute_result",
          "data": {
            "text/html": [
              "\n",
              "  <div id=\"df-dccdd9ed-b12a-475b-9a83-26c5917b58aa\">\n",
              "    <div class=\"colab-df-container\">\n",
              "      <div>\n",
              "<style scoped>\n",
              "    .dataframe tbody tr th:only-of-type {\n",
              "        vertical-align: middle;\n",
              "    }\n",
              "\n",
              "    .dataframe tbody tr th {\n",
              "        vertical-align: top;\n",
              "    }\n",
              "\n",
              "    .dataframe thead th {\n",
              "        text-align: right;\n",
              "    }\n",
              "</style>\n",
              "<table border=\"1\" class=\"dataframe\">\n",
              "  <thead>\n",
              "    <tr style=\"text-align: right;\">\n",
              "      <th></th>\n",
              "      <th>index</th>\n",
              "      <th>quality</th>\n",
              "      <th>fixed acidity</th>\n",
              "      <th>volatile acidity</th>\n",
              "      <th>citric acid</th>\n",
              "      <th>residual sugar</th>\n",
              "      <th>chlorides</th>\n",
              "      <th>free sulfur dioxide</th>\n",
              "      <th>total sulfur dioxide</th>\n",
              "      <th>density</th>\n",
              "      <th>pH</th>\n",
              "      <th>sulphates</th>\n",
              "      <th>alcohol</th>\n",
              "    </tr>\n",
              "  </thead>\n",
              "  <tbody>\n",
              "    <tr>\n",
              "      <th>count</th>\n",
              "      <td>5497.000000</td>\n",
              "      <td>5497.000000</td>\n",
              "      <td>5497.000000</td>\n",
              "      <td>5497.000000</td>\n",
              "      <td>5497.000000</td>\n",
              "      <td>5497.000000</td>\n",
              "      <td>5497.000000</td>\n",
              "      <td>5497.000000</td>\n",
              "      <td>5497.000000</td>\n",
              "      <td>5497.000000</td>\n",
              "      <td>5497.000000</td>\n",
              "      <td>5497.000000</td>\n",
              "      <td>5497.000000</td>\n",
              "    </tr>\n",
              "    <tr>\n",
              "      <th>mean</th>\n",
              "      <td>2748.000000</td>\n",
              "      <td>5.818992</td>\n",
              "      <td>7.210115</td>\n",
              "      <td>0.338163</td>\n",
              "      <td>0.318543</td>\n",
              "      <td>5.438075</td>\n",
              "      <td>0.055808</td>\n",
              "      <td>30.417682</td>\n",
              "      <td>115.566491</td>\n",
              "      <td>0.994673</td>\n",
              "      <td>3.219502</td>\n",
              "      <td>0.530524</td>\n",
              "      <td>10.504918</td>\n",
              "    </tr>\n",
              "    <tr>\n",
              "      <th>std</th>\n",
              "      <td>1586.991546</td>\n",
              "      <td>0.870311</td>\n",
              "      <td>1.287579</td>\n",
              "      <td>0.163224</td>\n",
              "      <td>0.145104</td>\n",
              "      <td>4.756676</td>\n",
              "      <td>0.034653</td>\n",
              "      <td>17.673881</td>\n",
              "      <td>56.288223</td>\n",
              "      <td>0.003014</td>\n",
              "      <td>0.160713</td>\n",
              "      <td>0.149396</td>\n",
              "      <td>1.194524</td>\n",
              "    </tr>\n",
              "    <tr>\n",
              "      <th>min</th>\n",
              "      <td>0.000000</td>\n",
              "      <td>3.000000</td>\n",
              "      <td>3.800000</td>\n",
              "      <td>0.080000</td>\n",
              "      <td>0.000000</td>\n",
              "      <td>0.600000</td>\n",
              "      <td>0.009000</td>\n",
              "      <td>1.000000</td>\n",
              "      <td>6.000000</td>\n",
              "      <td>0.987110</td>\n",
              "      <td>2.740000</td>\n",
              "      <td>0.220000</td>\n",
              "      <td>8.000000</td>\n",
              "    </tr>\n",
              "    <tr>\n",
              "      <th>25%</th>\n",
              "      <td>1374.000000</td>\n",
              "      <td>5.000000</td>\n",
              "      <td>6.400000</td>\n",
              "      <td>0.230000</td>\n",
              "      <td>0.250000</td>\n",
              "      <td>1.800000</td>\n",
              "      <td>0.038000</td>\n",
              "      <td>17.000000</td>\n",
              "      <td>78.000000</td>\n",
              "      <td>0.992300</td>\n",
              "      <td>3.110000</td>\n",
              "      <td>0.430000</td>\n",
              "      <td>9.500000</td>\n",
              "    </tr>\n",
              "    <tr>\n",
              "      <th>50%</th>\n",
              "      <td>2748.000000</td>\n",
              "      <td>6.000000</td>\n",
              "      <td>7.000000</td>\n",
              "      <td>0.290000</td>\n",
              "      <td>0.310000</td>\n",
              "      <td>3.000000</td>\n",
              "      <td>0.047000</td>\n",
              "      <td>29.000000</td>\n",
              "      <td>118.000000</td>\n",
              "      <td>0.994800</td>\n",
              "      <td>3.210000</td>\n",
              "      <td>0.510000</td>\n",
              "      <td>10.300000</td>\n",
              "    </tr>\n",
              "    <tr>\n",
              "      <th>75%</th>\n",
              "      <td>4122.000000</td>\n",
              "      <td>6.000000</td>\n",
              "      <td>7.700000</td>\n",
              "      <td>0.400000</td>\n",
              "      <td>0.390000</td>\n",
              "      <td>8.100000</td>\n",
              "      <td>0.064000</td>\n",
              "      <td>41.000000</td>\n",
              "      <td>155.000000</td>\n",
              "      <td>0.996930</td>\n",
              "      <td>3.320000</td>\n",
              "      <td>0.600000</td>\n",
              "      <td>11.300000</td>\n",
              "    </tr>\n",
              "    <tr>\n",
              "      <th>max</th>\n",
              "      <td>5496.000000</td>\n",
              "      <td>9.000000</td>\n",
              "      <td>15.900000</td>\n",
              "      <td>1.580000</td>\n",
              "      <td>1.660000</td>\n",
              "      <td>65.800000</td>\n",
              "      <td>0.610000</td>\n",
              "      <td>289.000000</td>\n",
              "      <td>440.000000</td>\n",
              "      <td>1.038980</td>\n",
              "      <td>4.010000</td>\n",
              "      <td>2.000000</td>\n",
              "      <td>14.900000</td>\n",
              "    </tr>\n",
              "  </tbody>\n",
              "</table>\n",
              "</div>\n",
              "      <button class=\"colab-df-convert\" onclick=\"convertToInteractive('df-dccdd9ed-b12a-475b-9a83-26c5917b58aa')\"\n",
              "              title=\"Convert this dataframe to an interactive table.\"\n",
              "              style=\"display:none;\">\n",
              "        \n",
              "  <svg xmlns=\"http://www.w3.org/2000/svg\" height=\"24px\"viewBox=\"0 0 24 24\"\n",
              "       width=\"24px\">\n",
              "    <path d=\"M0 0h24v24H0V0z\" fill=\"none\"/>\n",
              "    <path d=\"M18.56 5.44l.94 2.06.94-2.06 2.06-.94-2.06-.94-.94-2.06-.94 2.06-2.06.94zm-11 1L8.5 8.5l.94-2.06 2.06-.94-2.06-.94L8.5 2.5l-.94 2.06-2.06.94zm10 10l.94 2.06.94-2.06 2.06-.94-2.06-.94-.94-2.06-.94 2.06-2.06.94z\"/><path d=\"M17.41 7.96l-1.37-1.37c-.4-.4-.92-.59-1.43-.59-.52 0-1.04.2-1.43.59L10.3 9.45l-7.72 7.72c-.78.78-.78 2.05 0 2.83L4 21.41c.39.39.9.59 1.41.59.51 0 1.02-.2 1.41-.59l7.78-7.78 2.81-2.81c.8-.78.8-2.07 0-2.86zM5.41 20L4 18.59l7.72-7.72 1.47 1.35L5.41 20z\"/>\n",
              "  </svg>\n",
              "      </button>\n",
              "      \n",
              "  <style>\n",
              "    .colab-df-container {\n",
              "      display:flex;\n",
              "      flex-wrap:wrap;\n",
              "      gap: 12px;\n",
              "    }\n",
              "\n",
              "    .colab-df-convert {\n",
              "      background-color: #E8F0FE;\n",
              "      border: none;\n",
              "      border-radius: 50%;\n",
              "      cursor: pointer;\n",
              "      display: none;\n",
              "      fill: #1967D2;\n",
              "      height: 32px;\n",
              "      padding: 0 0 0 0;\n",
              "      width: 32px;\n",
              "    }\n",
              "\n",
              "    .colab-df-convert:hover {\n",
              "      background-color: #E2EBFA;\n",
              "      box-shadow: 0px 1px 2px rgba(60, 64, 67, 0.3), 0px 1px 3px 1px rgba(60, 64, 67, 0.15);\n",
              "      fill: #174EA6;\n",
              "    }\n",
              "\n",
              "    [theme=dark] .colab-df-convert {\n",
              "      background-color: #3B4455;\n",
              "      fill: #D2E3FC;\n",
              "    }\n",
              "\n",
              "    [theme=dark] .colab-df-convert:hover {\n",
              "      background-color: #434B5C;\n",
              "      box-shadow: 0px 1px 3px 1px rgba(0, 0, 0, 0.15);\n",
              "      filter: drop-shadow(0px 1px 2px rgba(0, 0, 0, 0.3));\n",
              "      fill: #FFFFFF;\n",
              "    }\n",
              "  </style>\n",
              "\n",
              "      <script>\n",
              "        const buttonEl =\n",
              "          document.querySelector('#df-dccdd9ed-b12a-475b-9a83-26c5917b58aa button.colab-df-convert');\n",
              "        buttonEl.style.display =\n",
              "          google.colab.kernel.accessAllowed ? 'block' : 'none';\n",
              "\n",
              "        async function convertToInteractive(key) {\n",
              "          const element = document.querySelector('#df-dccdd9ed-b12a-475b-9a83-26c5917b58aa');\n",
              "          const dataTable =\n",
              "            await google.colab.kernel.invokeFunction('convertToInteractive',\n",
              "                                                     [key], {});\n",
              "          if (!dataTable) return;\n",
              "\n",
              "          const docLinkHtml = 'Like what you see? Visit the ' +\n",
              "            '<a target=\"_blank\" href=https://colab.research.google.com/notebooks/data_table.ipynb>data table notebook</a>'\n",
              "            + ' to learn more about interactive tables.';\n",
              "          element.innerHTML = '';\n",
              "          dataTable['output_type'] = 'display_data';\n",
              "          await google.colab.output.renderOutput(dataTable, element);\n",
              "          const docLink = document.createElement('div');\n",
              "          docLink.innerHTML = docLinkHtml;\n",
              "          element.appendChild(docLink);\n",
              "        }\n",
              "      </script>\n",
              "    </div>\n",
              "  </div>\n",
              "  "
            ],
            "text/plain": [
              "             index      quality  ...    sulphates      alcohol\n",
              "count  5497.000000  5497.000000  ...  5497.000000  5497.000000\n",
              "mean   2748.000000     5.818992  ...     0.530524    10.504918\n",
              "std    1586.991546     0.870311  ...     0.149396     1.194524\n",
              "min       0.000000     3.000000  ...     0.220000     8.000000\n",
              "25%    1374.000000     5.000000  ...     0.430000     9.500000\n",
              "50%    2748.000000     6.000000  ...     0.510000    10.300000\n",
              "75%    4122.000000     6.000000  ...     0.600000    11.300000\n",
              "max    5496.000000     9.000000  ...     2.000000    14.900000\n",
              "\n",
              "[8 rows x 13 columns]"
            ]
          },
          "metadata": {},
          "execution_count": 12
        }
      ]
    },
    {
      "cell_type": "markdown",
      "source": [
        "### 변수분포 시각화\n",
        "* matplotlib\n",
        "* seaborn"
      ],
      "metadata": {
        "id": "kYXvqDSc8L0W"
      }
    },
    {
      "cell_type": "code",
      "source": [
        "# 라이브러리 임포트\n",
        "import matplotlib.pyplot as plt\n",
        "import seaborn as sns\n",
        "plt.rc('figure', facecolor = 'eaeaf2')"
      ],
      "metadata": {
        "id": "hrA_AhNN8UfA"
      },
      "execution_count": null,
      "outputs": []
    },
    {
      "cell_type": "code",
      "source": [
        "# 시각화 할때는 보통 copy()로 복사본을 생성하고 진행\n",
        "copy = train.copy()"
      ],
      "metadata": {
        "id": "wB8CELyZ8ahn"
      },
      "execution_count": null,
      "outputs": []
    },
    {
      "cell_type": "code",
      "source": [
        "# seaborn 의 distplot --> 히스토그램\n",
        "sns.distplot(copy['pH'])"
      ],
      "metadata": {
        "colab": {
          "base_uri": "https://localhost:8080/",
          "height": 297
        },
        "id": "Sg_8rNT18kiZ",
        "outputId": "6926a0e9-b064-4b0e-9935-36908793cae9"
      },
      "execution_count": null,
      "outputs": [
        {
          "output_type": "execute_result",
          "data": {
            "text/plain": [
              "<matplotlib.axes._subplots.AxesSubplot at 0x7efcff8d14d0>"
            ]
          },
          "metadata": {},
          "execution_count": 13
        },
        {
          "output_type": "display_data",
          "data": {
            "image/png": "[encoded data removed]",
            "text/plain": [
              "<Figure size 432x288 with 1 Axes>"
            ]
          },
          "metadata": {}
        }
      ]
    },
    {
      "cell_type": "code",
      "source": [
        "# kde = False 선 삭제\n",
        "sns.distplot(copy['pH'], kde = False)"
      ],
      "metadata": {
        "colab": {
          "base_uri": "https://localhost:8080/",
          "height": 297
        },
        "id": "JbwG92XG9UI0",
        "outputId": "765e1f89-dffb-4668-a932-4d1d2a1a0508"
      },
      "execution_count": null,
      "outputs": [
        {
          "output_type": "execute_result",
          "data": {
            "text/plain": [
              "<matplotlib.axes._subplots.AxesSubplot at 0x7efcff7e2f90>"
            ]
          },
          "metadata": {},
          "execution_count": 14
        },
        {
          "output_type": "display_data",
          "data": {
            "image/png": "[encoded data removed]",
            "text/plain": [
              "<Figure size 432x288 with 1 Axes>"
            ]
          },
          "metadata": {}
        }
      ]
    },
    {
      "cell_type": "code",
      "source": [
        "# bins = 출력할 막대의 갯수를 설정\n",
        "sns.distplot(copy['pH'], bins = 20)"
      ],
      "metadata": {
        "colab": {
          "base_uri": "https://localhost:8080/",
          "height": 297
        },
        "id": "E8gXzV709nwT",
        "outputId": "a843964f-ddc7-45c4-a168-48a2701be166"
      },
      "execution_count": null,
      "outputs": [
        {
          "output_type": "execute_result",
          "data": {
            "text/plain": [
              "<matplotlib.axes._subplots.AxesSubplot at 0x7efcff6da390>"
            ]
          },
          "metadata": {},
          "execution_count": 15
        },
        {
          "output_type": "display_data",
          "data": {
            "image/png": "[encoded data removed]",
            "text/plain": [
              "<Figure size 432x288 with 1 Axes>"
            ]
          },
          "metadata": {}
        }
      ]
    },
    {
      "cell_type": "code",
      "source": [
        "# plt.axis() 축의 최대 최솟값 지정\n",
        "# plt.title() 그래프의 제목을 지정\n",
        "sns.distplot(train['pH'])\n",
        "plt.axis([0, 5, 0, 3]) # 리스트 형태로 전달해야함\n",
        "plt.title('pH histogram')"
      ],
      "metadata": {
        "colab": {
          "base_uri": "https://localhost:8080/",
          "height": 313
        },
        "id": "Sq0yDvaA92je",
        "outputId": "15e192b5-e322-4342-9deb-10991b576f3f"
      },
      "execution_count": null,
      "outputs": [
        {
          "output_type": "execute_result",
          "data": {
            "text/plain": [
              "Text(0.5, 1.0, 'pH histogram')"
            ]
          },
          "metadata": {},
          "execution_count": 20
        },
        {
          "output_type": "display_data",
          "data": {
            "image/png": "[encoded data removed]",
            "text/plain": [
              "<Figure size 432x288 with 1 Axes>"
            ]
          },
          "metadata": {}
        }
      ]
    },
    {
      "cell_type": "markdown",
      "source": [
        "### Matplotlib\n",
        "* plot // 선\n",
        "* scatter // 산점도\n",
        "* hist // 히스토그램"
      ],
      "metadata": {
        "id": "-1Fqi4IM-9UX"
      }
    },
    {
      "cell_type": "code",
      "source": [
        "x = [1,2,3,4,5]\n",
        "y = [4,5,6,7,8]\n",
        "plt.plot(x, y)"
      ],
      "metadata": {
        "colab": {
          "base_uri": "https://localhost:8080/",
          "height": 283
        },
        "id": "gbaH4Zt1--T4",
        "outputId": "dbdb86b5-89d3-4604-fe97-2f9afc3d9b61"
      },
      "execution_count": null,
      "outputs": [
        {
          "output_type": "execute_result",
          "data": {
            "text/plain": [
              "[<matplotlib.lines.Line2D at 0x7efcfefc9590>]"
            ]
          },
          "metadata": {},
          "execution_count": 24
        },
        {
          "output_type": "display_data",
          "data": {
            "image/png": "[encoded data removed]",
            "text/plain": [
              "<Figure size 432x288 with 1 Axes>"
            ]
          },
          "metadata": {}
        }
      ]
    },
    {
      "cell_type": "code",
      "source": [
        "# 산점도 그래프\n",
        "plt.scatter(x, y)"
      ],
      "metadata": {
        "colab": {
          "base_uri": "https://localhost:8080/",
          "height": 283
        },
        "id": "Yl_4KPrF_9rg",
        "outputId": "e8b65a84-dc21-4513-c60b-e2aa20b8681e"
      },
      "execution_count": null,
      "outputs": [
        {
          "output_type": "execute_result",
          "data": {
            "text/plain": [
              "<matplotlib.collections.PathCollection at 0x7efcfeb86250>"
            ]
          },
          "metadata": {},
          "execution_count": 29
        },
        {
          "output_type": "display_data",
          "data": {
            "image/png": "[encoded data removed]",
            "text/plain": [
              "<Figure size 432x288 with 1 Axes>"
            ]
          },
          "metadata": {}
        }
      ]
    },
    {
      "cell_type": "code",
      "source": [
        "plt.hist(train['pH'], bins = 20)"
      ],
      "metadata": {
        "colab": {
          "base_uri": "https://localhost:8080/",
          "height": 375
        },
        "id": "9BIT4X7U_mbO",
        "outputId": "328c010a-55d8-4b78-8762-29ef1e4609fd"
      },
      "execution_count": null,
      "outputs": [
        {
          "output_type": "execute_result",
          "data": {
            "text/plain": [
              "(array([  8.,  21., 128., 234., 418., 756., 854., 832., 791., 557., 375.,\n",
              "        262., 136.,  63.,  34.,  14.,   8.,   2.,   2.,   2.]),\n",
              " array([2.74  , 2.8035, 2.867 , 2.9305, 2.994 , 3.0575, 3.121 , 3.1845,\n",
              "        3.248 , 3.3115, 3.375 , 3.4385, 3.502 , 3.5655, 3.629 , 3.6925,\n",
              "        3.756 , 3.8195, 3.883 , 3.9465, 4.01  ]),\n",
              " <a list of 20 Patch objects>)"
            ]
          },
          "metadata": {},
          "execution_count": 28
        },
        {
          "output_type": "display_data",
          "data": {
            "image/png": "[encoded data removed]",
            "text/plain": [
              "<Figure size 432x288 with 1 Axes>"
            ]
          },
          "metadata": {}
        }
      ]
    },
    {
      "cell_type": "markdown",
      "source": [
        "## 전처리"
      ],
      "metadata": {
        "id": "wEYzOH_NFY5u"
      }
    },
    {
      "cell_type": "markdown",
      "source": [
        "### 이상치 탐지\n",
        "* 이상치 // 일반적인 데이터 패턴과 매우 다른 패턴을 갖는 데이터\n",
        "* 모델의 성능을 크게 떨어트리기 때문에 제거해줘야 한다\n",
        "* boxplot을 그려 이상치 찾기\n",
        "1. 10~8 사이의 실선 : 3분위수 + 1.5 * IQR\n",
        "2. 파랑색 박스의 위쪽 실선 : 3분위수 (75%)\n",
        "3. 파랑색 박스의 중앙 실선 : 2분위수 (중앙값)\n",
        "4. 파랑색 박스의 아래 실선 : 1분위수 (25%)\n",
        "5. 4~6 사이의 실선 : 1분위수 - 1.5 * IQR\n",
        "6. 파랑색 박스의 길이 : 3분위수 - 1분위수 = IQR"
      ],
      "metadata": {
        "id": "bneKf35pFaqn"
      }
    },
    {
      "cell_type": "code",
      "source": [
        "# boxplot 그리기\n",
        "fig, axs = plt.subplots(figsize = (10, 5))\n",
        "sns.boxplot(data = train['fixed acidity'])"
      ],
      "metadata": {
        "colab": {
          "base_uri": "https://localhost:8080/",
          "height": 338
        },
        "id": "Ta-0AFGSFn_3",
        "outputId": "30246718-43d3-425e-fb20-32708e288baa"
      },
      "execution_count": null,
      "outputs": [
        {
          "output_type": "execute_result",
          "data": {
            "text/plain": [
              "<matplotlib.axes._subplots.AxesSubplot at 0x7efcfeacf3d0>"
            ]
          },
          "metadata": {},
          "execution_count": 36
        },
        {
          "output_type": "display_data",
          "data": {
            "image/png": "[encoded data removed]",
            "text/plain": [
              "<Figure size 720x360 with 1 Axes>"
            ]
          },
          "metadata": {}
        }
      ]
    },
    {
      "cell_type": "markdown",
      "source": [
        "### 이상치 제거\n",
        "* boxplot 실선 범위를 벗어나는 데이터를 이상치로 판단하여 제거\n",
        "* quantile 함수 // 데이터를 동등한 크기로 분할하는 지점을 지정한다 // ex) 0.25 = 1사분위, 0.5 = 중앙값, 0.75 = 3사분위 "
      ],
      "metadata": {
        "id": "J_k0e1TQGZNy"
      }
    },
    {
      "cell_type": "code",
      "source": [
        "# 25% 에 위치한 1사분위 값\n",
        "quantile_25 = np.quantile(train['fixed acidity'], 0.25)\n",
        "\n",
        "# 75% 에 위치한 3사분위 값\n",
        "quantile_75 = np.quantile(train['fixed acidity'], 0.75)\n",
        "\n",
        "# IQR = 박스의 크기 = 3사분위 값 - 1사분위 값\n",
        "IQR = quantile_75 - quantile_25\n",
        "\n",
        "print('1사분위 값 : {}\\n3사분위 값 : {}\\nIQR값 : {}'.format(quantile_25, quantile_75, IQR))"
      ],
      "metadata": {
        "colab": {
          "base_uri": "https://localhost:8080/"
        },
        "id": "uDzKT61bHx8Y",
        "outputId": "2a0fe62e-7502-4fce-ca32-caf090ea21a3"
      },
      "execution_count": null,
      "outputs": [
        {
          "output_type": "stream",
          "name": "stdout",
          "text": [
            "1사분위 값 : 6.4\n",
            "3사분위 값 : 7.7\n",
            "IQR값 : 1.2999999999999998\n"
          ]
        }
      ]
    },
    {
      "cell_type": "code",
      "source": [
        "# boxplot 가장 아래쪽 가로실선 값\n",
        "minimum = quantile_25 - 1.5 * IQR\n",
        "\n",
        "# boxplot 가장 위쪽 가로실선 값\n",
        "maximum = quantile_75 + 1.5 * IQR\n",
        "\n",
        "# 구한 minimum, maximum 값 사이의 데이터만 출력 \n",
        "train2 = train[(minimum <= train['fixed acidity']) & (train['fixed acidity'] <= maximum)]\n",
        "\n",
        "# 294개의 이상치 데이터가 삭제됨\n",
        "train.shape, train2.shape"
      ],
      "metadata": {
        "colab": {
          "base_uri": "https://localhost:8080/"
        },
        "id": "09_zj10tMEGD",
        "outputId": "5b876fdc-8391-4917-e729-823200ed2516"
      },
      "execution_count": null,
      "outputs": [
        {
          "output_type": "execute_result",
          "data": {
            "text/plain": [
              "((5497, 14), (5203, 14))"
            ]
          },
          "metadata": {},
          "execution_count": 57
        }
      ]
    },
    {
      "cell_type": "markdown",
      "source": [
        "### 수치형 데이터 정규화 // Min Max Scailing\n",
        "* 트리 기반 모델(DecisionTree, RandomForest) 은 대소 비교를 통해 구분하기 때문에 숫자의 단위에 크게 영향을 받지 않는다\n",
        "* 평활 함수 모델(Linear Regression, Lasso) 은 숫자의 크기와 단위에 양향을 크게 받는다\n",
        "* 수치형 데이터 정규화를 통해 모든 모델에 잘 어울리는 데이터를 만든다\n",
        "* Min Max Scailing // 가장 작은 값은 0, 가장 큰 값은 1로 만들고 그 사이의 값들은 비율에 따라 0 ~ 1 사이에 분포하게 만든다\n"
      ],
      "metadata": {
        "id": "l6hhUGAeU2C1"
      }
    },
    {
      "cell_type": "code",
      "source": [
        "# describe 로 fixed acidity 데이터 확인\n",
        "train.describe()['fixed acidity']"
      ],
      "metadata": {
        "colab": {
          "base_uri": "https://localhost:8080/"
        },
        "id": "9gKU3II9Vxu8",
        "outputId": "bd211712-c263-4ab9-dd29-f04ae940042a"
      },
      "execution_count": null,
      "outputs": [
        {
          "output_type": "execute_result",
          "data": {
            "text/plain": [
              "count    5497.000000\n",
              "mean        7.210115\n",
              "std         1.287579\n",
              "min         3.800000\n",
              "25%         6.400000\n",
              "50%         7.000000\n",
              "75%         7.700000\n",
              "max        15.900000\n",
              "Name: fixed acidity, dtype: float64"
            ]
          },
          "metadata": {},
          "execution_count": 66
        }
      ]
    },
    {
      "cell_type": "code",
      "source": [
        "# seaborn 으로 fixed acidity distplot 그리기\n",
        "fig, axs = plt.subplots(figsize = (10, 5))\n",
        "sns.distplot(train['fixed acidity'])"
      ],
      "metadata": {
        "colab": {
          "base_uri": "https://localhost:8080/",
          "height": 352
        },
        "id": "GprWr2sKWOoQ",
        "outputId": "ae1ea6f6-a95a-4844-d2d0-9f2d50993333"
      },
      "execution_count": null,
      "outputs": [
        {
          "output_type": "execute_result",
          "data": {
            "text/plain": [
              "<matplotlib.axes._subplots.AxesSubplot at 0x7efcfe6cead0>"
            ]
          },
          "metadata": {},
          "execution_count": 68
        },
        {
          "output_type": "display_data",
          "data": {
            "image/png": "[encoded data removed]",
            "text/plain": [
              "<Figure size 720x360 with 1 Axes>"
            ]
          },
          "metadata": {}
        }
      ]
    },
    {
      "cell_type": "code",
      "source": [
        "# MinMaxScaler 임포트\n",
        "from sklearn.preprocessing import MinMaxScaler\n",
        "scaler = MinMaxScaler()"
      ],
      "metadata": {
        "id": "4kVsbuRcWdsi"
      },
      "execution_count": null,
      "outputs": []
    },
    {
      "cell_type": "code",
      "source": [
        "# Scaler fit // 스케일러 훈련\n",
        "scaler.fit(train[['fixed acidity']])"
      ],
      "metadata": {
        "colab": {
          "base_uri": "https://localhost:8080/"
        },
        "id": "26i5TazXWn4M",
        "outputId": "f3a4cd4b-4639-4cc3-aefa-14aa4b960d86"
      },
      "execution_count": null,
      "outputs": [
        {
          "output_type": "execute_result",
          "data": {
            "text/plain": [
              "MinMaxScaler()"
            ]
          },
          "metadata": {},
          "execution_count": 75
        }
      ]
    },
    {
      "cell_type": "code",
      "source": [
        "# 스케일링 전 값\n",
        "train[['fixed acidity']]"
      ],
      "metadata": {
        "colab": {
          "base_uri": "https://localhost:8080/",
          "height": 423
        },
        "id": "GKYDPzvPXcVs",
        "outputId": "9eab4ce2-4e19-4700-81ef-457bef543a73"
      },
      "execution_count": null,
      "outputs": [
        {
          "output_type": "execute_result",
          "data": {
            "text/html": [
              "\n",
              "  <div id=\"df-ff3474be-19fd-40ec-909a-1029be90ca0b\">\n",
              "    <div class=\"colab-df-container\">\n",
              "      <div>\n",
              "<style scoped>\n",
              "    .dataframe tbody tr th:only-of-type {\n",
              "        vertical-align: middle;\n",
              "    }\n",
              "\n",
              "    .dataframe tbody tr th {\n",
              "        vertical-align: top;\n",
              "    }\n",
              "\n",
              "    .dataframe thead th {\n",
              "        text-align: right;\n",
              "    }\n",
              "</style>\n",
              "<table border=\"1\" class=\"dataframe\">\n",
              "  <thead>\n",
              "    <tr style=\"text-align: right;\">\n",
              "      <th></th>\n",
              "      <th>fixed acidity</th>\n",
              "    </tr>\n",
              "  </thead>\n",
              "  <tbody>\n",
              "    <tr>\n",
              "      <th>0</th>\n",
              "      <td>5.6</td>\n",
              "    </tr>\n",
              "    <tr>\n",
              "      <th>1</th>\n",
              "      <td>8.8</td>\n",
              "    </tr>\n",
              "    <tr>\n",
              "      <th>2</th>\n",
              "      <td>7.9</td>\n",
              "    </tr>\n",
              "    <tr>\n",
              "      <th>3</th>\n",
              "      <td>7.0</td>\n",
              "    </tr>\n",
              "    <tr>\n",
              "      <th>4</th>\n",
              "      <td>7.8</td>\n",
              "    </tr>\n",
              "    <tr>\n",
              "      <th>...</th>\n",
              "      <td>...</td>\n",
              "    </tr>\n",
              "    <tr>\n",
              "      <th>5492</th>\n",
              "      <td>7.7</td>\n",
              "    </tr>\n",
              "    <tr>\n",
              "      <th>5493</th>\n",
              "      <td>6.3</td>\n",
              "    </tr>\n",
              "    <tr>\n",
              "      <th>5494</th>\n",
              "      <td>7.8</td>\n",
              "    </tr>\n",
              "    <tr>\n",
              "      <th>5495</th>\n",
              "      <td>6.6</td>\n",
              "    </tr>\n",
              "    <tr>\n",
              "      <th>5496</th>\n",
              "      <td>7.0</td>\n",
              "    </tr>\n",
              "  </tbody>\n",
              "</table>\n",
              "<p>5497 rows × 1 columns</p>\n",
              "</div>\n",
              "      <button class=\"colab-df-convert\" onclick=\"convertToInteractive('df-ff3474be-19fd-40ec-909a-1029be90ca0b')\"\n",
              "              title=\"Convert this dataframe to an interactive table.\"\n",
              "              style=\"display:none;\">\n",
              "        \n",
              "  <svg xmlns=\"http://www.w3.org/2000/svg\" height=\"24px\"viewBox=\"0 0 24 24\"\n",
              "       width=\"24px\">\n",
              "    <path d=\"M0 0h24v24H0V0z\" fill=\"none\"/>\n",
              "    <path d=\"M18.56 5.44l.94 2.06.94-2.06 2.06-.94-2.06-.94-.94-2.06-.94 2.06-2.06.94zm-11 1L8.5 8.5l.94-2.06 2.06-.94-2.06-.94L8.5 2.5l-.94 2.06-2.06.94zm10 10l.94 2.06.94-2.06 2.06-.94-2.06-.94-.94-2.06-.94 2.06-2.06.94z\"/><path d=\"M17.41 7.96l-1.37-1.37c-.4-.4-.92-.59-1.43-.59-.52 0-1.04.2-1.43.59L10.3 9.45l-7.72 7.72c-.78.78-.78 2.05 0 2.83L4 21.41c.39.39.9.59 1.41.59.51 0 1.02-.2 1.41-.59l7.78-7.78 2.81-2.81c.8-.78.8-2.07 0-2.86zM5.41 20L4 18.59l7.72-7.72 1.47 1.35L5.41 20z\"/>\n",
              "  </svg>\n",
              "      </button>\n",
              "      \n",
              "  <style>\n",
              "    .colab-df-container {\n",
              "      display:flex;\n",
              "      flex-wrap:wrap;\n",
              "      gap: 12px;\n",
              "    }\n",
              "\n",
              "    .colab-df-convert {\n",
              "      background-color: #E8F0FE;\n",
              "      border: none;\n",
              "      border-radius: 50%;\n",
              "      cursor: pointer;\n",
              "      display: none;\n",
              "      fill: #1967D2;\n",
              "      height: 32px;\n",
              "      padding: 0 0 0 0;\n",
              "      width: 32px;\n",
              "    }\n",
              "\n",
              "    .colab-df-convert:hover {\n",
              "      background-color: #E2EBFA;\n",
              "      box-shadow: 0px 1px 2px rgba(60, 64, 67, 0.3), 0px 1px 3px 1px rgba(60, 64, 67, 0.15);\n",
              "      fill: #174EA6;\n",
              "    }\n",
              "\n",
              "    [theme=dark] .colab-df-convert {\n",
              "      background-color: #3B4455;\n",
              "      fill: #D2E3FC;\n",
              "    }\n",
              "\n",
              "    [theme=dark] .colab-df-convert:hover {\n",
              "      background-color: #434B5C;\n",
              "      box-shadow: 0px 1px 3px 1px rgba(0, 0, 0, 0.15);\n",
              "      filter: drop-shadow(0px 1px 2px rgba(0, 0, 0, 0.3));\n",
              "      fill: #FFFFFF;\n",
              "    }\n",
              "  </style>\n",
              "\n",
              "      <script>\n",
              "        const buttonEl =\n",
              "          document.querySelector('#df-ff3474be-19fd-40ec-909a-1029be90ca0b button.colab-df-convert');\n",
              "        buttonEl.style.display =\n",
              "          google.colab.kernel.accessAllowed ? 'block' : 'none';\n",
              "\n",
              "        async function convertToInteractive(key) {\n",
              "          const element = document.querySelector('#df-ff3474be-19fd-40ec-909a-1029be90ca0b');\n",
              "          const dataTable =\n",
              "            await google.colab.kernel.invokeFunction('convertToInteractive',\n",
              "                                                     [key], {});\n",
              "          if (!dataTable) return;\n",
              "\n",
              "          const docLinkHtml = 'Like what you see? Visit the ' +\n",
              "            '<a target=\"_blank\" href=https://colab.research.google.com/notebooks/data_table.ipynb>data table notebook</a>'\n",
              "            + ' to learn more about interactive tables.';\n",
              "          element.innerHTML = '';\n",
              "          dataTable['output_type'] = 'display_data';\n",
              "          await google.colab.output.renderOutput(dataTable, element);\n",
              "          const docLink = document.createElement('div');\n",
              "          docLink.innerHTML = docLinkHtml;\n",
              "          element.appendChild(docLink);\n",
              "        }\n",
              "      </script>\n",
              "    </div>\n",
              "  </div>\n",
              "  "
            ],
            "text/plain": [
              "      fixed acidity\n",
              "0               5.6\n",
              "1               8.8\n",
              "2               7.9\n",
              "3               7.0\n",
              "4               7.8\n",
              "...             ...\n",
              "5492            7.7\n",
              "5493            6.3\n",
              "5494            7.8\n",
              "5495            6.6\n",
              "5496            7.0\n",
              "\n",
              "[5497 rows x 1 columns]"
            ]
          },
          "metadata": {},
          "execution_count": 79
        }
      ]
    },
    {
      "cell_type": "code",
      "source": [
        "# 스케일링 후 값\n",
        "train['scaled fixed acidity'] = scaler.transform(train[['fixed acidity']])\n",
        "train[['scaled fixed acidity']]"
      ],
      "metadata": {
        "colab": {
          "base_uri": "https://localhost:8080/",
          "height": 423
        },
        "id": "73eei2ovW_sv",
        "outputId": "d420b3bf-b36e-4051-b838-1ba1c5f9f3e5"
      },
      "execution_count": null,
      "outputs": [
        {
          "output_type": "execute_result",
          "data": {
            "text/html": [
              "\n",
              "  <div id=\"df-9fdc0fbb-2aeb-48bd-bec2-fb44f0ef7cc7\">\n",
              "    <div class=\"colab-df-container\">\n",
              "      <div>\n",
              "<style scoped>\n",
              "    .dataframe tbody tr th:only-of-type {\n",
              "        vertical-align: middle;\n",
              "    }\n",
              "\n",
              "    .dataframe tbody tr th {\n",
              "        vertical-align: top;\n",
              "    }\n",
              "\n",
              "    .dataframe thead th {\n",
              "        text-align: right;\n",
              "    }\n",
              "</style>\n",
              "<table border=\"1\" class=\"dataframe\">\n",
              "  <thead>\n",
              "    <tr style=\"text-align: right;\">\n",
              "      <th></th>\n",
              "      <th>scaled fixed acidity</th>\n",
              "    </tr>\n",
              "  </thead>\n",
              "  <tbody>\n",
              "    <tr>\n",
              "      <th>0</th>\n",
              "      <td>0.148760</td>\n",
              "    </tr>\n",
              "    <tr>\n",
              "      <th>1</th>\n",
              "      <td>0.413223</td>\n",
              "    </tr>\n",
              "    <tr>\n",
              "      <th>2</th>\n",
              "      <td>0.338843</td>\n",
              "    </tr>\n",
              "    <tr>\n",
              "      <th>3</th>\n",
              "      <td>0.264463</td>\n",
              "    </tr>\n",
              "    <tr>\n",
              "      <th>4</th>\n",
              "      <td>0.330579</td>\n",
              "    </tr>\n",
              "    <tr>\n",
              "      <th>...</th>\n",
              "      <td>...</td>\n",
              "    </tr>\n",
              "    <tr>\n",
              "      <th>5492</th>\n",
              "      <td>0.322314</td>\n",
              "    </tr>\n",
              "    <tr>\n",
              "      <th>5493</th>\n",
              "      <td>0.206612</td>\n",
              "    </tr>\n",
              "    <tr>\n",
              "      <th>5494</th>\n",
              "      <td>0.330579</td>\n",
              "    </tr>\n",
              "    <tr>\n",
              "      <th>5495</th>\n",
              "      <td>0.231405</td>\n",
              "    </tr>\n",
              "    <tr>\n",
              "      <th>5496</th>\n",
              "      <td>0.264463</td>\n",
              "    </tr>\n",
              "  </tbody>\n",
              "</table>\n",
              "<p>5497 rows × 1 columns</p>\n",
              "</div>\n",
              "      <button class=\"colab-df-convert\" onclick=\"convertToInteractive('df-9fdc0fbb-2aeb-48bd-bec2-fb44f0ef7cc7')\"\n",
              "              title=\"Convert this dataframe to an interactive table.\"\n",
              "              style=\"display:none;\">\n",
              "        \n",
              "  <svg xmlns=\"http://www.w3.org/2000/svg\" height=\"24px\"viewBox=\"0 0 24 24\"\n",
              "       width=\"24px\">\n",
              "    <path d=\"M0 0h24v24H0V0z\" fill=\"none\"/>\n",
              "    <path d=\"M18.56 5.44l.94 2.06.94-2.06 2.06-.94-2.06-.94-.94-2.06-.94 2.06-2.06.94zm-11 1L8.5 8.5l.94-2.06 2.06-.94-2.06-.94L8.5 2.5l-.94 2.06-2.06.94zm10 10l.94 2.06.94-2.06 2.06-.94-2.06-.94-.94-2.06-.94 2.06-2.06.94z\"/><path d=\"M17.41 7.96l-1.37-1.37c-.4-.4-.92-.59-1.43-.59-.52 0-1.04.2-1.43.59L10.3 9.45l-7.72 7.72c-.78.78-.78 2.05 0 2.83L4 21.41c.39.39.9.59 1.41.59.51 0 1.02-.2 1.41-.59l7.78-7.78 2.81-2.81c.8-.78.8-2.07 0-2.86zM5.41 20L4 18.59l7.72-7.72 1.47 1.35L5.41 20z\"/>\n",
              "  </svg>\n",
              "      </button>\n",
              "      \n",
              "  <style>\n",
              "    .colab-df-container {\n",
              "      display:flex;\n",
              "      flex-wrap:wrap;\n",
              "      gap: 12px;\n",
              "    }\n",
              "\n",
              "    .colab-df-convert {\n",
              "      background-color: #E8F0FE;\n",
              "      border: none;\n",
              "      border-radius: 50%;\n",
              "      cursor: pointer;\n",
              "      display: none;\n",
              "      fill: #1967D2;\n",
              "      height: 32px;\n",
              "      padding: 0 0 0 0;\n",
              "      width: 32px;\n",
              "    }\n",
              "\n",
              "    .colab-df-convert:hover {\n",
              "      background-color: #E2EBFA;\n",
              "      box-shadow: 0px 1px 2px rgba(60, 64, 67, 0.3), 0px 1px 3px 1px rgba(60, 64, 67, 0.15);\n",
              "      fill: #174EA6;\n",
              "    }\n",
              "\n",
              "    [theme=dark] .colab-df-convert {\n",
              "      background-color: #3B4455;\n",
              "      fill: #D2E3FC;\n",
              "    }\n",
              "\n",
              "    [theme=dark] .colab-df-convert:hover {\n",
              "      background-color: #434B5C;\n",
              "      box-shadow: 0px 1px 3px 1px rgba(0, 0, 0, 0.15);\n",
              "      filter: drop-shadow(0px 1px 2px rgba(0, 0, 0, 0.3));\n",
              "      fill: #FFFFFF;\n",
              "    }\n",
              "  </style>\n",
              "\n",
              "      <script>\n",
              "        const buttonEl =\n",
              "          document.querySelector('#df-9fdc0fbb-2aeb-48bd-bec2-fb44f0ef7cc7 button.colab-df-convert');\n",
              "        buttonEl.style.display =\n",
              "          google.colab.kernel.accessAllowed ? 'block' : 'none';\n",
              "\n",
              "        async function convertToInteractive(key) {\n",
              "          const element = document.querySelector('#df-9fdc0fbb-2aeb-48bd-bec2-fb44f0ef7cc7');\n",
              "          const dataTable =\n",
              "            await google.colab.kernel.invokeFunction('convertToInteractive',\n",
              "                                                     [key], {});\n",
              "          if (!dataTable) return;\n",
              "\n",
              "          const docLinkHtml = 'Like what you see? Visit the ' +\n",
              "            '<a target=\"_blank\" href=https://colab.research.google.com/notebooks/data_table.ipynb>data table notebook</a>'\n",
              "            + ' to learn more about interactive tables.';\n",
              "          element.innerHTML = '';\n",
              "          dataTable['output_type'] = 'display_data';\n",
              "          await google.colab.output.renderOutput(dataTable, element);\n",
              "          const docLink = document.createElement('div');\n",
              "          docLink.innerHTML = docLinkHtml;\n",
              "          element.appendChild(docLink);\n",
              "        }\n",
              "      </script>\n",
              "    </div>\n",
              "  </div>\n",
              "  "
            ],
            "text/plain": [
              "      scaled fixed acidity\n",
              "0                 0.148760\n",
              "1                 0.413223\n",
              "2                 0.338843\n",
              "3                 0.264463\n",
              "4                 0.330579\n",
              "...                    ...\n",
              "5492              0.322314\n",
              "5493              0.206612\n",
              "5494              0.330579\n",
              "5495              0.231405\n",
              "5496              0.264463\n",
              "\n",
              "[5497 rows x 1 columns]"
            ]
          },
          "metadata": {},
          "execution_count": 78
        }
      ]
    },
    {
      "cell_type": "code",
      "source": [
        "# 스케일링 한 값으로 distplot 그려보기\n",
        "fig, axs = plt.subplots(figsize = (10, 5))\n",
        "sns.distplot(train['scaled fixed acidity'])"
      ],
      "metadata": {
        "colab": {
          "base_uri": "https://localhost:8080/",
          "height": 352
        },
        "id": "DmRRkiesXj7W",
        "outputId": "6fb78b65-3307-427a-d0e6-4167a5c37521"
      },
      "execution_count": null,
      "outputs": [
        {
          "output_type": "execute_result",
          "data": {
            "text/plain": [
              "<matplotlib.axes._subplots.AxesSubplot at 0x7efcfed05d10>"
            ]
          },
          "metadata": {},
          "execution_count": 82
        },
        {
          "output_type": "display_data",
          "data": {
            "image/png": "[encoded data removed]",
            "text/plain": [
              "<Figure size 720x360 with 1 Axes>"
            ]
          },
          "metadata": {}
        }
      ]
    },
    {
      "cell_type": "code",
      "source": [
        "# unique로 데이터의 고유값을 출력\n",
        "np.sort(train['scaled fixed acidity'].unique())"
      ],
      "metadata": {
        "colab": {
          "base_uri": "https://localhost:8080/"
        },
        "id": "NWObf1RQX7SS",
        "outputId": "74585bc9-1b2b-4e5d-ee4d-31ee29e86c6b"
      },
      "execution_count": null,
      "outputs": [
        {
          "output_type": "execute_result",
          "data": {
            "text/plain": [
              "array([0.        , 0.00826446, 0.03305785, 0.04958678, 0.05785124,\n",
              "       0.0661157 , 0.07438017, 0.08264463, 0.09090909, 0.09917355,\n",
              "       0.10743802, 0.11570248, 0.12396694, 0.1322314 , 0.14049587,\n",
              "       0.14876033, 0.15702479, 0.16528926, 0.17355372, 0.18181818,\n",
              "       0.19008264, 0.19421488, 0.19834711, 0.20661157, 0.21487603,\n",
              "       0.21900826, 0.2231405 , 0.23140496, 0.23966942, 0.24793388,\n",
              "       0.25619835, 0.26446281, 0.27272727, 0.2768595 , 0.28099174,\n",
              "       0.2892562 , 0.29752066, 0.30578512, 0.31404959, 0.32231405,\n",
              "       0.33057851, 0.33884298, 0.34710744, 0.3553719 , 0.36363636,\n",
              "       0.37190083, 0.38016529, 0.38842975, 0.39669421, 0.40495868,\n",
              "       0.41322314, 0.4214876 , 0.42975207, 0.43801653, 0.44628099,\n",
              "       0.45454545, 0.46280992, 0.47107438, 0.47933884, 0.48760331,\n",
              "       0.49586777, 0.50413223, 0.51239669, 0.52066116, 0.52892562,\n",
              "       0.53719008, 0.54545455, 0.55371901, 0.56198347, 0.57024793,\n",
              "       0.5785124 , 0.58677686, 0.59504132, 0.60330579, 0.61157025,\n",
              "       0.61983471, 0.62809917, 0.63636364, 0.6446281 , 0.65289256,\n",
              "       0.66115702, 0.66942149, 0.67768595, 0.68595041, 0.69421488,\n",
              "       0.70247934, 0.7107438 , 0.71900826, 0.72727273, 0.73553719,\n",
              "       0.74380165, 0.75206612, 0.76033058, 0.7768595 , 0.78512397,\n",
              "       0.79338843, 0.80165289, 0.81818182, 0.82644628, 0.84297521,\n",
              "       0.85950413, 0.8677686 , 0.92561983, 0.96694215, 0.97520661,\n",
              "       1.        ])"
            ]
          },
          "metadata": {},
          "execution_count": 89
        }
      ]
    },
    {
      "cell_type": "code",
      "source": [
        "np.sort(train['fixed acidity'].unique())"
      ],
      "metadata": {
        "colab": {
          "base_uri": "https://localhost:8080/"
        },
        "id": "itDfeSsyesB1",
        "outputId": "dd230a45-8ca3-41e0-a233-cfd897e3f710"
      },
      "execution_count": null,
      "outputs": [
        {
          "output_type": "execute_result",
          "data": {
            "text/plain": [
              "array([ 3.8 ,  3.9 ,  4.2 ,  4.4 ,  4.5 ,  4.6 ,  4.7 ,  4.8 ,  4.9 ,\n",
              "        5.  ,  5.1 ,  5.2 ,  5.3 ,  5.4 ,  5.5 ,  5.6 ,  5.7 ,  5.8 ,\n",
              "        5.9 ,  6.  ,  6.1 ,  6.15,  6.2 ,  6.3 ,  6.4 ,  6.45,  6.5 ,\n",
              "        6.6 ,  6.7 ,  6.8 ,  6.9 ,  7.  ,  7.1 ,  7.15,  7.2 ,  7.3 ,\n",
              "        7.4 ,  7.5 ,  7.6 ,  7.7 ,  7.8 ,  7.9 ,  8.  ,  8.1 ,  8.2 ,\n",
              "        8.3 ,  8.4 ,  8.5 ,  8.6 ,  8.7 ,  8.8 ,  8.9 ,  9.  ,  9.1 ,\n",
              "        9.2 ,  9.3 ,  9.4 ,  9.5 ,  9.6 ,  9.7 ,  9.8 ,  9.9 , 10.  ,\n",
              "       10.1 , 10.2 , 10.3 , 10.4 , 10.5 , 10.6 , 10.7 , 10.8 , 10.9 ,\n",
              "       11.  , 11.1 , 11.2 , 11.3 , 11.4 , 11.5 , 11.6 , 11.7 , 11.8 ,\n",
              "       11.9 , 12.  , 12.1 , 12.2 , 12.3 , 12.4 , 12.5 , 12.6 , 12.7 ,\n",
              "       12.8 , 12.9 , 13.  , 13.2 , 13.3 , 13.4 , 13.5 , 13.7 , 13.8 ,\n",
              "       14.  , 14.2 , 14.3 , 15.  , 15.5 , 15.6 , 15.9 ])"
            ]
          },
          "metadata": {},
          "execution_count": 90
        }
      ]
    },
    {
      "cell_type": "markdown",
      "source": [
        "### 파이썬 인코딩\n",
        "* 사이킷런 알고리즘은 문자열 값을 입력값으로 허용하지 않는다\n",
        "* 모든 문자열 값은 인코딩 되어 숫자 형으로 변환해야 한다."
      ],
      "metadata": {
        "id": "EMUnHnhs59qW"
      }
    },
    {
      "cell_type": "markdown",
      "metadata": {
        "id": "YUbm0qLEn1x7"
      },
      "source": [
        "#### 라벨 인코딩 (Label Encoding)\n",
        "* 카테코리 피쳐를 숫자 값으로 변환한다.\n",
        "* 숫자 값으로 변환 되었기 때문에 특정 알고리즘에서는 이를 가중치로 인식할 수 있다.\n",
        "* 트리 계열의 알고리즘을 사용할 때 주로 사용된다.\n"
      ]
    },
    {
      "cell_type": "code",
      "metadata": {
        "colab": {
          "base_uri": "https://localhost:8080/"
        },
        "id": "9MZTjAuEoz88",
        "outputId": "66eb27e4-7172-497a-b0ac-f5999bdd7703"
      },
      "source": [
        "from sklearn.preprocessing import LabelEncoder\n",
        "items=['TV', '냉장고', '전자레인지', '컴퓨터', '선풍기', '믹서', '믹서']\n",
        "encoder = LabelEncoder()\n",
        "encoder.fit(items)\n",
        "label = encoder.transform(items)\n",
        "label"
      ],
      "execution_count": null,
      "outputs": [
        {
          "output_type": "execute_result",
          "data": {
            "text/plain": [
              "array([0, 1, 4, 5, 3, 2, 2])"
            ]
          },
          "metadata": {},
          "execution_count": 1
        }
      ]
    },
    {
      "cell_type": "code",
      "metadata": {
        "colab": {
          "base_uri": "https://localhost:8080/"
        },
        "id": "BJIcSWA7pGqJ",
        "outputId": "a4000e5a-608e-4b91-eb0a-fdd7ac149679"
      },
      "source": [
        "# 데이터가 작아서 어떤 문자열값이 어떤 숫자값으로 인코딩됐는지 직관적으로 알 수 있지만\n",
        "# 데이터가 많은 경우에는 classes_ 를 이용해서 확인한다\n",
        "encoder.classes_\n",
        "\n",
        "# 처음부터 0, 1 , 2 ... 순서대로"
      ],
      "execution_count": null,
      "outputs": [
        {
          "output_type": "execute_result",
          "data": {
            "text/plain": [
              "array(['TV', '냉장고', '믹서', '선풍기', '전자레인지', '컴퓨터'], dtype='<U5')"
            ]
          },
          "metadata": {},
          "execution_count": 2
        }
      ]
    },
    {
      "cell_type": "code",
      "metadata": {
        "colab": {
          "base_uri": "https://localhost:8080/"
        },
        "id": "Zyg4HzpxpsRY",
        "outputId": "677f7781-ffe6-4d4c-beab-20370ed3999a"
      },
      "source": [
        "# inversee_transform 으로 숫자값이 어떤 문자열값이 었는지 확인할 수 있다\n",
        "print(encoder.inverse_transform([0, 1, 4, 5, 3, 2, 2]))\n",
        "print(items)"
      ],
      "execution_count": null,
      "outputs": [
        {
          "output_type": "stream",
          "name": "stdout",
          "text": [
            "['TV' '냉장고' '전자레인지' '컴퓨터' '선풍기' '믹서' '믹서']\n",
            "['TV', '냉장고', '전자레인지', '컴퓨터', '선풍기', '믹서', '믹서']\n"
          ]
        }
      ]
    },
    {
      "cell_type": "markdown",
      "metadata": {
        "id": "d8Fy2itXqaTs"
      },
      "source": [
        "#### 원핫 인코딩 (One-Hot Encoding)\n",
        "![image.png](data:image/png;base64,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)"
      ]
    },
    {
      "cell_type": "code",
      "metadata": {
        "colab": {
          "base_uri": "https://localhost:8080/"
        },
        "id": "RrhYi48Hq4QV",
        "outputId": "a45eca55-382f-49ab-e50c-f0a744f0b8d4"
      },
      "source": [
        "# 원핫 인코딩은 변환하기 전 모든 문자열 값이 숫자형 값이어야 한다\n",
        "# 원핫 인코딩은 입력값으로 2차원 데이터가 필요하다\n",
        "from sklearn.preprocessing import OneHotEncoder\n",
        "import numpy as np\n",
        "items=['TV', '냉장고', '전자레인지', '컴퓨터', '선풍기', '믹서', '믹서']\n",
        "\n",
        "# 숫자형 값으로 변환 (feat.라벨인코딩)\n",
        "encoder = LabelEncoder()\n",
        "encoder.fit(items)\n",
        "label = encoder.transform(items)\n",
        "\n",
        "# 2차원 데이터로 변환\n",
        "label = label.reshape(-1, 1)\n",
        "\n",
        "# 원핫인코딩\n",
        "encoder = OneHotEncoder()\n",
        "encoder.fit(label)\n",
        "label = encoder.transform(label)\n",
        "print(label.toarray())"
      ],
      "execution_count": null,
      "outputs": [
        {
          "output_type": "stream",
          "name": "stdout",
          "text": [
            "[[1. 0. 0. 0. 0. 0.]\n",
            " [0. 1. 0. 0. 0. 0.]\n",
            " [0. 0. 0. 0. 1. 0.]\n",
            " [0. 0. 0. 0. 0. 1.]\n",
            " [0. 0. 0. 1. 0. 0.]\n",
            " [0. 0. 1. 0. 0. 0.]\n",
            " [0. 0. 1. 0. 0. 0.]]\n"
          ]
        }
      ]
    },
    {
      "cell_type": "code",
      "metadata": {
        "colab": {
          "base_uri": "https://localhost:8080/",
          "height": 268
        },
        "id": "Vn2SQHsssxoe",
        "outputId": "35e70091-05dd-4f44-ab98-cff0b246577c"
      },
      "source": [
        "# 판다스에서 get_dummies()를 이용하면 더 쉽게 원핫인코딩이 가능하다\n",
        "import pandas as pd\n",
        "items = ['TV', '냉장고', '전자레인지', '컴퓨터', '선풍기', '믹서', '믹서']\n",
        "df = pd.DataFrame({'item':items})\n",
        "df"
      ],
      "execution_count": null,
      "outputs": [
        {
          "output_type": "execute_result",
          "data": {
            "text/html": [
              "<div>\n",
              "<style scoped>\n",
              "    .dataframe tbody tr th:only-of-type {\n",
              "        vertical-align: middle;\n",
              "    }\n",
              "\n",
              "    .dataframe tbody tr th {\n",
              "        vertical-align: top;\n",
              "    }\n",
              "\n",
              "    .dataframe thead th {\n",
              "        text-align: right;\n",
              "    }\n",
              "</style>\n",
              "<table border=\"1\" class=\"dataframe\">\n",
              "  <thead>\n",
              "    <tr style=\"text-align: right;\">\n",
              "      <th></th>\n",
              "      <th>item</th>\n",
              "    </tr>\n",
              "  </thead>\n",
              "  <tbody>\n",
              "    <tr>\n",
              "      <th>0</th>\n",
              "      <td>TV</td>\n",
              "    </tr>\n",
              "    <tr>\n",
              "      <th>1</th>\n",
              "      <td>냉장고</td>\n",
              "    </tr>\n",
              "    <tr>\n",
              "      <th>2</th>\n",
              "      <td>전자레인지</td>\n",
              "    </tr>\n",
              "    <tr>\n",
              "      <th>3</th>\n",
              "      <td>컴퓨터</td>\n",
              "    </tr>\n",
              "    <tr>\n",
              "      <th>4</th>\n",
              "      <td>선풍기</td>\n",
              "    </tr>\n",
              "    <tr>\n",
              "      <th>5</th>\n",
              "      <td>믹서</td>\n",
              "    </tr>\n",
              "    <tr>\n",
              "      <th>6</th>\n",
              "      <td>믹서</td>\n",
              "    </tr>\n",
              "  </tbody>\n",
              "</table>\n",
              "</div>"
            ],
            "text/plain": [
              "    item\n",
              "0     TV\n",
              "1    냉장고\n",
              "2  전자레인지\n",
              "3    컴퓨터\n",
              "4    선풍기\n",
              "5     믹서\n",
              "6     믹서"
            ]
          },
          "metadata": {},
          "execution_count": 14
        }
      ]
    },
    {
      "cell_type": "code",
      "metadata": {
        "colab": {
          "base_uri": "https://localhost:8080/",
          "height": 268
        },
        "id": "Z6VsCglqtEOf",
        "outputId": "aef7b208-49ca-407f-b8ed-b0b7c02a38f7"
      },
      "source": [
        "# get_dummies()\n",
        "pd.get_dummies(df)"
      ],
      "execution_count": null,
      "outputs": [
        {
          "output_type": "execute_result",
          "data": {
            "text/html": [
              "<div>\n",
              "<style scoped>\n",
              "    .dataframe tbody tr th:only-of-type {\n",
              "        vertical-align: middle;\n",
              "    }\n",
              "\n",
              "    .dataframe tbody tr th {\n",
              "        vertical-align: top;\n",
              "    }\n",
              "\n",
              "    .dataframe thead th {\n",
              "        text-align: right;\n",
              "    }\n",
              "</style>\n",
              "<table border=\"1\" class=\"dataframe\">\n",
              "  <thead>\n",
              "    <tr style=\"text-align: right;\">\n",
              "      <th></th>\n",
              "      <th>item_TV</th>\n",
              "      <th>item_냉장고</th>\n",
              "      <th>item_믹서</th>\n",
              "      <th>item_선풍기</th>\n",
              "      <th>item_전자레인지</th>\n",
              "      <th>item_컴퓨터</th>\n",
              "    </tr>\n",
              "  </thead>\n",
              "  <tbody>\n",
              "    <tr>\n",
              "      <th>0</th>\n",
              "      <td>1</td>\n",
              "      <td>0</td>\n",
              "      <td>0</td>\n",
              "      <td>0</td>\n",
              "      <td>0</td>\n",
              "      <td>0</td>\n",
              "    </tr>\n",
              "    <tr>\n",
              "      <th>1</th>\n",
              "      <td>0</td>\n",
              "      <td>1</td>\n",
              "      <td>0</td>\n",
              "      <td>0</td>\n",
              "      <td>0</td>\n",
              "      <td>0</td>\n",
              "    </tr>\n",
              "    <tr>\n",
              "      <th>2</th>\n",
              "      <td>0</td>\n",
              "      <td>0</td>\n",
              "      <td>0</td>\n",
              "      <td>0</td>\n",
              "      <td>1</td>\n",
              "      <td>0</td>\n",
              "    </tr>\n",
              "    <tr>\n",
              "      <th>3</th>\n",
              "      <td>0</td>\n",
              "      <td>0</td>\n",
              "      <td>0</td>\n",
              "      <td>0</td>\n",
              "      <td>0</td>\n",
              "      <td>1</td>\n",
              "    </tr>\n",
              "    <tr>\n",
              "      <th>4</th>\n",
              "      <td>0</td>\n",
              "      <td>0</td>\n",
              "      <td>0</td>\n",
              "      <td>1</td>\n",
              "      <td>0</td>\n",
              "      <td>0</td>\n",
              "    </tr>\n",
              "    <tr>\n",
              "      <th>5</th>\n",
              "      <td>0</td>\n",
              "      <td>0</td>\n",
              "      <td>1</td>\n",
              "      <td>0</td>\n",
              "      <td>0</td>\n",
              "      <td>0</td>\n",
              "    </tr>\n",
              "    <tr>\n",
              "      <th>6</th>\n",
              "      <td>0</td>\n",
              "      <td>0</td>\n",
              "      <td>1</td>\n",
              "      <td>0</td>\n",
              "      <td>0</td>\n",
              "      <td>0</td>\n",
              "    </tr>\n",
              "  </tbody>\n",
              "</table>\n",
              "</div>"
            ],
            "text/plain": [
              "   item_TV  item_냉장고  item_믹서  item_선풍기  item_전자레인지  item_컴퓨터\n",
              "0        1         0        0         0           0         0\n",
              "1        0         1        0         0           0         0\n",
              "2        0         0        0         0           1         0\n",
              "3        0         0        0         0           0         1\n",
              "4        0         0        0         1           0         0\n",
              "5        0         0        1         0           0         0\n",
              "6        0         0        1         0           0         0"
            ]
          },
          "metadata": {},
          "execution_count": 15
        }
      ]
    },
    {
      "cell_type": "markdown",
      "source": [
        "train.head()"
      ],
      "metadata": {
        "id": "8pjizK6c8MOO"
      }
    },
    {
      "cell_type": "markdown",
      "source": [
        "#### 데이콘 One-Hot encoding 실습\n",
        "* 와인이 레드인지 화이트인지 예측하는 문제\n",
        "* 타겟값인 type 컬럼의 데이터가 white, red로 되어있어서 숫자형으로 변환이 필요"
      ],
      "metadata": {
        "id": "WmFrydlM7HXH"
      }
    },
    {
      "cell_type": "code",
      "source": [
        "# 라이브러리 임포트\n",
        "from sklearn.preprocessing import OneHotEncoder\n",
        "encoder = OneHotEncoder()"
      ],
      "metadata": {
        "id": "jzDvocrt7OKj"
      },
      "execution_count": null,
      "outputs": []
    },
    {
      "cell_type": "code",
      "source": [
        "# 모델 훈련\n",
        "# 원핫인코딩은 2차원배열 필요\n",
        "encoder.fit(train[['type']])"
      ],
      "metadata": {
        "colab": {
          "base_uri": "https://localhost:8080/"
        },
        "id": "CQP4LyEP7f2n",
        "outputId": "7aff5f6b-f516-4b6e-d412-7acddc92a630"
      },
      "execution_count": null,
      "outputs": [
        {
          "output_type": "execute_result",
          "data": {
            "text/plain": [
              "OneHotEncoder()"
            ]
          },
          "metadata": {},
          "execution_count": 13
        }
      ]
    },
    {
      "cell_type": "code",
      "source": [
        "# 데이터 변환\n",
        "onehot = encoder.transform(train[['type']])"
      ],
      "metadata": {
        "id": "tEJI0oVw7ySX"
      },
      "execution_count": null,
      "outputs": []
    },
    {
      "cell_type": "code",
      "source": [
        "# \"onehot\"이라는 변수를 array 형태로 변환\n",
        "onehot = onehot.toarray()\n",
        "onehot"
      ],
      "metadata": {
        "colab": {
          "base_uri": "https://localhost:8080/"
        },
        "id": "2CCtxNjb74Ie",
        "outputId": "cedf5d3f-f58d-48d9-e17d-fb38a11c5efa"
      },
      "execution_count": null,
      "outputs": [
        {
          "output_type": "execute_result",
          "data": {
            "text/plain": [
              "array([[0., 1.],\n",
              "       [1., 0.],\n",
              "       [0., 1.],\n",
              "       ...,\n",
              "       [0., 1.],\n",
              "       [0., 1.],\n",
              "       [0., 1.]])"
            ]
          },
          "metadata": {},
          "execution_count": 18
        }
      ]
    },
    {
      "cell_type": "code",
      "source": [
        "# \"onehot\" 변수를 DataFrame 형태로 변환\n",
        "onehot = pd.DataFrame(onehot)\n",
        "onehot"
      ],
      "metadata": {
        "colab": {
          "base_uri": "https://localhost:8080/",
          "height": 423
        },
        "id": "_cohKD129EwD",
        "outputId": "e936efca-cf1e-4310-ff26-36e016b7d462"
      },
      "execution_count": null,
      "outputs": [
        {
          "output_type": "execute_result",
          "data": {
            "text/html": [
              "\n",
              "  <div id=\"df-052934ed-2aeb-4ea7-a26f-d82aa0e55e9c\">\n",
              "    <div class=\"colab-df-container\">\n",
              "      <div>\n",
              "<style scoped>\n",
              "    .dataframe tbody tr th:only-of-type {\n",
              "        vertical-align: middle;\n",
              "    }\n",
              "\n",
              "    .dataframe tbody tr th {\n",
              "        vertical-align: top;\n",
              "    }\n",
              "\n",
              "    .dataframe thead th {\n",
              "        text-align: right;\n",
              "    }\n",
              "</style>\n",
              "<table border=\"1\" class=\"dataframe\">\n",
              "  <thead>\n",
              "    <tr style=\"text-align: right;\">\n",
              "      <th></th>\n",
              "      <th>0</th>\n",
              "      <th>1</th>\n",
              "    </tr>\n",
              "  </thead>\n",
              "  <tbody>\n",
              "    <tr>\n",
              "      <th>0</th>\n",
              "      <td>0.0</td>\n",
              "      <td>1.0</td>\n",
              "    </tr>\n",
              "    <tr>\n",
              "      <th>1</th>\n",
              "      <td>1.0</td>\n",
              "      <td>0.0</td>\n",
              "    </tr>\n",
              "    <tr>\n",
              "      <th>2</th>\n",
              "      <td>0.0</td>\n",
              "      <td>1.0</td>\n",
              "    </tr>\n",
              "    <tr>\n",
              "      <th>3</th>\n",
              "      <td>0.0</td>\n",
              "      <td>1.0</td>\n",
              "    </tr>\n",
              "    <tr>\n",
              "      <th>4</th>\n",
              "      <td>0.0</td>\n",
              "      <td>1.0</td>\n",
              "    </tr>\n",
              "    <tr>\n",
              "      <th>...</th>\n",
              "      <td>...</td>\n",
              "      <td>...</td>\n",
              "    </tr>\n",
              "    <tr>\n",
              "      <th>5492</th>\n",
              "      <td>0.0</td>\n",
              "      <td>1.0</td>\n",
              "    </tr>\n",
              "    <tr>\n",
              "      <th>5493</th>\n",
              "      <td>0.0</td>\n",
              "      <td>1.0</td>\n",
              "    </tr>\n",
              "    <tr>\n",
              "      <th>5494</th>\n",
              "      <td>0.0</td>\n",
              "      <td>1.0</td>\n",
              "    </tr>\n",
              "    <tr>\n",
              "      <th>5495</th>\n",
              "      <td>0.0</td>\n",
              "      <td>1.0</td>\n",
              "    </tr>\n",
              "    <tr>\n",
              "      <th>5496</th>\n",
              "      <td>0.0</td>\n",
              "      <td>1.0</td>\n",
              "    </tr>\n",
              "  </tbody>\n",
              "</table>\n",
              "<p>5497 rows × 2 columns</p>\n",
              "</div>\n",
              "      <button class=\"colab-df-convert\" onclick=\"convertToInteractive('df-052934ed-2aeb-4ea7-a26f-d82aa0e55e9c')\"\n",
              "              title=\"Convert this dataframe to an interactive table.\"\n",
              "              style=\"display:none;\">\n",
              "        \n",
              "  <svg xmlns=\"http://www.w3.org/2000/svg\" height=\"24px\"viewBox=\"0 0 24 24\"\n",
              "       width=\"24px\">\n",
              "    <path d=\"M0 0h24v24H0V0z\" fill=\"none\"/>\n",
              "    <path d=\"M18.56 5.44l.94 2.06.94-2.06 2.06-.94-2.06-.94-.94-2.06-.94 2.06-2.06.94zm-11 1L8.5 8.5l.94-2.06 2.06-.94-2.06-.94L8.5 2.5l-.94 2.06-2.06.94zm10 10l.94 2.06.94-2.06 2.06-.94-2.06-.94-.94-2.06-.94 2.06-2.06.94z\"/><path d=\"M17.41 7.96l-1.37-1.37c-.4-.4-.92-.59-1.43-.59-.52 0-1.04.2-1.43.59L10.3 9.45l-7.72 7.72c-.78.78-.78 2.05 0 2.83L4 21.41c.39.39.9.59 1.41.59.51 0 1.02-.2 1.41-.59l7.78-7.78 2.81-2.81c.8-.78.8-2.07 0-2.86zM5.41 20L4 18.59l7.72-7.72 1.47 1.35L5.41 20z\"/>\n",
              "  </svg>\n",
              "      </button>\n",
              "      \n",
              "  <style>\n",
              "    .colab-df-container {\n",
              "      display:flex;\n",
              "      flex-wrap:wrap;\n",
              "      gap: 12px;\n",
              "    }\n",
              "\n",
              "    .colab-df-convert {\n",
              "      background-color: #E8F0FE;\n",
              "      border: none;\n",
              "      border-radius: 50%;\n",
              "      cursor: pointer;\n",
              "      display: none;\n",
              "      fill: #1967D2;\n",
              "      height: 32px;\n",
              "      padding: 0 0 0 0;\n",
              "      width: 32px;\n",
              "    }\n",
              "\n",
              "    .colab-df-convert:hover {\n",
              "      background-color: #E2EBFA;\n",
              "      box-shadow: 0px 1px 2px rgba(60, 64, 67, 0.3), 0px 1px 3px 1px rgba(60, 64, 67, 0.15);\n",
              "      fill: #174EA6;\n",
              "    }\n",
              "\n",
              "    [theme=dark] .colab-df-convert {\n",
              "      background-color: #3B4455;\n",
              "      fill: #D2E3FC;\n",
              "    }\n",
              "\n",
              "    [theme=dark] .colab-df-convert:hover {\n",
              "      background-color: #434B5C;\n",
              "      box-shadow: 0px 1px 3px 1px rgba(0, 0, 0, 0.15);\n",
              "      filter: drop-shadow(0px 1px 2px rgba(0, 0, 0, 0.3));\n",
              "      fill: #FFFFFF;\n",
              "    }\n",
              "  </style>\n",
              "\n",
              "      <script>\n",
              "        const buttonEl =\n",
              "          document.querySelector('#df-052934ed-2aeb-4ea7-a26f-d82aa0e55e9c button.colab-df-convert');\n",
              "        buttonEl.style.display =\n",
              "          google.colab.kernel.accessAllowed ? 'block' : 'none';\n",
              "\n",
              "        async function convertToInteractive(key) {\n",
              "          const element = document.querySelector('#df-052934ed-2aeb-4ea7-a26f-d82aa0e55e9c');\n",
              "          const dataTable =\n",
              "            await google.colab.kernel.invokeFunction('convertToInteractive',\n",
              "                                                     [key], {});\n",
              "          if (!dataTable) return;\n",
              "\n",
              "          const docLinkHtml = 'Like what you see? Visit the ' +\n",
              "            '<a target=\"_blank\" href=https://colab.research.google.com/notebooks/data_table.ipynb>data table notebook</a>'\n",
              "            + ' to learn more about interactive tables.';\n",
              "          element.innerHTML = '';\n",
              "          dataTable['output_type'] = 'display_data';\n",
              "          await google.colab.output.renderOutput(dataTable, element);\n",
              "          const docLink = document.createElement('div');\n",
              "          docLink.innerHTML = docLinkHtml;\n",
              "          element.appendChild(docLink);\n",
              "        }\n",
              "      </script>\n",
              "    </div>\n",
              "  </div>\n",
              "  "
            ],
            "text/plain": [
              "        0    1\n",
              "0     0.0  1.0\n",
              "1     1.0  0.0\n",
              "2     0.0  1.0\n",
              "3     0.0  1.0\n",
              "4     0.0  1.0\n",
              "...   ...  ...\n",
              "5492  0.0  1.0\n",
              "5493  0.0  1.0\n",
              "5494  0.0  1.0\n",
              "5495  0.0  1.0\n",
              "5496  0.0  1.0\n",
              "\n",
              "[5497 rows x 2 columns]"
            ]
          },
          "metadata": {},
          "execution_count": 20
        }
      ]
    },
    {
      "cell_type": "code",
      "source": [
        "# get_feature_names() // column 이름변경\n",
        "onehot.columns = encoder.get_feature_names([\"type\"])\n",
        "onehot"
      ],
      "metadata": {
        "colab": {
          "base_uri": "https://localhost:8080/",
          "height": 423
        },
        "id": "FlxS__AQ9PJg",
        "outputId": "b4809a35-d4ed-4f13-fc8d-627b7b872f2c"
      },
      "execution_count": null,
      "outputs": [
        {
          "output_type": "execute_result",
          "data": {
            "text/html": [
              "\n",
              "  <div id=\"df-6c8d803a-fd2a-4272-b746-14df2daf2591\">\n",
              "    <div class=\"colab-df-container\">\n",
              "      <div>\n",
              "<style scoped>\n",
              "    .dataframe tbody tr th:only-of-type {\n",
              "        vertical-align: middle;\n",
              "    }\n",
              "\n",
              "    .dataframe tbody tr th {\n",
              "        vertical-align: top;\n",
              "    }\n",
              "\n",
              "    .dataframe thead th {\n",
              "        text-align: right;\n",
              "    }\n",
              "</style>\n",
              "<table border=\"1\" class=\"dataframe\">\n",
              "  <thead>\n",
              "    <tr style=\"text-align: right;\">\n",
              "      <th></th>\n",
              "      <th>type_red</th>\n",
              "      <th>type_white</th>\n",
              "    </tr>\n",
              "  </thead>\n",
              "  <tbody>\n",
              "    <tr>\n",
              "      <th>0</th>\n",
              "      <td>0.0</td>\n",
              "      <td>1.0</td>\n",
              "    </tr>\n",
              "    <tr>\n",
              "      <th>1</th>\n",
              "      <td>1.0</td>\n",
              "      <td>0.0</td>\n",
              "    </tr>\n",
              "    <tr>\n",
              "      <th>2</th>\n",
              "      <td>0.0</td>\n",
              "      <td>1.0</td>\n",
              "    </tr>\n",
              "    <tr>\n",
              "      <th>3</th>\n",
              "      <td>0.0</td>\n",
              "      <td>1.0</td>\n",
              "    </tr>\n",
              "    <tr>\n",
              "      <th>4</th>\n",
              "      <td>0.0</td>\n",
              "      <td>1.0</td>\n",
              "    </tr>\n",
              "    <tr>\n",
              "      <th>...</th>\n",
              "      <td>...</td>\n",
              "      <td>...</td>\n",
              "    </tr>\n",
              "    <tr>\n",
              "      <th>5492</th>\n",
              "      <td>0.0</td>\n",
              "      <td>1.0</td>\n",
              "    </tr>\n",
              "    <tr>\n",
              "      <th>5493</th>\n",
              "      <td>0.0</td>\n",
              "      <td>1.0</td>\n",
              "    </tr>\n",
              "    <tr>\n",
              "      <th>5494</th>\n",
              "      <td>0.0</td>\n",
              "      <td>1.0</td>\n",
              "    </tr>\n",
              "    <tr>\n",
              "      <th>5495</th>\n",
              "      <td>0.0</td>\n",
              "      <td>1.0</td>\n",
              "    </tr>\n",
              "    <tr>\n",
              "      <th>5496</th>\n",
              "      <td>0.0</td>\n",
              "      <td>1.0</td>\n",
              "    </tr>\n",
              "  </tbody>\n",
              "</table>\n",
              "<p>5497 rows × 2 columns</p>\n",
              "</div>\n",
              "      <button class=\"colab-df-convert\" onclick=\"convertToInteractive('df-6c8d803a-fd2a-4272-b746-14df2daf2591')\"\n",
              "              title=\"Convert this dataframe to an interactive table.\"\n",
              "              style=\"display:none;\">\n",
              "        \n",
              "  <svg xmlns=\"http://www.w3.org/2000/svg\" height=\"24px\"viewBox=\"0 0 24 24\"\n",
              "       width=\"24px\">\n",
              "    <path d=\"M0 0h24v24H0V0z\" fill=\"none\"/>\n",
              "    <path d=\"M18.56 5.44l.94 2.06.94-2.06 2.06-.94-2.06-.94-.94-2.06-.94 2.06-2.06.94zm-11 1L8.5 8.5l.94-2.06 2.06-.94-2.06-.94L8.5 2.5l-.94 2.06-2.06.94zm10 10l.94 2.06.94-2.06 2.06-.94-2.06-.94-.94-2.06-.94 2.06-2.06.94z\"/><path d=\"M17.41 7.96l-1.37-1.37c-.4-.4-.92-.59-1.43-.59-.52 0-1.04.2-1.43.59L10.3 9.45l-7.72 7.72c-.78.78-.78 2.05 0 2.83L4 21.41c.39.39.9.59 1.41.59.51 0 1.02-.2 1.41-.59l7.78-7.78 2.81-2.81c.8-.78.8-2.07 0-2.86zM5.41 20L4 18.59l7.72-7.72 1.47 1.35L5.41 20z\"/>\n",
              "  </svg>\n",
              "      </button>\n",
              "      \n",
              "  <style>\n",
              "    .colab-df-container {\n",
              "      display:flex;\n",
              "      flex-wrap:wrap;\n",
              "      gap: 12px;\n",
              "    }\n",
              "\n",
              "    .colab-df-convert {\n",
              "      background-color: #E8F0FE;\n",
              "      border: none;\n",
              "      border-radius: 50%;\n",
              "      cursor: pointer;\n",
              "      display: none;\n",
              "      fill: #1967D2;\n",
              "      height: 32px;\n",
              "      padding: 0 0 0 0;\n",
              "      width: 32px;\n",
              "    }\n",
              "\n",
              "    .colab-df-convert:hover {\n",
              "      background-color: #E2EBFA;\n",
              "      box-shadow: 0px 1px 2px rgba(60, 64, 67, 0.3), 0px 1px 3px 1px rgba(60, 64, 67, 0.15);\n",
              "      fill: #174EA6;\n",
              "    }\n",
              "\n",
              "    [theme=dark] .colab-df-convert {\n",
              "      background-color: #3B4455;\n",
              "      fill: #D2E3FC;\n",
              "    }\n",
              "\n",
              "    [theme=dark] .colab-df-convert:hover {\n",
              "      background-color: #434B5C;\n",
              "      box-shadow: 0px 1px 3px 1px rgba(0, 0, 0, 0.15);\n",
              "      filter: drop-shadow(0px 1px 2px rgba(0, 0, 0, 0.3));\n",
              "      fill: #FFFFFF;\n",
              "    }\n",
              "  </style>\n",
              "\n",
              "      <script>\n",
              "        const buttonEl =\n",
              "          document.querySelector('#df-6c8d803a-fd2a-4272-b746-14df2daf2591 button.colab-df-convert');\n",
              "        buttonEl.style.display =\n",
              "          google.colab.kernel.accessAllowed ? 'block' : 'none';\n",
              "\n",
              "        async function convertToInteractive(key) {\n",
              "          const element = document.querySelector('#df-6c8d803a-fd2a-4272-b746-14df2daf2591');\n",
              "          const dataTable =\n",
              "            await google.colab.kernel.invokeFunction('convertToInteractive',\n",
              "                                                     [key], {});\n",
              "          if (!dataTable) return;\n",
              "\n",
              "          const docLinkHtml = 'Like what you see? Visit the ' +\n",
              "            '<a target=\"_blank\" href=https://colab.research.google.com/notebooks/data_table.ipynb>data table notebook</a>'\n",
              "            + ' to learn more about interactive tables.';\n",
              "          element.innerHTML = '';\n",
              "          dataTable['output_type'] = 'display_data';\n",
              "          await google.colab.output.renderOutput(dataTable, element);\n",
              "          const docLink = document.createElement('div');\n",
              "          docLink.innerHTML = docLinkHtml;\n",
              "          element.appendChild(docLink);\n",
              "        }\n",
              "      </script>\n",
              "    </div>\n",
              "  </div>\n",
              "  "
            ],
            "text/plain": [
              "      type_red  type_white\n",
              "0          0.0         1.0\n",
              "1          1.0         0.0\n",
              "2          0.0         1.0\n",
              "3          0.0         1.0\n",
              "4          0.0         1.0\n",
              "...        ...         ...\n",
              "5492       0.0         1.0\n",
              "5493       0.0         1.0\n",
              "5494       0.0         1.0\n",
              "5495       0.0         1.0\n",
              "5496       0.0         1.0\n",
              "\n",
              "[5497 rows x 2 columns]"
            ]
          },
          "metadata": {},
          "execution_count": 27
        }
      ]
    },
    {
      "cell_type": "code",
      "source": [
        "# 원본데이터와 결합 // pd.concat\n",
        "train = pd.concat([train, onehot], axis = 1)\n",
        "train.head().T"
      ],
      "metadata": {
        "colab": {
          "base_uri": "https://localhost:8080/",
          "height": 551
        },
        "id": "Dsuw7I2j-CPQ",
        "outputId": "09262a91-e5ca-4f12-84e3-b00fef7d5c05"
      },
      "execution_count": null,
      "outputs": [
        {
          "output_type": "execute_result",
          "data": {
            "text/html": [
              "\n",
              "  <div id=\"df-9682f75b-f0c4-4b5b-b1b8-823a7bef198a\">\n",
              "    <div class=\"colab-df-container\">\n",
              "      <div>\n",
              "<style scoped>\n",
              "    .dataframe tbody tr th:only-of-type {\n",
              "        vertical-align: middle;\n",
              "    }\n",
              "\n",
              "    .dataframe tbody tr th {\n",
              "        vertical-align: top;\n",
              "    }\n",
              "\n",
              "    .dataframe thead th {\n",
              "        text-align: right;\n",
              "    }\n",
              "</style>\n",
              "<table border=\"1\" class=\"dataframe\">\n",
              "  <thead>\n",
              "    <tr style=\"text-align: right;\">\n",
              "      <th></th>\n",
              "      <th>0</th>\n",
              "      <th>1</th>\n",
              "      <th>2</th>\n",
              "      <th>3</th>\n",
              "      <th>4</th>\n",
              "    </tr>\n",
              "  </thead>\n",
              "  <tbody>\n",
              "    <tr>\n",
              "      <th>index</th>\n",
              "      <td>0</td>\n",
              "      <td>1</td>\n",
              "      <td>2</td>\n",
              "      <td>3</td>\n",
              "      <td>4</td>\n",
              "    </tr>\n",
              "    <tr>\n",
              "      <th>quality</th>\n",
              "      <td>5</td>\n",
              "      <td>5</td>\n",
              "      <td>5</td>\n",
              "      <td>6</td>\n",
              "      <td>6</td>\n",
              "    </tr>\n",
              "    <tr>\n",
              "      <th>fixed acidity</th>\n",
              "      <td>5.6</td>\n",
              "      <td>8.8</td>\n",
              "      <td>7.9</td>\n",
              "      <td>7</td>\n",
              "      <td>7.8</td>\n",
              "    </tr>\n",
              "    <tr>\n",
              "      <th>volatile acidity</th>\n",
              "      <td>0.695</td>\n",
              "      <td>0.61</td>\n",
              "      <td>0.21</td>\n",
              "      <td>0.21</td>\n",
              "      <td>0.4</td>\n",
              "    </tr>\n",
              "    <tr>\n",
              "      <th>citric acid</th>\n",
              "      <td>0.06</td>\n",
              "      <td>0.14</td>\n",
              "      <td>0.39</td>\n",
              "      <td>0.31</td>\n",
              "      <td>0.26</td>\n",
              "    </tr>\n",
              "    <tr>\n",
              "      <th>residual sugar</th>\n",
              "      <td>6.8</td>\n",
              "      <td>2.4</td>\n",
              "      <td>2</td>\n",
              "      <td>6</td>\n",
              "      <td>9.5</td>\n",
              "    </tr>\n",
              "    <tr>\n",
              "      <th>chlorides</th>\n",
              "      <td>0.042</td>\n",
              "      <td>0.067</td>\n",
              "      <td>0.057</td>\n",
              "      <td>0.046</td>\n",
              "      <td>0.059</td>\n",
              "    </tr>\n",
              "    <tr>\n",
              "      <th>free sulfur dioxide</th>\n",
              "      <td>9</td>\n",
              "      <td>10</td>\n",
              "      <td>21</td>\n",
              "      <td>29</td>\n",
              "      <td>32</td>\n",
              "    </tr>\n",
              "    <tr>\n",
              "      <th>total sulfur dioxide</th>\n",
              "      <td>84</td>\n",
              "      <td>42</td>\n",
              "      <td>138</td>\n",
              "      <td>108</td>\n",
              "      <td>178</td>\n",
              "    </tr>\n",
              "    <tr>\n",
              "      <th>density</th>\n",
              "      <td>0.99432</td>\n",
              "      <td>0.9969</td>\n",
              "      <td>0.99176</td>\n",
              "      <td>0.9939</td>\n",
              "      <td>0.9955</td>\n",
              "    </tr>\n",
              "    <tr>\n",
              "      <th>pH</th>\n",
              "      <td>3.44</td>\n",
              "      <td>3.19</td>\n",
              "      <td>3.05</td>\n",
              "      <td>3.26</td>\n",
              "      <td>3.04</td>\n",
              "    </tr>\n",
              "    <tr>\n",
              "      <th>sulphates</th>\n",
              "      <td>0.44</td>\n",
              "      <td>0.59</td>\n",
              "      <td>0.52</td>\n",
              "      <td>0.5</td>\n",
              "      <td>0.43</td>\n",
              "    </tr>\n",
              "    <tr>\n",
              "      <th>alcohol</th>\n",
              "      <td>10.2</td>\n",
              "      <td>9.5</td>\n",
              "      <td>10.9</td>\n",
              "      <td>10.8</td>\n",
              "      <td>10.9</td>\n",
              "    </tr>\n",
              "    <tr>\n",
              "      <th>type</th>\n",
              "      <td>white</td>\n",
              "      <td>red</td>\n",
              "      <td>white</td>\n",
              "      <td>white</td>\n",
              "      <td>white</td>\n",
              "    </tr>\n",
              "    <tr>\n",
              "      <th>type_red</th>\n",
              "      <td>0</td>\n",
              "      <td>1</td>\n",
              "      <td>0</td>\n",
              "      <td>0</td>\n",
              "      <td>0</td>\n",
              "    </tr>\n",
              "    <tr>\n",
              "      <th>type_white</th>\n",
              "      <td>1</td>\n",
              "      <td>0</td>\n",
              "      <td>1</td>\n",
              "      <td>1</td>\n",
              "      <td>1</td>\n",
              "    </tr>\n",
              "  </tbody>\n",
              "</table>\n",
              "</div>\n",
              "      <button class=\"colab-df-convert\" onclick=\"convertToInteractive('df-9682f75b-f0c4-4b5b-b1b8-823a7bef198a')\"\n",
              "              title=\"Convert this dataframe to an interactive table.\"\n",
              "              style=\"display:none;\">\n",
              "        \n",
              "  <svg xmlns=\"http://www.w3.org/2000/svg\" height=\"24px\"viewBox=\"0 0 24 24\"\n",
              "       width=\"24px\">\n",
              "    <path d=\"M0 0h24v24H0V0z\" fill=\"none\"/>\n",
              "    <path d=\"M18.56 5.44l.94 2.06.94-2.06 2.06-.94-2.06-.94-.94-2.06-.94 2.06-2.06.94zm-11 1L8.5 8.5l.94-2.06 2.06-.94-2.06-.94L8.5 2.5l-.94 2.06-2.06.94zm10 10l.94 2.06.94-2.06 2.06-.94-2.06-.94-.94-2.06-.94 2.06-2.06.94z\"/><path d=\"M17.41 7.96l-1.37-1.37c-.4-.4-.92-.59-1.43-.59-.52 0-1.04.2-1.43.59L10.3 9.45l-7.72 7.72c-.78.78-.78 2.05 0 2.83L4 21.41c.39.39.9.59 1.41.59.51 0 1.02-.2 1.41-.59l7.78-7.78 2.81-2.81c.8-.78.8-2.07 0-2.86zM5.41 20L4 18.59l7.72-7.72 1.47 1.35L5.41 20z\"/>\n",
              "  </svg>\n",
              "      </button>\n",
              "      \n",
              "  <style>\n",
              "    .colab-df-container {\n",
              "      display:flex;\n",
              "      flex-wrap:wrap;\n",
              "      gap: 12px;\n",
              "    }\n",
              "\n",
              "    .colab-df-convert {\n",
              "      background-color: #E8F0FE;\n",
              "      border: none;\n",
              "      border-radius: 50%;\n",
              "      cursor: pointer;\n",
              "      display: none;\n",
              "      fill: #1967D2;\n",
              "      height: 32px;\n",
              "      padding: 0 0 0 0;\n",
              "      width: 32px;\n",
              "    }\n",
              "\n",
              "    .colab-df-convert:hover {\n",
              "      background-color: #E2EBFA;\n",
              "      box-shadow: 0px 1px 2px rgba(60, 64, 67, 0.3), 0px 1px 3px 1px rgba(60, 64, 67, 0.15);\n",
              "      fill: #174EA6;\n",
              "    }\n",
              "\n",
              "    [theme=dark] .colab-df-convert {\n",
              "      background-color: #3B4455;\n",
              "      fill: #D2E3FC;\n",
              "    }\n",
              "\n",
              "    [theme=dark] .colab-df-convert:hover {\n",
              "      background-color: #434B5C;\n",
              "      box-shadow: 0px 1px 3px 1px rgba(0, 0, 0, 0.15);\n",
              "      filter: drop-shadow(0px 1px 2px rgba(0, 0, 0, 0.3));\n",
              "      fill: #FFFFFF;\n",
              "    }\n",
              "  </style>\n",
              "\n",
              "      <script>\n",
              "        const buttonEl =\n",
              "          document.querySelector('#df-9682f75b-f0c4-4b5b-b1b8-823a7bef198a button.colab-df-convert');\n",
              "        buttonEl.style.display =\n",
              "          google.colab.kernel.accessAllowed ? 'block' : 'none';\n",
              "\n",
              "        async function convertToInteractive(key) {\n",
              "          const element = document.querySelector('#df-9682f75b-f0c4-4b5b-b1b8-823a7bef198a');\n",
              "          const dataTable =\n",
              "            await google.colab.kernel.invokeFunction('convertToInteractive',\n",
              "                                                     [key], {});\n",
              "          if (!dataTable) return;\n",
              "\n",
              "          const docLinkHtml = 'Like what you see? Visit the ' +\n",
              "            '<a target=\"_blank\" href=https://colab.research.google.com/notebooks/data_table.ipynb>data table notebook</a>'\n",
              "            + ' to learn more about interactive tables.';\n",
              "          element.innerHTML = '';\n",
              "          dataTable['output_type'] = 'display_data';\n",
              "          await google.colab.output.renderOutput(dataTable, element);\n",
              "          const docLink = document.createElement('div');\n",
              "          docLink.innerHTML = docLinkHtml;\n",
              "          element.appendChild(docLink);\n",
              "        }\n",
              "      </script>\n",
              "    </div>\n",
              "  </div>\n",
              "  "
            ],
            "text/plain": [
              "                            0       1        2       3       4\n",
              "index                       0       1        2       3       4\n",
              "quality                     5       5        5       6       6\n",
              "fixed acidity             5.6     8.8      7.9       7     7.8\n",
              "volatile acidity        0.695    0.61     0.21    0.21     0.4\n",
              "citric acid              0.06    0.14     0.39    0.31    0.26\n",
              "residual sugar            6.8     2.4        2       6     9.5\n",
              "chlorides               0.042   0.067    0.057   0.046   0.059\n",
              "free sulfur dioxide         9      10       21      29      32\n",
              "total sulfur dioxide       84      42      138     108     178\n",
              "density               0.99432  0.9969  0.99176  0.9939  0.9955\n",
              "pH                       3.44    3.19     3.05    3.26    3.04\n",
              "sulphates                0.44    0.59     0.52     0.5    0.43\n",
              "alcohol                  10.2     9.5     10.9    10.8    10.9\n",
              "type                    white     red    white   white   white\n",
              "type_red                    0       1        0       0       0\n",
              "type_white                  1       0        1       1       1"
            ]
          },
          "metadata": {},
          "execution_count": 35
        }
      ]
    },
    {
      "cell_type": "code",
      "source": [
        "# type 컬럼 제거\n",
        "train = train.drop('type', axis = 1)\n",
        "train.head().T"
      ],
      "metadata": {
        "colab": {
          "base_uri": "https://localhost:8080/",
          "height": 520
        },
        "id": "vXBKqXiP-XqD",
        "outputId": "4ffa4481-e245-4561-e5bd-64acad55f24b"
      },
      "execution_count": null,
      "outputs": [
        {
          "output_type": "execute_result",
          "data": {
            "text/html": [
              "\n",
              "  <div id=\"df-f4277362-f6d7-43fe-b7e1-464bc2f2f3fc\">\n",
              "    <div class=\"colab-df-container\">\n",
              "      <div>\n",
              "<style scoped>\n",
              "    .dataframe tbody tr th:only-of-type {\n",
              "        vertical-align: middle;\n",
              "    }\n",
              "\n",
              "    .dataframe tbody tr th {\n",
              "        vertical-align: top;\n",
              "    }\n",
              "\n",
              "    .dataframe thead th {\n",
              "        text-align: right;\n",
              "    }\n",
              "</style>\n",
              "<table border=\"1\" class=\"dataframe\">\n",
              "  <thead>\n",
              "    <tr style=\"text-align: right;\">\n",
              "      <th></th>\n",
              "      <th>0</th>\n",
              "      <th>1</th>\n",
              "      <th>2</th>\n",
              "      <th>3</th>\n",
              "      <th>4</th>\n",
              "    </tr>\n",
              "  </thead>\n",
              "  <tbody>\n",
              "    <tr>\n",
              "      <th>index</th>\n",
              "      <td>0.00000</td>\n",
              "      <td>1.0000</td>\n",
              "      <td>2.00000</td>\n",
              "      <td>3.0000</td>\n",
              "      <td>4.0000</td>\n",
              "    </tr>\n",
              "    <tr>\n",
              "      <th>quality</th>\n",
              "      <td>5.00000</td>\n",
              "      <td>5.0000</td>\n",
              "      <td>5.00000</td>\n",
              "      <td>6.0000</td>\n",
              "      <td>6.0000</td>\n",
              "    </tr>\n",
              "    <tr>\n",
              "      <th>fixed acidity</th>\n",
              "      <td>5.60000</td>\n",
              "      <td>8.8000</td>\n",
              "      <td>7.90000</td>\n",
              "      <td>7.0000</td>\n",
              "      <td>7.8000</td>\n",
              "    </tr>\n",
              "    <tr>\n",
              "      <th>volatile acidity</th>\n",
              "      <td>0.69500</td>\n",
              "      <td>0.6100</td>\n",
              "      <td>0.21000</td>\n",
              "      <td>0.2100</td>\n",
              "      <td>0.4000</td>\n",
              "    </tr>\n",
              "    <tr>\n",
              "      <th>citric acid</th>\n",
              "      <td>0.06000</td>\n",
              "      <td>0.1400</td>\n",
              "      <td>0.39000</td>\n",
              "      <td>0.3100</td>\n",
              "      <td>0.2600</td>\n",
              "    </tr>\n",
              "    <tr>\n",
              "      <th>residual sugar</th>\n",
              "      <td>6.80000</td>\n",
              "      <td>2.4000</td>\n",
              "      <td>2.00000</td>\n",
              "      <td>6.0000</td>\n",
              "      <td>9.5000</td>\n",
              "    </tr>\n",
              "    <tr>\n",
              "      <th>chlorides</th>\n",
              "      <td>0.04200</td>\n",
              "      <td>0.0670</td>\n",
              "      <td>0.05700</td>\n",
              "      <td>0.0460</td>\n",
              "      <td>0.0590</td>\n",
              "    </tr>\n",
              "    <tr>\n",
              "      <th>free sulfur dioxide</th>\n",
              "      <td>9.00000</td>\n",
              "      <td>10.0000</td>\n",
              "      <td>21.00000</td>\n",
              "      <td>29.0000</td>\n",
              "      <td>32.0000</td>\n",
              "    </tr>\n",
              "    <tr>\n",
              "      <th>total sulfur dioxide</th>\n",
              "      <td>84.00000</td>\n",
              "      <td>42.0000</td>\n",
              "      <td>138.00000</td>\n",
              "      <td>108.0000</td>\n",
              "      <td>178.0000</td>\n",
              "    </tr>\n",
              "    <tr>\n",
              "      <th>density</th>\n",
              "      <td>0.99432</td>\n",
              "      <td>0.9969</td>\n",
              "      <td>0.99176</td>\n",
              "      <td>0.9939</td>\n",
              "      <td>0.9955</td>\n",
              "    </tr>\n",
              "    <tr>\n",
              "      <th>pH</th>\n",
              "      <td>3.44000</td>\n",
              "      <td>3.1900</td>\n",
              "      <td>3.05000</td>\n",
              "      <td>3.2600</td>\n",
              "      <td>3.0400</td>\n",
              "    </tr>\n",
              "    <tr>\n",
              "      <th>sulphates</th>\n",
              "      <td>0.44000</td>\n",
              "      <td>0.5900</td>\n",
              "      <td>0.52000</td>\n",
              "      <td>0.5000</td>\n",
              "      <td>0.4300</td>\n",
              "    </tr>\n",
              "    <tr>\n",
              "      <th>alcohol</th>\n",
              "      <td>10.20000</td>\n",
              "      <td>9.5000</td>\n",
              "      <td>10.90000</td>\n",
              "      <td>10.8000</td>\n",
              "      <td>10.9000</td>\n",
              "    </tr>\n",
              "    <tr>\n",
              "      <th>type_red</th>\n",
              "      <td>0.00000</td>\n",
              "      <td>1.0000</td>\n",
              "      <td>0.00000</td>\n",
              "      <td>0.0000</td>\n",
              "      <td>0.0000</td>\n",
              "    </tr>\n",
              "    <tr>\n",
              "      <th>type_white</th>\n",
              "      <td>1.00000</td>\n",
              "      <td>0.0000</td>\n",
              "      <td>1.00000</td>\n",
              "      <td>1.0000</td>\n",
              "      <td>1.0000</td>\n",
              "    </tr>\n",
              "  </tbody>\n",
              "</table>\n",
              "</div>\n",
              "      <button class=\"colab-df-convert\" onclick=\"convertToInteractive('df-f4277362-f6d7-43fe-b7e1-464bc2f2f3fc')\"\n",
              "              title=\"Convert this dataframe to an interactive table.\"\n",
              "              style=\"display:none;\">\n",
              "        \n",
              "  <svg xmlns=\"http://www.w3.org/2000/svg\" height=\"24px\"viewBox=\"0 0 24 24\"\n",
              "       width=\"24px\">\n",
              "    <path d=\"M0 0h24v24H0V0z\" fill=\"none\"/>\n",
              "    <path d=\"M18.56 5.44l.94 2.06.94-2.06 2.06-.94-2.06-.94-.94-2.06-.94 2.06-2.06.94zm-11 1L8.5 8.5l.94-2.06 2.06-.94-2.06-.94L8.5 2.5l-.94 2.06-2.06.94zm10 10l.94 2.06.94-2.06 2.06-.94-2.06-.94-.94-2.06-.94 2.06-2.06.94z\"/><path d=\"M17.41 7.96l-1.37-1.37c-.4-.4-.92-.59-1.43-.59-.52 0-1.04.2-1.43.59L10.3 9.45l-7.72 7.72c-.78.78-.78 2.05 0 2.83L4 21.41c.39.39.9.59 1.41.59.51 0 1.02-.2 1.41-.59l7.78-7.78 2.81-2.81c.8-.78.8-2.07 0-2.86zM5.41 20L4 18.59l7.72-7.72 1.47 1.35L5.41 20z\"/>\n",
              "  </svg>\n",
              "      </button>\n",
              "      \n",
              "  <style>\n",
              "    .colab-df-container {\n",
              "      display:flex;\n",
              "      flex-wrap:wrap;\n",
              "      gap: 12px;\n",
              "    }\n",
              "\n",
              "    .colab-df-convert {\n",
              "      background-color: #E8F0FE;\n",
              "      border: none;\n",
              "      border-radius: 50%;\n",
              "      cursor: pointer;\n",
              "      display: none;\n",
              "      fill: #1967D2;\n",
              "      height: 32px;\n",
              "      padding: 0 0 0 0;\n",
              "      width: 32px;\n",
              "    }\n",
              "\n",
              "    .colab-df-convert:hover {\n",
              "      background-color: #E2EBFA;\n",
              "      box-shadow: 0px 1px 2px rgba(60, 64, 67, 0.3), 0px 1px 3px 1px rgba(60, 64, 67, 0.15);\n",
              "      fill: #174EA6;\n",
              "    }\n",
              "\n",
              "    [theme=dark] .colab-df-convert {\n",
              "      background-color: #3B4455;\n",
              "      fill: #D2E3FC;\n",
              "    }\n",
              "\n",
              "    [theme=dark] .colab-df-convert:hover {\n",
              "      background-color: #434B5C;\n",
              "      box-shadow: 0px 1px 3px 1px rgba(0, 0, 0, 0.15);\n",
              "      filter: drop-shadow(0px 1px 2px rgba(0, 0, 0, 0.3));\n",
              "      fill: #FFFFFF;\n",
              "    }\n",
              "  </style>\n",
              "\n",
              "      <script>\n",
              "        const buttonEl =\n",
              "          document.querySelector('#df-f4277362-f6d7-43fe-b7e1-464bc2f2f3fc button.colab-df-convert');\n",
              "        buttonEl.style.display =\n",
              "          google.colab.kernel.accessAllowed ? 'block' : 'none';\n",
              "\n",
              "        async function convertToInteractive(key) {\n",
              "          const element = document.querySelector('#df-f4277362-f6d7-43fe-b7e1-464bc2f2f3fc');\n",
              "          const dataTable =\n",
              "            await google.colab.kernel.invokeFunction('convertToInteractive',\n",
              "                                                     [key], {});\n",
              "          if (!dataTable) return;\n",
              "\n",
              "          const docLinkHtml = 'Like what you see? Visit the ' +\n",
              "            '<a target=\"_blank\" href=https://colab.research.google.com/notebooks/data_table.ipynb>data table notebook</a>'\n",
              "            + ' to learn more about interactive tables.';\n",
              "          element.innerHTML = '';\n",
              "          dataTable['output_type'] = 'display_data';\n",
              "          await google.colab.output.renderOutput(dataTable, element);\n",
              "          const docLink = document.createElement('div');\n",
              "          docLink.innerHTML = docLinkHtml;\n",
              "          element.appendChild(docLink);\n",
              "        }\n",
              "      </script>\n",
              "    </div>\n",
              "  </div>\n",
              "  "
            ],
            "text/plain": [
              "                             0        1          2         3         4\n",
              "index                  0.00000   1.0000    2.00000    3.0000    4.0000\n",
              "quality                5.00000   5.0000    5.00000    6.0000    6.0000\n",
              "fixed acidity          5.60000   8.8000    7.90000    7.0000    7.8000\n",
              "volatile acidity       0.69500   0.6100    0.21000    0.2100    0.4000\n",
              "citric acid            0.06000   0.1400    0.39000    0.3100    0.2600\n",
              "residual sugar         6.80000   2.4000    2.00000    6.0000    9.5000\n",
              "chlorides              0.04200   0.0670    0.05700    0.0460    0.0590\n",
              "free sulfur dioxide    9.00000  10.0000   21.00000   29.0000   32.0000\n",
              "total sulfur dioxide  84.00000  42.0000  138.00000  108.0000  178.0000\n",
              "density                0.99432   0.9969    0.99176    0.9939    0.9955\n",
              "pH                     3.44000   3.1900    3.05000    3.2600    3.0400\n",
              "sulphates              0.44000   0.5900    0.52000    0.5000    0.4300\n",
              "alcohol               10.20000   9.5000   10.90000   10.8000   10.9000\n",
              "type_red               0.00000   1.0000    0.00000    0.0000    0.0000\n",
              "type_white             1.00000   0.0000    1.00000    1.0000    1.0000"
            ]
          },
          "metadata": {},
          "execution_count": 36
        }
      ]
    },
    {
      "cell_type": "markdown",
      "source": [
        "## 모델링"
      ],
      "metadata": {
        "id": "sdWZm_za-uuk"
      }
    },
    {
      "cell_type": "markdown",
      "source": [
        "### 분류 모형 vs 회귀 모형\n",
        "1. 분류모형 //  Classifier // 어떤 그룹에 속할지를 예측하는 모형\n",
        "2. 회귀모형 //  Regressor // 집값, 주가, 시가 등등 특정한 값을 맞추는 모형\n",
        "\n",
        "* 와인이 레드와인인지 화이트와인인지 구분하는 분류문제"
      ],
      "metadata": {
        "id": "IN3Q6P2j-0KD"
      }
    },
    {
      "cell_type": "markdown",
      "source": [
        "### 교차검증 // CrossValidation\n",
        "* 단순하게 train, test로 분할하면 20% 정도의 데이터는 모델이 학습할 기회도 없이 버려지게됨\n",
        "* 모든 데이터를 최소한 한 번씩 다 학습하게 하자!\n"
      ],
      "metadata": {
        "id": "AhLM5gZL_6UY"
      }
    },
    {
      "cell_type": "markdown",
      "source": [
        "![image.png](data:image/png;base64,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)"
      ],
      "metadata": {
        "id": "dPyQDAiiBF_X"
      }
    },
    {
      "cell_type": "markdown",
      "source": [
        "![image.png](data:image/png;base64,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)"
      ],
      "metadata": {
        "id": "jmtrbjIlAxqk"
      }
    },
    {
      "cell_type": "code",
      "source": [
        "from sklearn.preprocessing import LabelEncoder\n",
        "encoder = LabelEncoder()\n",
        "encoder.fit(train['type'])\n",
        "train['type'] = encoder.transform(train['type'])"
      ],
      "metadata": {
        "id": "2wgrrVz7QoLB"
      },
      "execution_count": null,
      "outputs": []
    },
    {
      "cell_type": "code",
      "source": [
        "x_train = train.drop(['index', 'type'], axis = 1)\n",
        "y_train = train[['type']]"
      ],
      "metadata": {
        "id": "_CaeICbWPLut"
      },
      "execution_count": null,
      "outputs": []
    },
    {
      "cell_type": "code",
      "metadata": {
        "colab": {
          "base_uri": "https://localhost:8080/"
        },
        "id": "LTniGVcYCCFS",
        "outputId": "c6819900-62d9-48df-b4de-ab7391394805"
      },
      "source": [
        "# cross_validate\n",
        "from sklearn.model_selection import cross_validate\n",
        "from sklearn.tree import DecisionTreeClassifier\n",
        "dt = DecisionTreeClassifier()\n",
        "scores = cross_validate(dt, x_train, y_train)\n",
        "print(scores) \n",
        "\n",
        "# fit_time = 모델 훈련하는데 걸린 시간\n",
        "# score_time = 모델 검증하는데 걸린 시간\n",
        "# test_score = 검증 점수"
      ],
      "execution_count": null,
      "outputs": [
        {
          "output_type": "stream",
          "name": "stdout",
          "text": [
            "{'fit_time': array([0.02870321, 0.03549719, 0.03126574, 0.03366947, 0.0347476 ]), 'score_time': array([0.00268173, 0.0026443 , 0.00261331, 0.00264478, 0.00260997]), 'test_score': array([0.98181818, 0.98727273, 0.98180164, 0.97907188, 0.98726115])}\n"
          ]
        }
      ]
    },
    {
      "cell_type": "code",
      "metadata": {
        "colab": {
          "base_uri": "https://localhost:8080/"
        },
        "id": "mTnPZ5YfDyiE",
        "outputId": "306a37df-37e9-4805-a9b5-1464dba48f80"
      },
      "source": [
        "# 검증 점수의 평균\n",
        "import numpy as np\n",
        "print(np.mean(scores['test_score']))"
      ],
      "execution_count": null,
      "outputs": [
        {
          "output_type": "stream",
          "name": "stdout",
          "text": [
            "0.98344511539416\n"
          ]
        }
      ]
    },
    {
      "cell_type": "code",
      "metadata": {
        "colab": {
          "base_uri": "https://localhost:8080/"
        },
        "id": "RMLWn8PdEk_u",
        "outputId": "ac1b3f58-c7ef-44e3-ed5b-b1082c49e76d"
      },
      "source": [
        "# 회귀 모델일 경우 KFold()\n",
        "# 분류 모델일 경우 StratifiedKFold()\n",
        "\n",
        "# 분류 모델인 DecisionTreeClassifier 는 StratifiedKFold() 사용\n",
        "from sklearn.model_selection import StratifiedKFold\n",
        "scores = cross_validate(dt, x_train, y_train, cv = StratifiedKFold())\n",
        "print(scores) "
      ],
      "execution_count": null,
      "outputs": [
        {
          "output_type": "stream",
          "name": "stdout",
          "text": [
            "{'fit_time': array([0.03014779, 0.03422737, 0.03189683, 0.03374815, 0.03533077]), 'score_time': array([0.00296164, 0.00312352, 0.00312543, 0.00306916, 0.00301743]), 'test_score': array([0.98181818, 0.99      , 0.98089172, 0.98362147, 0.98908098])}\n"
          ]
        }
      ]
    },
    {
      "cell_type": "code",
      "metadata": {
        "colab": {
          "base_uri": "https://localhost:8080/"
        },
        "id": "RWhU9KiMFY7C",
        "outputId": "b14d3f61-f6ca-4c41-e997-e33ba9c05b7e"
      },
      "source": [
        "# cross_validate() 는 훈련세트를 섞지 않는다 --> shuffle = True\n",
        "splitter = StratifiedKFold(n_splits = 10, shuffle = True, random_state = 42) # n_splits --> 몇폴드 교차검증을 할지 결정 --> 기본은 5폴드\n",
        "scores = cross_validate(dt, x_train, y_train, cv = splitter)\n",
        "print(np.mean(scores['test_score'])) "
      ],
      "execution_count": null,
      "outputs": [
        {
          "output_type": "stream",
          "name": "stdout",
          "text": [
            "0.9845368438483192\n"
          ]
        }
      ]
    },
    {
      "cell_type": "markdown",
      "source": [
        "## 튜닝"
      ],
      "metadata": {
        "id": "7WSko8TZTjWK"
      }
    },
    {
      "cell_type": "markdown",
      "source": [
        "### Grid Search vs Random Search vs Bayesian Optimization\n",
        "1. Grid Search\n",
        "  * 장점 : 내가 원하는 파라미터 범위를 지정할 수 있다\n",
        "  * 단점 : 내가 지정한 범위가 성능 최고점이 아닐 가능성이 있다\n",
        "\n",
        "---\n",
        "2. Random Search\n",
        "  * 장점 : 파라미터 범위가 랜덤이니 성능 최고점에 도달할 가능성이 있다\n",
        "  * 단점 : 오히려 성능이 Grid Search에 비해 안좋아질 수 있다\n",
        "\n",
        "---\n",
        "3. Bayesian Optimization\n",
        "  * 장점 : 결과값에 대한 신뢰도가 높고 \"최적의 값\"을 찾아갈 수 있다\n",
        "  * 단점 : Random 하게 탐색하는 횟수인 R번을 잘 지정해주지 않으면 모델 성능이 떨어진다\n",
        "\n",
        "\n",
        "\n"
      ],
      "metadata": {
        "id": "covyBQ3AVZ9h"
      }
    },
    {
      "cell_type": "markdown",
      "source": [
        "### Bayesian Optimization\n",
        "1. 처음 R번은 정말 Random하게 좌표를 꺼내 성능을 확인한다\n",
        "2. 이후 B번은 Bayesian Optimization을 통해 B번만큼 최적의 값을 찾는다"
      ],
      "metadata": {
        "id": "5nzy61ojTk-G"
      }
    },
    {
      "cell_type": "code",
      "source": [
        "!pip install bayesian-optimization"
      ],
      "metadata": {
        "colab": {
          "base_uri": "https://localhost:8080/"
        },
        "id": "_9oCoFPbUs_t",
        "outputId": "2e41fc84-57fc-467e-9bc7-25587dbec2d8"
      },
      "execution_count": null,
      "outputs": [
        {
          "output_type": "stream",
          "name": "stdout",
          "text": [
            "Collecting bayesian-optimization\n",
            "  Downloading bayesian-optimization-1.2.0.tar.gz (14 kB)\n",
            "Requirement already satisfied: numpy>=1.9.0 in /usr/local/lib/python3.7/dist-packages (from bayesian-optimization) (1.19.5)\n",
            "Requirement already satisfied: scipy>=0.14.0 in /usr/local/lib/python3.7/dist-packages (from bayesian-optimization) (1.4.1)\n",
            "Requirement already satisfied: scikit-learn>=0.18.0 in /usr/local/lib/python3.7/dist-packages (from bayesian-optimization) (1.0.2)\n",
            "Requirement already satisfied: threadpoolctl>=2.0.0 in /usr/local/lib/python3.7/dist-packages (from scikit-learn>=0.18.0->bayesian-optimization) (3.0.0)\n",
            "Requirement already satisfied: joblib>=0.11 in /usr/local/lib/python3.7/dist-packages (from scikit-learn>=0.18.0->bayesian-optimization) (1.1.0)\n",
            "Building wheels for collected packages: bayesian-optimization\n",
            "  Building wheel for bayesian-optimization (setup.py) ... \u001b[?25l\u001b[?25hdone\n",
            "  Created wheel for bayesian-optimization: filename=bayesian_optimization-1.2.0-py3-none-any.whl size=11685 sha256=4f4d9a3e8d46aac023001f9f6d8276ffe54c9055dadcda9dd3e92586221784de\n",
            "  Stored in directory: /root/.cache/pip/wheels/fd/9b/71/f127d694e02eb40bcf18c7ae9613b88a6be4470f57a8528c5b\n",
            "Successfully built bayesian-optimization\n",
            "Installing collected packages: bayesian-optimization\n",
            "Successfully installed bayesian-optimization-1.2.0\n"
          ]
        }
      ]
    },
    {
      "cell_type": "code",
      "source": [
        "# 라이브러리 임포트\n",
        "from bayes_opt import BayesianOptimization"
      ],
      "metadata": {
        "id": "Ro3TsaA1U9IG"
      },
      "execution_count": null,
      "outputs": []
    },
    {
      "cell_type": "code",
      "source": [
        "# 입력 타겟 분리\n",
        "X = train.drop(['index', 'quality'], axis = 1)\n",
        "Y = train['quality']"
      ],
      "metadata": {
        "id": "13iG6NcAC5dt"
      },
      "execution_count": null,
      "outputs": []
    },
    {
      "cell_type": "code",
      "source": [
        "# 랜덤포레스트 하이퍼 파라미터 범위를 지정\n",
        "rf_parameter_bounds = {'max_depth' : (1,3),\n",
        "                      'n_estimators' : (30, 100)}\n",
        "rf_parameter_bounds"
      ],
      "metadata": {
        "colab": {
          "base_uri": "https://localhost:8080/"
        },
        "id": "18c90C7mDSNN",
        "outputId": "f95fd929-6641-463c-8863-89d37868dc64"
      },
      "execution_count": null,
      "outputs": [
        {
          "output_type": "execute_result",
          "data": {
            "text/plain": [
              "{'max_depth': (1, 3), 'n_estimators': (30, 100)}"
            ]
          },
          "metadata": {},
          "execution_count": 27
        }
      ]
    },
    {
      "cell_type": "code",
      "source": [
        "from sklearn.ensemble import RandomForestClassifier\n",
        "from sklearn.model_selection import train_test_split\n",
        "from sklearn.metrics import *\n",
        "\n",
        "def rf_bo(max_depth, n_estimators):\n",
        "  rf_params = {'max_depth' : int(round(max_depth)),\n",
        "               'n_estimators' : int(round(n_estimators))}\n",
        "  rf = RandomForestClassifier(**rf_params) # \"**\"을 붙이면 딕셔너리형태로 전달한다\n",
        "\n",
        "  X_train, X_valid, Y_train, Y_valid = train_test_split(X, Y, test_size = 0.2)\n",
        "\n",
        "  rf.fit(X_train, Y_train)\n",
        "  score = accuracy_score(Y_valid, rf.predict(X_valid)) # 분류모델 기준 정답을 얼마나 맞췄는지 --> accuracy_score\n",
        "  return score"
      ],
      "metadata": {
        "id": "WX0WV8VqDxxZ"
      },
      "execution_count": null,
      "outputs": []
    },
    {
      "cell_type": "code",
      "source": [
        "# Bayesian Optimization 객체설정\n",
        "BO_rf = BayesianOptimization(f = rf_bo, pbounds = rf_parameter_bounds, random_state = 0)\n",
        "\n",
        "# Bayesian Optimization 실행\n",
        "BO_rf.maximize(init_points = 5, n_iter = 5) # init_points : 처음 랜덤 R번\n",
        "                                            # n_iter : 반복 횟수(많을 수록 정확한 값을 얻을 수 있다)"
      ],
      "metadata": {
        "colab": {
          "base_uri": "https://localhost:8080/"
        },
        "id": "HU4Wc8BDGD_n",
        "outputId": "2b5571e3-e4e5-46b6-ac66-326ad0dc85fd"
      },
      "execution_count": null,
      "outputs": [
        {
          "output_type": "stream",
          "name": "stdout",
          "text": [
            "|   iter    |  target   | max_depth | n_esti... |\n",
            "-------------------------------------------------\n",
            "| \u001b[0m 1       \u001b[0m | \u001b[0m 0.5245  \u001b[0m | \u001b[0m 2.098   \u001b[0m | \u001b[0m 80.06   \u001b[0m |\n",
            "| \u001b[0m 2       \u001b[0m | \u001b[0m 0.52    \u001b[0m | \u001b[0m 2.206   \u001b[0m | \u001b[0m 68.14   \u001b[0m |\n",
            "| \u001b[95m 3       \u001b[0m | \u001b[95m 0.5255  \u001b[0m | \u001b[95m 1.847   \u001b[0m | \u001b[95m 75.21   \u001b[0m |\n",
            "| \u001b[0m 4       \u001b[0m | \u001b[0m 0.5055  \u001b[0m | \u001b[0m 1.875   \u001b[0m | \u001b[0m 92.42   \u001b[0m |\n",
            "| \u001b[95m 5       \u001b[0m | \u001b[95m 0.5309  \u001b[0m | \u001b[95m 2.927   \u001b[0m | \u001b[95m 56.84   \u001b[0m |\n",
            "| \u001b[95m 6       \u001b[0m | \u001b[95m 0.5473  \u001b[0m | \u001b[95m 2.901   \u001b[0m | \u001b[95m 48.39   \u001b[0m |\n",
            "| \u001b[0m 7       \u001b[0m | \u001b[0m 0.5464  \u001b[0m | \u001b[0m 2.351   \u001b[0m | \u001b[0m 47.63   \u001b[0m |\n",
            "| \u001b[0m 8       \u001b[0m | \u001b[0m 0.5255  \u001b[0m | \u001b[0m 3.0     \u001b[0m | \u001b[0m 30.0    \u001b[0m |\n",
            "| \u001b[0m 9       \u001b[0m | \u001b[0m 0.5282  \u001b[0m | \u001b[0m 3.0     \u001b[0m | \u001b[0m 41.45   \u001b[0m |\n",
            "| \u001b[0m 10      \u001b[0m | \u001b[0m 0.48    \u001b[0m | \u001b[0m 1.0     \u001b[0m | \u001b[0m 50.78   \u001b[0m |\n",
            "=================================================\n"
          ]
        }
      ]
    },
    {
      "cell_type": "code",
      "source": [
        "max_params = BO_rf.max['params']\n",
        "max_params\n",
        "\n",
        "# 하이퍼 파라미터가 {'max_depth': 2.901408531982906, 'n_estimators': 48.39258528060108} 일때 가장 좋다"
      ],
      "metadata": {
        "colab": {
          "base_uri": "https://localhost:8080/"
        },
        "id": "ayyk-RgUHpZp",
        "outputId": "4b8fad44-8125-4116-b4c9-0bd7bf109c3f"
      },
      "execution_count": null,
      "outputs": [
        {
          "output_type": "execute_result",
          "data": {
            "text/plain": [
              "{'max_depth': 2.901408531982906, 'n_estimators': 48.39258528060108}"
            ]
          },
          "metadata": {},
          "execution_count": 34
        }
      ]
    }
  ]
}