{
  "nbformat": 4,
  "nbformat_minor": 0,
  "metadata": {
    "colab": {
      "name": "지도학습 비지도학습 // 훈련세트 테스트세트",
      "provenance": [],
      "collapsed_sections": [],
      "toc_visible": true,
      "authorship_tag": "ABX9TyPEzpeTylhSZg8wbTMp8ImC",
      "include_colab_link": true
    },
    "kernelspec": {
      "name": "python3",
      "display_name": "Python 3"
    },
    "language_info": {
      "name": "python"
    }
  },
  "cells": [
    {
      "cell_type": "markdown",
      "metadata": {
        "id": "view-in-github",
        "colab_type": "text"
      },
      "source": [
        "<a href=\"https://colab.research.google.com/github/ParkJeongUng/Ung.github.io/blob/master/_notebooks/%EC%A7%80%EB%8F%84%ED%95%99%EC%8A%B5_%EB%B9%84%EC%A7%80%EB%8F%84%ED%95%99%EC%8A%B5_%ED%9B%88%EB%A0%A8%EC%84%B8%ED%8A%B8_%ED%85%8C%EC%8A%A4%ED%8A%B8%EC%84%B8%ED%8A%B8.ipynb\" target=\"_parent\"><img src=\"https://colab.research.google.com/assets/colab-badge.svg\" alt=\"Open In Colab\"/></a>"
      ]
    },
    {
      "cell_type": "markdown",
      "metadata": {
        "id": "ugp-iodODapI"
      },
      "source": [
        "# 지도학습 비지도학습 // 훈련세트 테스트세트\n",
        "1. 지도 학습과 비지도 학습\n",
        "*   지도학습 --> 입력(input)데이터와 타깃(target)데이터 2가지를 합친 훈련 데이터를 가지고있다.\n",
        "*   비지도학습 --> 타깃데이터 없이 입력데이터만 사용한다.\n",
        "\n",
        "2. 훈련 세트와 테스트 세트\n",
        "* 훈련 세트 --> 모델의 훈련을 위해 사용되는 데이터\n",
        "* 테스트 세트 --> 훈련된 모델의 평가에 사용되는 데이터 --> 일반적으로 이미 준비된 데이터의 일부를 떼어서 사용\n",
        "\n"
      ]
    },
    {
      "cell_type": "markdown",
      "metadata": {
        "id": "Rp5Yi-qlpGkQ"
      },
      "source": [
        "## 훈련세트와 테스트세트\n",
        " 샘플링편향 발생"
      ]
    },
    {
      "cell_type": "code",
      "metadata": {
        "id": "XNsbiGv2EgEM"
      },
      "source": [
        "fish_length = [25.4, 26.3, 26.5, 29.0, 29.0, 29.7, 29.7, 30.0, 30.0, 30.7, 31.0, 31.0, \n",
        "                31.5, 32.0, 32.0, 32.0, 33.0, 33.0, 33.5, 33.5, 34.0, 34.0, 34.5, 35.0, \n",
        "                35.0, 35.0, 35.0, 36.0, 36.0, 37.0, 38.5, 38.5, 39.5, 41.0, 41.0, 9.8, \n",
        "                10.5, 10.6, 11.0, 11.2, 11.3, 11.8, 11.8, 12.0, 12.2, 12.4, 13.0, 14.3, 15.0]\n",
        "\n",
        "fish_weight = [242.0, 290.0, 340.0, 363.0, 430.0, 450.0, 500.0, 390.0, 450.0, 500.0, 475.0, 500.0, \n",
        "                500.0, 340.0, 600.0, 600.0, 700.0, 700.0, 610.0, 650.0, 575.0, 685.0, 620.0, 680.0, \n",
        "                700.0, 725.0, 720.0, 714.0, 850.0, 1000.0, 920.0, 955.0, 925.0, 975.0, 950.0, 6.7, \n",
        "                7.5, 7.0, 9.7, 9.8, 8.7, 10.0, 9.9, 9.8, 12.2, 13.4, 12.2, 19.7, 19.9]"
      ],
      "execution_count": null,
      "outputs": []
    },
    {
      "cell_type": "code",
      "metadata": {
        "id": "NogP0ADnHZ7d"
      },
      "source": [
        "# zip() 함수 이용해서 각 생선의 길이와 무게를 담은 2차원 list 생성\n",
        "fish_data = [[l, w] for l, w in zip(fish_length, fish_weight)]\n",
        "fish_target = [1] * 35 + [0] * 14"
      ],
      "execution_count": null,
      "outputs": []
    },
    {
      "cell_type": "code",
      "metadata": {
        "id": "YJi4AYhjHdTl"
      },
      "source": [
        "#사이킷런 kneighbor 임포트\n",
        "from sklearn.neighbors import KNeighborsClassifier\n",
        "kn = KNeighborsClassifier()"
      ],
      "execution_count": null,
      "outputs": []
    },
    {
      "cell_type": "code",
      "metadata": {
        "id": "4QpCsELPHei5"
      },
      "source": [
        "# 훈련세트(35개) 와 테스트세트(14개) 구분하기 --> 슬라이싱\n",
        "train_input = fish_data[: 35]\n",
        "train_target = fish_target[: 35]\n",
        "test_input = fish_data[35: ]\n",
        "test_target = fish_target[35: ]"
      ],
      "execution_count": null,
      "outputs": []
    },
    {
      "cell_type": "code",
      "metadata": {
        "colab": {
          "base_uri": "https://localhost:8080/"
        },
        "id": "LoDCwG8-IGE1",
        "outputId": "10db3c95-c3ff-4692-fc88-1250f6cabe6d"
      },
      "source": [
        "# 훈련세트 --> fit()함수로 모델 훈련\n",
        "# 테스트세트 --> score()함수로 모델 평가\n",
        "kn = kn.fit(train_input, train_target)\n",
        "kn.score(test_input, test_target)\n",
        "\n",
        "#샘플링 편향 발생 --> 마지막 14개(빙어 특성 14개)를 test_input 으로 넣어놔서 훈련에 사용된 train_input 에는 빙어가 하나도 없음 --> 데이터를 섞든지 골고루 샘플을 뽑아야 함 --> numpy 사용"
      ],
      "execution_count": null,
      "outputs": [
        {
          "output_type": "execute_result",
          "data": {
            "text/plain": [
              "0.0"
            ]
          },
          "metadata": {},
          "execution_count": 78
        }
      ]
    },
    {
      "cell_type": "markdown",
      "metadata": {
        "id": "J2TrOAFdJJuc"
      },
      "source": [
        "## NUMPY를 이용한 샘플링 편향 해결\n",
        "* 파이썬의 대표적인 배열 라이브러리\n",
        "* 고차원의 배열을 쉽게 만들고 조작가능"
      ]
    },
    {
      "cell_type": "code",
      "metadata": {
        "id": "CUYPbqxXJg_4"
      },
      "source": [
        "# numpy 라이브러리 임포트\n",
        "import numpy as np"
      ],
      "execution_count": null,
      "outputs": []
    },
    {
      "cell_type": "code",
      "metadata": {
        "id": "HSzwI-WxJzci"
      },
      "source": [
        "# 파이썬 리스트를 넘파이 배열로 바꾸기 --> array()\n",
        "input_arr = np.array(fish_data)\n",
        "target_arr = np.array(fish_target)"
      ],
      "execution_count": null,
      "outputs": []
    },
    {
      "cell_type": "code",
      "metadata": {
        "colab": {
          "base_uri": "https://localhost:8080/"
        },
        "id": "cjAxwm7lKAgn",
        "outputId": "fa11e55d-4142-4e85-a42d-3e2fdfc5c4ab"
      },
      "source": [
        "# 배열의 크기를 알려주는 --> .shpae --> (샘플 수, 특성 수)를 출력한다.\n",
        "print(input_arr.shape)"
      ],
      "execution_count": null,
      "outputs": [
        {
          "output_type": "stream",
          "name": "stdout",
          "text": [
            "(49, 2)\n"
          ]
        }
      ]
    },
    {
      "cell_type": "code",
      "metadata": {
        "colab": {
          "base_uri": "https://localhost:8080/"
        },
        "id": "y3EZgceZKdCN",
        "outputId": "fcc8f31c-74a2-4f51-8123-4b53ddb4c64c"
      },
      "source": [
        "# 무작위로 샘플링 하기\n",
        "# input 과 target 에서 같은 인덱스는 함께 선택되어야 한다. input의 2번은 train으로 target의 2번은 test로 가면 안된다.\n",
        "# 넘파이의 random 함수들은 실행할 때마다 다른 결과를 만든다. --> random.seed()를 지정하면 항상 일정한 결과를 얻을 수 있다.\n",
        "np.random.seed(42)\n",
        "index = np.arange(49)\n",
        "np.random.shuffle(index)\n",
        "index"
      ],
      "execution_count": null,
      "outputs": [
        {
          "output_type": "execute_result",
          "data": {
            "text/plain": [
              "array([13, 45, 47, 44, 17, 27, 26, 25, 31, 19, 12,  4, 34,  8,  3,  6, 40,\n",
              "       41, 46, 15,  9, 16, 24, 33, 30,  0, 43, 32,  5, 29, 11, 36,  1, 21,\n",
              "        2, 37, 35, 23, 39, 10, 22, 18, 48, 20,  7, 42, 14, 28, 38])"
            ]
          },
          "metadata": {},
          "execution_count": 5
        }
      ]
    },
    {
      "cell_type": "code",
      "metadata": {
        "colab": {
          "base_uri": "https://localhost:8080/"
        },
        "id": "AjG4Jf3qMtDp",
        "outputId": "fd15533f-5fbb-4c75-979e-b45138fa6587"
      },
      "source": [
        "# numpy는 배열 인덱싱이 가능하다. --> 1개의 배열안에서 여러개의 원소를 선택해서 출력이 가능하다\n",
        "print(input_arr[[1,3]]) # input_arr의 2번째와 4번째 원소 출력\n",
        "\n",
        "# numpy 배열을 인덱스로 전하기 --> 훈련세트 생성\n",
        "train_input = input_arr[index [ : 35]]\n",
        "train_target = input_arr[index [ : 35]]\n",
        "\n",
        "#랜덤으로 만들어진 index의 첫번째 원소는 13 --> input_arr의 14번째 원소(index = 13)가 train_input의 1번째 원소(index = 0)에 들어감\n",
        "print(input_arr[13], train_input[0])\n",
        "\n",
        "# numpy 배열을 인덱스로 전하기 --> 테스트세트 생성\n",
        "test_input = input_arr[index [35 : ]]\n",
        "test_target = input_arr[index [35 : ]]\n",
        "\n",
        "#랜덤으로 만들어진 index의 35번째 원소는 37 --> input_arr의 38번째 원소(indexe = 37)가 test_input의 1번째 원소(index = 0)에 들어감 \n",
        "print(input_arr[37], test_input[0])"
      ],
      "execution_count": null,
      "outputs": [
        {
          "output_type": "stream",
          "name": "stdout",
          "text": [
            "[[ 26.3 290. ]\n",
            " [ 29.  363. ]]\n",
            "[ 32. 340.] [ 32. 340.]\n",
            "[10.6  7. ] [10.6  7. ]\n"
          ]
        }
      ]
    },
    {
      "cell_type": "code",
      "metadata": {
        "colab": {
          "base_uri": "https://localhost:8080/",
          "height": 279
        },
        "id": "_ikr8_wENNJO",
        "outputId": "2791e129-24d1-411a-bd65-dc1afd7f6337"
      },
      "source": [
        "# 훈련세트와 테스트세트가 잘 섞여서 생성되었는지 산점도로 확인\n",
        "import matplotlib.pyplot as plt\n",
        "plt.scatter(train_input[ :, 0], train_input[ :, 1])\n",
        "plt.scatter(test_input[ :, 0], test_input[ :, 1])\n",
        "plt.xlabel('length')\n",
        "plt.ylabel('weight')\n",
        "plt.show()"
      ],
      "execution_count": null,
      "outputs": [
        {
          "output_type": "display_data",
          "data": {
            "image/png": "[encoded data removed]",
            "text/plain": [
              "<Figure size 432x288 with 1 Axes>"
            ]
          },
          "metadata": {
            "needs_background": "light"
          }
        }
      ]
    },
    {
      "cell_type": "markdown",
      "metadata": {
        "id": "nqM8tL4_l_G_"
      },
      "source": [
        "## 연습"
      ]
    },
    {
      "cell_type": "code",
      "metadata": {
        "colab": {
          "base_uri": "https://localhost:8080/"
        },
        "id": "5urlmKR1Uzq7",
        "outputId": "d5e12e1f-adaa-45c6-cc3b-337bbdf2141d"
      },
      "source": [
        "fish_length = [25.4, 26.3, 26.5, 29.0, 29.0, 29.7, 29.7, 30.0, 30.0, 30.7, 31.0, 31.0, \n",
        "                31.5, 32.0, 32.0, 32.0, 33.0, 33.0, 33.5, 33.5, 34.0, 34.0, 34.5, 35.0, \n",
        "                35.0, 35.0, 35.0, 36.0, 36.0, 37.0, 38.5, 38.5, 39.5, 41.0, 41.0, 9.8, \n",
        "                10.5, 10.6, 11.0, 11.2, 11.3, 11.8, 11.8, 12.0, 12.2, 12.4, 13.0, 14.3, 15.0]\n",
        "\n",
        "fish_weight = [242.0, 290.0, 340.0, 363.0, 430.0, 450.0, 500.0, 390.0, 450.0, 500.0, 475.0, 500.0, \n",
        "                500.0, 340.0, 600.0, 600.0, 700.0, 700.0, 610.0, 650.0, 575.0, 685.0, 620.0, 680.0, \n",
        "                700.0, 725.0, 720.0, 714.0, 850.0, 1000.0, 920.0, 955.0, 925.0, 975.0, 950.0, 6.7, \n",
        "                7.5, 7.0, 9.7, 9.8, 8.7, 10.0, 9.9, 9.8, 12.2, 13.4, 12.2, 19.7, 19.9]\n",
        "\n",
        "fish_data = [[l, w] for l, w in zip(fish_length, fish_weight)]\n",
        "fish_target = [1] * 35 + [0] * 14\n",
        "\n",
        "import numpy as np\n",
        "\n",
        "input_arr = np.array(fish_data)\n",
        "target_arr = np.array(fish_target)\n",
        "\n",
        "np.random.seed(42)\n",
        "index = np.arange(49)\n",
        "np.random.shuffle(index)\n",
        "\n",
        "train_input = input_arr[index[ : 35]]\n",
        "train_target = target_arr[index [ : 35]]\n",
        "\n",
        "test_input = input_arr[index[35 :]]\n",
        "test_target = target_arr[index[35 :]]\n",
        "\n",
        "from sklearn.neighbors import KNeighborsClassifier\n",
        "kn = KNeighborsClassifier()\n",
        "\n",
        "kn.fit(train_input, train_target)\n",
        "kn.score(test_input, test_target)"
      ],
      "execution_count": null,
      "outputs": [
        {
          "output_type": "execute_result",
          "data": {
            "text/plain": [
              "1.0"
            ]
          },
          "metadata": {},
          "execution_count": 17
        }
      ]
    }
  ]
}
